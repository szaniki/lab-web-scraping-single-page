{
 "cells": [
  {
   "cell_type": "code",
   "execution_count": 44,
   "id": "b6a56dcd",
   "metadata": {},
   "outputs": [],
   "source": [
    "from bs4 import BeautifulSoup\n",
    "import requests\n",
    "import pandas as pd\n",
    "from random import randint"
   ]
  },
  {
   "cell_type": "markdown",
   "id": "ecf74804",
   "metadata": {},
   "source": [
    "# Scraping the first 100 songs"
   ]
  },
  {
   "cell_type": "code",
   "execution_count": 45,
   "id": "f495a2ee",
   "metadata": {},
   "outputs": [],
   "source": [
    "url = \"https://playback.fm/charts/rnb/2017\""
   ]
  },
  {
   "cell_type": "code",
   "execution_count": 46,
   "id": "f6a5fcef",
   "metadata": {},
   "outputs": [
    {
     "data": {
      "text/plain": [
       "200"
      ]
     },
     "execution_count": 46,
     "metadata": {},
     "output_type": "execute_result"
    }
   ],
   "source": [
    "response = requests.get(url) \n",
    "response.status_code "
   ]
  },
  {
   "cell_type": "code",
   "execution_count": 166,
   "id": "c26606f8",
   "metadata": {},
   "outputs": [],
   "source": [
    "response.content"
   ]
  },
  {
   "cell_type": "code",
   "execution_count": 48,
   "id": "a394a9e7",
   "metadata": {},
   "outputs": [],
   "source": [
    "# parse html (create the 'soup'), we create a NEW SOUP\n",
    "soup = BeautifulSoup(response.content, \"html.parser\")"
   ]
  },
  {
   "cell_type": "code",
   "execution_count": 167,
   "id": "6f1cf7b5",
   "metadata": {},
   "outputs": [],
   "source": [
    "soup"
   ]
  },
  {
   "cell_type": "code",
   "execution_count": 168,
   "id": "97702af6",
   "metadata": {},
   "outputs": [],
   "source": [
    "#soup.select(\"#myTable > tbody > tr:nth-child(1) > td:nth-child(2)\")\n",
    "soup.select(\"td:nth-child(2)\")"
   ]
  },
  {
   "cell_type": "code",
   "execution_count": 169,
   "id": "300d9f76",
   "metadata": {},
   "outputs": [],
   "source": [
    "print(soup.prettify()) # to find the song and the artist"
   ]
  },
  {
   "cell_type": "code",
   "execution_count": 52,
   "id": "94e3d66a",
   "metadata": {},
   "outputs": [],
   "source": [
    "#document.querySelector(\"#myTable > tbody > tr:nth-child(1) > td:nth-child(2) > a\")"
   ]
  },
  {
   "cell_type": "code",
   "execution_count": 170,
   "id": "306192f2",
   "metadata": {},
   "outputs": [],
   "source": [
    "# LOOKING FOR ARTIST            \n",
    "soup.select(\"td:nth-child(2) > a\")"
   ]
  },
  {
   "cell_type": "code",
   "execution_count": 54,
   "id": "3b191f9f",
   "metadata": {},
   "outputs": [
    {
     "data": {
      "text/plain": [
       "'\\nBruno Mars\\n'"
      ]
     },
     "execution_count": 54,
     "metadata": {},
     "output_type": "execute_result"
    }
   ],
   "source": [
    "soup.select(\"td:nth-child(2) > a\")[0].get_text()"
   ]
  },
  {
   "cell_type": "code",
   "execution_count": 55,
   "id": "a202ec88",
   "metadata": {},
   "outputs": [
    {
     "data": {
      "text/plain": [
       "'Wild Thoughts'"
      ]
     },
     "execution_count": 55,
     "metadata": {},
     "output_type": "execute_result"
    }
   ],
   "source": [
    "# LOOKING FOR THE SONG\n",
    "\n",
    "#myTable > tbody > tr:nth-child(1) > td.mobile-hide > a > span.song\n",
    "\n",
    "soup.select(\"td.mobile-hide > a > span.song\")[1].get_text()\n"
   ]
  },
  {
   "cell_type": "markdown",
   "id": "31fd0991",
   "metadata": {},
   "source": [
    "## Making beautiful table"
   ]
  },
  {
   "cell_type": "code",
   "execution_count": 56,
   "id": "76b87847",
   "metadata": {},
   "outputs": [
    {
     "name": "stdout",
     "output_type": "stream",
     "text": [
      "['\\nBruno Mars\\n', '\\nDJ Khaled featuring Rihanna & Bryson Tiller\\n', '\\nPost Malone\\n', '\\nDJ Khaled\\n', '\\nBruno Mars\\n', '\\nKendrick Lamar\\n', '\\nThe Weeknd featuring Daft Punk\\n', '\\nChildish Gambino\\n', '\\nThe Weeknd featuring Daft Punk\\n', '\\nFrench Montana\\n', '\\nKhalid\\n', '\\nDrake\\n', '\\nRihanna\\n', '\\nCalvin Harris featuring Pharrell Williams, Katy Perry & Big Sean\\n', '\\nCalvin Harris featuring Frank Ocean & Migos\\n', '\\nKhalid\\n', '\\nCardi B\\n', '\\nFuture\\n', '\\nSZA featuring Travis Scott\\n', '\\nLogic\\n', '\\nBlackbear\\n', '\\nLil Uzi Vert\\n', '\\nBruno Mars\\n', '\\nSZA\\n', '\\nMigos featuring Lil Uzi Vert\\n', '\\nChris Brown featuring Usher & Gucci Mane\\n', '\\nDJ Khaled featuring Beyonce & JAY Z\\n', '\\nKyle\\n', '\\nChris Brown\\n', '\\nThe Weeknd\\n', '\\nRuss\\n', '\\nThe Weeknd\\n', '\\nFuture featuring Rihanna\\n', '\\nChris Brown featuring Yo Gotti, A Boogie Wit da Hoodie & Kodak Black\\n', '\\nJohn Legend\\n', '\\nChris Brown\\n', '\\nPost Malone featuring Quavo\\n ', '\\nEminem\\n', '\\nJacquees\\n', '\\nXXXTENTACION featuring Trippie Redd\\n', '\\nDrake\\n', '\\nDrake\\n', '\\nMiguel featuring Travis Scott\\n', '\\nDrake\\n', '\\nG-Eazy\\n', '\\nLil Pump\\n', '\\nKendrick Lamar\\n', '\\nKodak Black\\n', '\\nDJ Khaled featuring Nicki Minaj, Chris Brown, August Alsina, Jeremih, Future & Rick Ross\\n', '\\n21 Savage\\n', '\\nTrey Songz\\n', '\\nDrake featuring Jorja Smith & Black Coffee\\n', '\\nYo Gotti\\n', '\\nCalvin Harris featuring Future & Khalid\\n', '\\nblackbear\\n', '\\nPARTYNEXTDOOR\\n', '\\nNF\\n', '\\nPost Malone\\n', '\\nThe Weeknd\\n', '\\nMigos\\n', '\\nKendrick Lamar\\n', '\\nMigos, Nicki Minaj & Cardi B\\n', '\\nKhalid\\n', '\\nKendrick Lamar\\n', '\\nAyo & Teo\\n', '\\nGucci Mane\\n', '\\nKehlani\\n', '\\nThe Weeknd\\n', '\\nRae Sremmurd featuring Gucci Mane\\n', '\\nDeJ Loaf\\n', '\\nDrake\\n', '\\nThe Weeknd featuring Kendrick Lamar\\n', '\\nBryson Tiller\\n', '\\nTank\\n', '\\nBryson Tiller\\n', '\\nSZA\\n', '\\nG-Eazy & Kehlani\\n', '\\nKehlani\\n', '\\nPlayboi Carti\\n', '\\nMigos\\n', '\\nKendrick Lamar\\n', '\\nLil Uzi Vert\\n', '\\nA Boogie wit da Hoodie\\n', '\\nYFN Lucci\\n', '\\nNicki Minaj, Drake & Lil Wayne\\n', '\\nG-Eazy & Halsey\\n', '\\nGucci Mane\\n', '\\nXXXTentacion\\n', '\\nXXXTentacion\\n', '\\nEminem\\n', '\\nXXXTentacion\\n', '\\nTravis Scott\\n', '\\nGoldlink\\n', '\\nKodak Black\\n', '\\nDrake\\n', '\\nDrake\\n', '\\n6ix9ine\\n', '\\nBig Sean\\n', '\\n2 Chainz\\n', '\\nOffset & Metro Boomin\\n']\n",
      "[\"That's What I Like\", 'Wild Thoughts', 'Rockstar', \"I'm the One\", '24K Magic', 'Humble.', 'Starboy', 'Redbone', 'I Feel It Coming', 'Unforgettable', 'Location', 'Passionfruit', 'Love On The Brain', 'Feels', 'Slide', 'Young Dumb & Broke', 'Bodak Yellow', 'Mask Off', 'Love Galore', '1-800-273-8255', 'Do Re Mi', 'XO Tour Llif3', 'Versace on the Floor', 'The Weekend', 'Bad And Boujee', 'Party', 'Shining', 'iSpy', 'Privacy', 'Party Monster', 'Losin Control', 'Reminder', 'Selfish', 'Pills And Automobiles', 'Love Me Now', 'Questions', 'Congratulations', 'River', 'B.E.D.', 'F**k Love', 'Signs', 'Blem', 'Sky Walker', 'Teenage Fever', 'No Limit', 'Gucci Gang', 'DNA.', 'Tunnel Vision', 'Do You Mind', 'Bank Account', 'Nobody Else But You', 'Get It Together', 'Rake It Up', 'Rollin', 'idfc', 'Not Nice', 'Let You Down', 'I Fall Apart', 'Die For You', 'T-Shirt', 'Love.', 'MotorSport', 'Saved', 'Loyalty.', 'Rolex', 'I Get the Bag', 'Distraction', 'Six Feet Under', 'Black Beatles', 'No Fear', 'Portland', 'Sidewalks', 'Run Me Dry', 'When We', 'Somethin Tells Me', 'Broken Clocks', 'Good Life', 'Gangsta', 'Magnolia', 'Slippery', 'Element.', 'The Way Life Goes', 'Drowning', 'Everyday We Lit', 'No Frauds', 'Him & I', 'Both', 'Fuck Love', 'Look at Me!', 'Walk on Water', 'Jocelyn Flores', 'Butterfly Effect', 'Crew', 'Roll in Peace', 'Gyalchester', 'Fake Love', 'Gummo', 'Moves', \"It's a Vibe\", 'Ric Flair Drip']\n"
     ]
    }
   ],
   "source": [
    "#initialize empty lists\n",
    "artist = []\n",
    "song = []\n",
    "\n",
    "num_iter = len(soup.select(\"td:nth-child(2) > a\"))\n",
    "\n",
    "tClist = soup.select(\"td:nth-child(2) > a\")\n",
    "spanlist = soup.select(\"td.mobile-hide > a > span.song\")\n",
    "\n",
    "\n",
    "for i in range(num_iter):\n",
    "    artist.append(tClist[i].get_text())\n",
    "    song.append(spanlist[i].get_text())\n",
    "\n",
    "print(artist)\n",
    "print(song)"
   ]
  },
  {
   "cell_type": "code",
   "execution_count": 57,
   "id": "5e1ddc66",
   "metadata": {},
   "outputs": [],
   "source": [
    "song_list = pd.DataFrame({\"artist\":artist,\n",
    "                       \"song\":song,\n",
    "                      })"
   ]
  },
  {
   "cell_type": "code",
   "execution_count": 58,
   "id": "dae46824",
   "metadata": {},
   "outputs": [
    {
     "data": {
      "text/html": [
       "<div>\n",
       "<style scoped>\n",
       "    .dataframe tbody tr th:only-of-type {\n",
       "        vertical-align: middle;\n",
       "    }\n",
       "\n",
       "    .dataframe tbody tr th {\n",
       "        vertical-align: top;\n",
       "    }\n",
       "\n",
       "    .dataframe thead th {\n",
       "        text-align: right;\n",
       "    }\n",
       "</style>\n",
       "<table border=\"1\" class=\"dataframe\">\n",
       "  <thead>\n",
       "    <tr style=\"text-align: right;\">\n",
       "      <th></th>\n",
       "      <th>artist</th>\n",
       "      <th>song</th>\n",
       "    </tr>\n",
       "  </thead>\n",
       "  <tbody>\n",
       "    <tr>\n",
       "      <th>0</th>\n",
       "      <td>\\nBruno Mars\\n</td>\n",
       "      <td>That's What I Like</td>\n",
       "    </tr>\n",
       "    <tr>\n",
       "      <th>1</th>\n",
       "      <td>\\nDJ Khaled featuring Rihanna &amp; Bryson Tiller\\n</td>\n",
       "      <td>Wild Thoughts</td>\n",
       "    </tr>\n",
       "    <tr>\n",
       "      <th>2</th>\n",
       "      <td>\\nPost Malone\\n</td>\n",
       "      <td>Rockstar</td>\n",
       "    </tr>\n",
       "    <tr>\n",
       "      <th>3</th>\n",
       "      <td>\\nDJ Khaled\\n</td>\n",
       "      <td>I'm the One</td>\n",
       "    </tr>\n",
       "    <tr>\n",
       "      <th>4</th>\n",
       "      <td>\\nBruno Mars\\n</td>\n",
       "      <td>24K Magic</td>\n",
       "    </tr>\n",
       "    <tr>\n",
       "      <th>...</th>\n",
       "      <td>...</td>\n",
       "      <td>...</td>\n",
       "    </tr>\n",
       "    <tr>\n",
       "      <th>95</th>\n",
       "      <td>\\nDrake\\n</td>\n",
       "      <td>Fake Love</td>\n",
       "    </tr>\n",
       "    <tr>\n",
       "      <th>96</th>\n",
       "      <td>\\n6ix9ine\\n</td>\n",
       "      <td>Gummo</td>\n",
       "    </tr>\n",
       "    <tr>\n",
       "      <th>97</th>\n",
       "      <td>\\nBig Sean\\n</td>\n",
       "      <td>Moves</td>\n",
       "    </tr>\n",
       "    <tr>\n",
       "      <th>98</th>\n",
       "      <td>\\n2 Chainz\\n</td>\n",
       "      <td>It's a Vibe</td>\n",
       "    </tr>\n",
       "    <tr>\n",
       "      <th>99</th>\n",
       "      <td>\\nOffset &amp; Metro Boomin\\n</td>\n",
       "      <td>Ric Flair Drip</td>\n",
       "    </tr>\n",
       "  </tbody>\n",
       "</table>\n",
       "<p>100 rows × 2 columns</p>\n",
       "</div>"
      ],
      "text/plain": [
       "                                             artist                song\n",
       "0                                    \\nBruno Mars\\n  That's What I Like\n",
       "1   \\nDJ Khaled featuring Rihanna & Bryson Tiller\\n       Wild Thoughts\n",
       "2                                   \\nPost Malone\\n            Rockstar\n",
       "3                                     \\nDJ Khaled\\n         I'm the One\n",
       "4                                    \\nBruno Mars\\n           24K Magic\n",
       "..                                              ...                 ...\n",
       "95                                        \\nDrake\\n           Fake Love\n",
       "96                                      \\n6ix9ine\\n               Gummo\n",
       "97                                     \\nBig Sean\\n               Moves\n",
       "98                                     \\n2 Chainz\\n         It's a Vibe\n",
       "99                        \\nOffset & Metro Boomin\\n      Ric Flair Drip\n",
       "\n",
       "[100 rows x 2 columns]"
      ]
     },
     "execution_count": 58,
     "metadata": {},
     "output_type": "execute_result"
    }
   ],
   "source": [
    "song_list"
   ]
  },
  {
   "cell_type": "markdown",
   "id": "04d77457",
   "metadata": {},
   "source": [
    "# Scraping the second 100 songs as practice"
   ]
  },
  {
   "cell_type": "code",
   "execution_count": 59,
   "id": "c75902b0",
   "metadata": {},
   "outputs": [],
   "source": [
    "url2 = \"https://playback.fm/charts/rnb/2021\""
   ]
  },
  {
   "cell_type": "code",
   "execution_count": 60,
   "id": "62d18134",
   "metadata": {},
   "outputs": [
    {
     "data": {
      "text/plain": [
       "200"
      ]
     },
     "execution_count": 60,
     "metadata": {},
     "output_type": "execute_result"
    }
   ],
   "source": [
    "response2 = requests.get(url2) \n",
    "response2.status_code "
   ]
  },
  {
   "cell_type": "code",
   "execution_count": 171,
   "id": "cb3eb73e",
   "metadata": {},
   "outputs": [],
   "source": [
    "response2.content"
   ]
  },
  {
   "cell_type": "code",
   "execution_count": 172,
   "id": "d6c3cee3",
   "metadata": {},
   "outputs": [],
   "source": [
    "# parse html (create the 'soup'), we create a NEW SOUP\n",
    "soup2 = BeautifulSoup(response2.content, \"html.parser\")\n",
    "soup2"
   ]
  },
  {
   "cell_type": "code",
   "execution_count": 173,
   "id": "388814ab",
   "metadata": {},
   "outputs": [],
   "source": [
    "#myTable > tbody > tr:nth-child(1) > td:nth-child(2)\n",
    "\n",
    "soup2.select(\"td:nth-child(2)\")"
   ]
  },
  {
   "cell_type": "code",
   "execution_count": 174,
   "id": "847aedde",
   "metadata": {},
   "outputs": [],
   "source": [
    "print(soup2.prettify())"
   ]
  },
  {
   "cell_type": "code",
   "execution_count": 175,
   "id": "66288203",
   "metadata": {},
   "outputs": [],
   "source": [
    "# looking for the artist\n",
    "#myTable > tbody > tr:nth-child(1) > td:nth-child(2) > a\n",
    "\n",
    "soup2.select(\"td:nth-child(2) > a\")"
   ]
  },
  {
   "cell_type": "code",
   "execution_count": 66,
   "id": "90204808",
   "metadata": {},
   "outputs": [
    {
     "data": {
      "text/plain": [
       "[<span class=\"song\" itemprop=\"name\">Leave The Door Open</span>,\n",
       " <span class=\"song\" itemprop=\"name\">Peaches</span>,\n",
       " <span class=\"song\" itemprop=\"name\">Rumors</span>,\n",
       " <span class=\"song\" itemprop=\"name\">Go Crazy</span>,\n",
       " <span class=\"song\" itemprop=\"name\">Roses</span>,\n",
       " <span class=\"song\" itemprop=\"name\">No Love</span>,\n",
       " <span class=\"song\" itemprop=\"name\">You're Mines Still</span>,\n",
       " <span class=\"song\" itemprop=\"name\">Blinding Lights</span>,\n",
       " <span class=\"song\" itemprop=\"name\">Heartbreak Anniversary</span>,\n",
       " <span class=\"song\" itemprop=\"name\">Mood</span>,\n",
       " <span class=\"song\" itemprop=\"name\">No Return</span>,\n",
       " <span class=\"song\" itemprop=\"name\">You Right</span>,\n",
       " <span class=\"song\" itemprop=\"name\">Good Days</span>,\n",
       " <span class=\"song\" itemprop=\"name\">Astronaut In The Ocean</span>,\n",
       " <span class=\"song\" itemprop=\"name\">Streets</span>,\n",
       " <span class=\"song\" itemprop=\"name\">Rockstar</span>,\n",
       " <span class=\"song\" itemprop=\"name\">Bad Morning</span>,\n",
       " <span class=\"song\" itemprop=\"name\">Essence</span>,\n",
       " <span class=\"song\" itemprop=\"name\">Track Star</span>,\n",
       " <span class=\"song\" itemprop=\"name\">On My Side</span>,\n",
       " <span class=\"song\" itemprop=\"name\">Damage</span>,\n",
       " <span class=\"song\" itemprop=\"name\">Wild Side</span>,\n",
       " <span class=\"song\" itemprop=\"name\">Up</span>,\n",
       " <span class=\"song\" itemprop=\"name\">Save Your Tears</span>,\n",
       " <span class=\"song\" itemprop=\"name\">No Where</span>,\n",
       " <span class=\"song\" itemprop=\"name\">Come Through</span>,\n",
       " <span class=\"song\" itemprop=\"name\">Juggernaut</span>,\n",
       " <span class=\"song\" itemprop=\"name\">Pick Up Your Feelings</span>,\n",
       " <span class=\"song\" itemprop=\"name\">Lemonade</span>,\n",
       " <span class=\"song\" itemprop=\"name\">Latest Trends</span>,\n",
       " <span class=\"song\" itemprop=\"name\">Gyalis</span>,\n",
       " <span class=\"song\" itemprop=\"name\">Rapstar</span>,\n",
       " <span class=\"song\" itemprop=\"name\">Industry Baby</span>,\n",
       " <span class=\"song\" itemprop=\"name\">Like I Want You</span>,\n",
       " <span class=\"song\" itemprop=\"name\">Woman</span>,\n",
       " <span class=\"song\" itemprop=\"name\">Throw It Away</span>,\n",
       " <span class=\"song\" itemprop=\"name\">Corso</span>,\n",
       " <span class=\"song\" itemprop=\"name\">Not Another Love Song</span>,\n",
       " <span class=\"song\" itemprop=\"name\">Body</span>,\n",
       " <span class=\"song\" itemprop=\"name\">What You Know Bout Love</span>,\n",
       " <span class=\"song\" itemprop=\"name\">B.S.</span>,\n",
       " <span class=\"song\" itemprop=\"name\">You Got It</span>,\n",
       " <span class=\"song\" itemprop=\"name\">Lemonhead</span>,\n",
       " <span class=\"song\" itemprop=\"name\">Skate</span>,\n",
       " <span class=\"song\" itemprop=\"name\">Wap</span>,\n",
       " <span class=\"song\" itemprop=\"name\">Calling My Phone</span>,\n",
       " <span class=\"song\" itemprop=\"name\">Black Hearted</span>,\n",
       " <span class=\"song\" itemprop=\"name\">U 2 Luv</span>,\n",
       " <span class=\"song\" itemprop=\"name\">Reciprocate</span>,\n",
       " <span class=\"song\" itemprop=\"name\">Wasting Time</span>,\n",
       " <span class=\"song\" itemprop=\"name\">I Like Dat</span>,\n",
       " <span class=\"song\" itemprop=\"name\">Have Mercy</span>,\n",
       " <span class=\"song\" itemprop=\"name\">Dead Man Walking</span>,\n",
       " <span class=\"song\" itemprop=\"name\">Gravity</span>,\n",
       " <span class=\"song\" itemprop=\"name\">Hit Different</span>,\n",
       " <span class=\"song\" itemprop=\"name\">Toxic</span>,\n",
       " <span class=\"song\" itemprop=\"name\">For The Night</span>,\n",
       " <span class=\"song\" itemprop=\"name\">Hot Wind Blows</span>,\n",
       " <span class=\"song\" itemprop=\"name\">Best Friend</span>,\n",
       " <span class=\"song\" itemprop=\"name\">Unloyal</span>,\n",
       " <span class=\"song\" itemprop=\"name\">At My Worst</span>,\n",
       " <span class=\"song\" itemprop=\"name\">Race My Mind</span>,\n",
       " <span class=\"song\" itemprop=\"name\">Life Is Good</span>,\n",
       " <span class=\"song\" itemprop=\"name\">Life Support</span>,\n",
       " <span class=\"song\" itemprop=\"name\">Can't Let It Show</span>,\n",
       " <span class=\"song\" itemprop=\"name\">Bad Habits</span>,\n",
       " <span class=\"song\" itemprop=\"name\">Deep End</span>,\n",
       " <span class=\"song\" itemprop=\"name\">Whoopty</span>,\n",
       " <span class=\"song\" itemprop=\"name\">Girl Like Me</span>,\n",
       " <span class=\"song\" itemprop=\"name\">Dior</span>,\n",
       " <span class=\"song\" itemprop=\"name\">Outta Time</span>,\n",
       " <span class=\"song\" itemprop=\"name\">Constant Bullshit</span>,\n",
       " <span class=\"song\" itemprop=\"name\">Fountains</span>,\n",
       " <span class=\"song\" itemprop=\"name\">Get Along Better</span>,\n",
       " <span class=\"song\" itemprop=\"name\">Stuck On You</span>,\n",
       " <span class=\"song\" itemprop=\"name\">Mood Swings</span>,\n",
       " <span class=\"song\" itemprop=\"name\">You Don't Know Me</span>,\n",
       " <span class=\"song\" itemprop=\"name\">Still Your Best</span>,\n",
       " <span class=\"song\" itemprop=\"name\">What's On Your Mind</span>,\n",
       " <span class=\"song\" itemprop=\"name\">Insane</span>,\n",
       " <span class=\"song\" itemprop=\"name\">Fucking Fans</span>,\n",
       " <span class=\"song\" itemprop=\"name\">All To Me</span>,\n",
       " <span class=\"song\" itemprop=\"name\">Circles</span>,\n",
       " <span class=\"song\" itemprop=\"name\">For Tonight</span>,\n",
       " <span class=\"song\" itemprop=\"name\">Hold Me Down</span>,\n",
       " <span class=\"song\" itemprop=\"name\">Clouded</span>,\n",
       " <span class=\"song\" itemprop=\"name\">Painting Pictures</span>,\n",
       " <span class=\"song\" itemprop=\"name\">Been Like This</span>,\n",
       " <span class=\"song\" itemprop=\"name\">Lost You</span>,\n",
       " <span class=\"song\" itemprop=\"name\">Circus</span>,\n",
       " <span class=\"song\" itemprop=\"name\">Ferrari Horses</span>,\n",
       " <span class=\"song\" itemprop=\"name\">Pack Lite</span>,\n",
       " <span class=\"song\" itemprop=\"name\">On It</span>,\n",
       " <span class=\"song\" itemprop=\"name\">Lie To Me</span>,\n",
       " <span class=\"song\" itemprop=\"name\">4th Baby Mama</span>,\n",
       " <span class=\"song\" itemprop=\"name\">Wants And Needs</span>,\n",
       " <span class=\"song\" itemprop=\"name\">Broken Promises</span>,\n",
       " <span class=\"song\" itemprop=\"name\">Body</span>,\n",
       " <span class=\"song\" itemprop=\"name\">Nevada</span>,\n",
       " <span class=\"song\" itemprop=\"name\">Beat Box</span>]"
      ]
     },
     "execution_count": 66,
     "metadata": {},
     "output_type": "execute_result"
    }
   ],
   "source": [
    "# looking for the songs         \n",
    "#myTable > tbody > tr:nth-child(1) > td.mobile-hide > a > span.song\n",
    "\n",
    "soup2.select(\"td.mobile-hide > a > span.song\")"
   ]
  },
  {
   "cell_type": "code",
   "execution_count": 67,
   "id": "4ebbe5f3",
   "metadata": {},
   "outputs": [],
   "source": [
    "def scraper(url):\n",
    "\n",
    "    any_response = requests.get(url)\n",
    "    any_soup = BeautifulSoup(any_response.content, \"html.parser\")\n",
    "\n",
    "    artist = []\n",
    "    song = []\n",
    "\n",
    "    num_iters = len(any_soup.select(\"td:nth-child(2) > a\"))\n",
    "\n",
    "    a_lists = any_soup.select(\"td:nth-child(2) > a\")\n",
    "    s_lists = any_soup.select(\"td.mobile-hide > a > span.song\")\n",
    "\n",
    "    for i in range(num_iters):\n",
    "        artist.append(a_lists[i].get_text())\n",
    "        song.append(s_lists[i].get_text())\n",
    "    \n",
    "    test = pd.DataFrame({\"artist\":artist,\n",
    "                       \"song\":song})\n",
    "    return test"
   ]
  },
  {
   "cell_type": "code",
   "execution_count": 68,
   "id": "134e8203",
   "metadata": {},
   "outputs": [],
   "source": [
    "url1 = \"https://playback.fm/charts/rnb/2017\"\n",
    "url2 = \"https://playback.fm/charts/rnb/2021\"\n",
    "\n",
    "\n",
    "top_2017 = scraper(url1)\n",
    "top_2021 = scraper(url2)"
   ]
  },
  {
   "cell_type": "code",
   "execution_count": 69,
   "id": "a4208788",
   "metadata": {},
   "outputs": [
    {
     "data": {
      "text/html": [
       "<div>\n",
       "<style scoped>\n",
       "    .dataframe tbody tr th:only-of-type {\n",
       "        vertical-align: middle;\n",
       "    }\n",
       "\n",
       "    .dataframe tbody tr th {\n",
       "        vertical-align: top;\n",
       "    }\n",
       "\n",
       "    .dataframe thead th {\n",
       "        text-align: right;\n",
       "    }\n",
       "</style>\n",
       "<table border=\"1\" class=\"dataframe\">\n",
       "  <thead>\n",
       "    <tr style=\"text-align: right;\">\n",
       "      <th></th>\n",
       "      <th>artist</th>\n",
       "      <th>song</th>\n",
       "    </tr>\n",
       "  </thead>\n",
       "  <tbody>\n",
       "    <tr>\n",
       "      <th>0</th>\n",
       "      <td>\\nBruno Mars\\n</td>\n",
       "      <td>That's What I Like</td>\n",
       "    </tr>\n",
       "    <tr>\n",
       "      <th>1</th>\n",
       "      <td>\\nDJ Khaled featuring Rihanna &amp; Bryson Tiller\\n</td>\n",
       "      <td>Wild Thoughts</td>\n",
       "    </tr>\n",
       "    <tr>\n",
       "      <th>2</th>\n",
       "      <td>\\nPost Malone\\n</td>\n",
       "      <td>Rockstar</td>\n",
       "    </tr>\n",
       "    <tr>\n",
       "      <th>3</th>\n",
       "      <td>\\nDJ Khaled\\n</td>\n",
       "      <td>I'm the One</td>\n",
       "    </tr>\n",
       "    <tr>\n",
       "      <th>4</th>\n",
       "      <td>\\nBruno Mars\\n</td>\n",
       "      <td>24K Magic</td>\n",
       "    </tr>\n",
       "  </tbody>\n",
       "</table>\n",
       "</div>"
      ],
      "text/plain": [
       "                                            artist                song\n",
       "0                                   \\nBruno Mars\\n  That's What I Like\n",
       "1  \\nDJ Khaled featuring Rihanna & Bryson Tiller\\n       Wild Thoughts\n",
       "2                                  \\nPost Malone\\n            Rockstar\n",
       "3                                    \\nDJ Khaled\\n         I'm the One\n",
       "4                                   \\nBruno Mars\\n           24K Magic"
      ]
     },
     "execution_count": 69,
     "metadata": {},
     "output_type": "execute_result"
    }
   ],
   "source": [
    "top_2017.head()"
   ]
  },
  {
   "cell_type": "code",
   "execution_count": 70,
   "id": "f6c7f7ca",
   "metadata": {},
   "outputs": [
    {
     "data": {
      "text/html": [
       "<div>\n",
       "<style scoped>\n",
       "    .dataframe tbody tr th:only-of-type {\n",
       "        vertical-align: middle;\n",
       "    }\n",
       "\n",
       "    .dataframe tbody tr th {\n",
       "        vertical-align: top;\n",
       "    }\n",
       "\n",
       "    .dataframe thead th {\n",
       "        text-align: right;\n",
       "    }\n",
       "</style>\n",
       "<table border=\"1\" class=\"dataframe\">\n",
       "  <thead>\n",
       "    <tr style=\"text-align: right;\">\n",
       "      <th></th>\n",
       "      <th>artist</th>\n",
       "      <th>song</th>\n",
       "    </tr>\n",
       "  </thead>\n",
       "  <tbody>\n",
       "    <tr>\n",
       "      <th>0</th>\n",
       "      <td>\\nSilk Sonic\\n</td>\n",
       "      <td>Leave The Door Open</td>\n",
       "    </tr>\n",
       "    <tr>\n",
       "      <th>1</th>\n",
       "      <td>\\nJustin Bieber featuring Daniel Caesar &amp; Give...</td>\n",
       "      <td>Peaches</td>\n",
       "    </tr>\n",
       "    <tr>\n",
       "      <th>2</th>\n",
       "      <td>\\nLizzo\\n</td>\n",
       "      <td>Rumors</td>\n",
       "    </tr>\n",
       "    <tr>\n",
       "      <th>3</th>\n",
       "      <td>\\nChris Brown &amp; Young Thug\\n</td>\n",
       "      <td>Go Crazy</td>\n",
       "    </tr>\n",
       "    <tr>\n",
       "      <th>4</th>\n",
       "      <td>\\nSaint Jhn\\n</td>\n",
       "      <td>Roses</td>\n",
       "    </tr>\n",
       "  </tbody>\n",
       "</table>\n",
       "</div>"
      ],
      "text/plain": [
       "                                              artist                 song\n",
       "0                                     \\nSilk Sonic\\n  Leave The Door Open\n",
       "1  \\nJustin Bieber featuring Daniel Caesar & Give...              Peaches\n",
       "2                                          \\nLizzo\\n               Rumors\n",
       "3                       \\nChris Brown & Young Thug\\n             Go Crazy\n",
       "4                                      \\nSaint Jhn\\n                Roses"
      ]
     },
     "execution_count": 70,
     "metadata": {},
     "output_type": "execute_result"
    }
   ],
   "source": [
    "top_2021.head()"
   ]
  },
  {
   "cell_type": "code",
   "execution_count": 71,
   "id": "b420ad08",
   "metadata": {},
   "outputs": [
    {
     "data": {
      "text/html": [
       "<div>\n",
       "<style scoped>\n",
       "    .dataframe tbody tr th:only-of-type {\n",
       "        vertical-align: middle;\n",
       "    }\n",
       "\n",
       "    .dataframe tbody tr th {\n",
       "        vertical-align: top;\n",
       "    }\n",
       "\n",
       "    .dataframe thead th {\n",
       "        text-align: right;\n",
       "    }\n",
       "</style>\n",
       "<table border=\"1\" class=\"dataframe\">\n",
       "  <thead>\n",
       "    <tr style=\"text-align: right;\">\n",
       "      <th></th>\n",
       "      <th>artist</th>\n",
       "      <th>song</th>\n",
       "    </tr>\n",
       "  </thead>\n",
       "  <tbody>\n",
       "    <tr>\n",
       "      <th>0</th>\n",
       "      <td>\\nBruno Mars\\n</td>\n",
       "      <td>That's What I Like</td>\n",
       "    </tr>\n",
       "    <tr>\n",
       "      <th>1</th>\n",
       "      <td>\\nDJ Khaled featuring Rihanna &amp; Bryson Tiller\\n</td>\n",
       "      <td>Wild Thoughts</td>\n",
       "    </tr>\n",
       "    <tr>\n",
       "      <th>2</th>\n",
       "      <td>\\nPost Malone\\n</td>\n",
       "      <td>Rockstar</td>\n",
       "    </tr>\n",
       "    <tr>\n",
       "      <th>3</th>\n",
       "      <td>\\nDJ Khaled\\n</td>\n",
       "      <td>I'm the One</td>\n",
       "    </tr>\n",
       "    <tr>\n",
       "      <th>4</th>\n",
       "      <td>\\nBruno Mars\\n</td>\n",
       "      <td>24K Magic</td>\n",
       "    </tr>\n",
       "    <tr>\n",
       "      <th>...</th>\n",
       "      <td>...</td>\n",
       "      <td>...</td>\n",
       "    </tr>\n",
       "    <tr>\n",
       "      <th>195</th>\n",
       "      <td>\\nDrake featuring Lil Baby\\n</td>\n",
       "      <td>Wants And Needs</td>\n",
       "    </tr>\n",
       "    <tr>\n",
       "      <th>196</th>\n",
       "      <td>\\nSummer Walker\\n</td>\n",
       "      <td>Broken Promises</td>\n",
       "    </tr>\n",
       "    <tr>\n",
       "      <th>197</th>\n",
       "      <td>\\nMegan Thee Stallion\\n</td>\n",
       "      <td>Body</td>\n",
       "    </tr>\n",
       "    <tr>\n",
       "      <th>198</th>\n",
       "      <td>\\nYoungBoy Never Broke Again\\n</td>\n",
       "      <td>Nevada</td>\n",
       "    </tr>\n",
       "    <tr>\n",
       "      <th>199</th>\n",
       "      <td>\\nSpotemGottem featuring Pooh Shiesty Or DaBaby\\n</td>\n",
       "      <td>Beat Box</td>\n",
       "    </tr>\n",
       "  </tbody>\n",
       "</table>\n",
       "<p>200 rows × 2 columns</p>\n",
       "</div>"
      ],
      "text/plain": [
       "                                                artist                song\n",
       "0                                       \\nBruno Mars\\n  That's What I Like\n",
       "1      \\nDJ Khaled featuring Rihanna & Bryson Tiller\\n       Wild Thoughts\n",
       "2                                      \\nPost Malone\\n            Rockstar\n",
       "3                                        \\nDJ Khaled\\n         I'm the One\n",
       "4                                       \\nBruno Mars\\n           24K Magic\n",
       "..                                                 ...                 ...\n",
       "195                       \\nDrake featuring Lil Baby\\n     Wants And Needs\n",
       "196                                  \\nSummer Walker\\n     Broken Promises\n",
       "197                            \\nMegan Thee Stallion\\n                Body\n",
       "198                     \\nYoungBoy Never Broke Again\\n              Nevada\n",
       "199  \\nSpotemGottem featuring Pooh Shiesty Or DaBaby\\n            Beat Box\n",
       "\n",
       "[200 rows x 2 columns]"
      ]
     },
     "execution_count": 71,
     "metadata": {},
     "output_type": "execute_result"
    }
   ],
   "source": [
    "songs_list = pd.concat([top_2017, top_2021], ignore_index=True)\n",
    "songs_list"
   ]
  },
  {
   "cell_type": "code",
   "execution_count": 72,
   "id": "fd7d29e0",
   "metadata": {
    "scrolled": true
   },
   "outputs": [
    {
     "data": {
      "text/html": [
       "<div>\n",
       "<style scoped>\n",
       "    .dataframe tbody tr th:only-of-type {\n",
       "        vertical-align: middle;\n",
       "    }\n",
       "\n",
       "    .dataframe tbody tr th {\n",
       "        vertical-align: top;\n",
       "    }\n",
       "\n",
       "    .dataframe thead th {\n",
       "        text-align: right;\n",
       "    }\n",
       "</style>\n",
       "<table border=\"1\" class=\"dataframe\">\n",
       "  <thead>\n",
       "    <tr style=\"text-align: right;\">\n",
       "      <th></th>\n",
       "      <th>artist</th>\n",
       "      <th>song</th>\n",
       "    </tr>\n",
       "  </thead>\n",
       "  <tbody>\n",
       "    <tr>\n",
       "      <th>0</th>\n",
       "      <td>Bruno Mars</td>\n",
       "      <td>That's What I Like</td>\n",
       "    </tr>\n",
       "    <tr>\n",
       "      <th>1</th>\n",
       "      <td>DJ Khaled featuring Rihanna &amp; Bryson Tiller</td>\n",
       "      <td>Wild Thoughts</td>\n",
       "    </tr>\n",
       "    <tr>\n",
       "      <th>2</th>\n",
       "      <td>Post Malone</td>\n",
       "      <td>Rockstar</td>\n",
       "    </tr>\n",
       "    <tr>\n",
       "      <th>3</th>\n",
       "      <td>DJ Khaled</td>\n",
       "      <td>I'm the One</td>\n",
       "    </tr>\n",
       "    <tr>\n",
       "      <th>4</th>\n",
       "      <td>Bruno Mars</td>\n",
       "      <td>24K Magic</td>\n",
       "    </tr>\n",
       "  </tbody>\n",
       "</table>\n",
       "</div>"
      ],
      "text/plain": [
       "                                          artist                song\n",
       "0                                    Bruno Mars   That's What I Like\n",
       "1   DJ Khaled featuring Rihanna & Bryson Tiller        Wild Thoughts\n",
       "2                                   Post Malone             Rockstar\n",
       "3                                     DJ Khaled          I'm the One\n",
       "4                                    Bruno Mars            24K Magic"
      ]
     },
     "execution_count": 72,
     "metadata": {},
     "output_type": "execute_result"
    }
   ],
   "source": [
    "songs_list['artist'] = song_list['artist'].str.replace('\\n', ' ')\n",
    "songs_list.head()"
   ]
  },
  {
   "cell_type": "markdown",
   "id": "cf6ef6e8",
   "metadata": {},
   "source": [
    "# Lab 2: Scraping from another website"
   ]
  },
  {
   "cell_type": "code",
   "execution_count": 73,
   "id": "cf968e70",
   "metadata": {},
   "outputs": [],
   "source": [
    "url3 = \"https://www.popvortex.com/music/charts/top-alternative-songs.php\""
   ]
  },
  {
   "cell_type": "code",
   "execution_count": 74,
   "id": "fbb90011",
   "metadata": {},
   "outputs": [
    {
     "data": {
      "text/plain": [
       "200"
      ]
     },
     "execution_count": 74,
     "metadata": {},
     "output_type": "execute_result"
    }
   ],
   "source": [
    "response3 = requests.get(url3)\n",
    "response3.status_code"
   ]
  },
  {
   "cell_type": "code",
   "execution_count": 176,
   "id": "8c289e1f",
   "metadata": {},
   "outputs": [],
   "source": [
    "response3.content"
   ]
  },
  {
   "cell_type": "code",
   "execution_count": 76,
   "id": "ed2f9c39",
   "metadata": {},
   "outputs": [],
   "source": [
    "soup3 = BeautifulSoup(response3.content, \"html.parser\")"
   ]
  },
  {
   "cell_type": "code",
   "execution_count": 177,
   "id": "548861b8",
   "metadata": {},
   "outputs": [],
   "source": [
    "print(soup3.prettify())"
   ]
  },
  {
   "cell_type": "code",
   "execution_count": 78,
   "id": "b8ec8276",
   "metadata": {},
   "outputs": [
    {
     "data": {
      "text/plain": [
       "'Bones'"
      ]
     },
     "execution_count": 78,
     "metadata": {},
     "output_type": "execute_result"
    }
   ],
   "source": [
    "#soup3.select(\"body>div>div>div>div>div>div:nth-child(2)>p\")\n",
    "\n",
    "#chart-position-1 > div.chart-content.col-xs-12.col-sm-8 > p > cite\n",
    "\n",
    "soup3.select(\"div.chart-content.col-xs-12.col-sm-8 > p > cite\")[0].get_text()"
   ]
  },
  {
   "cell_type": "code",
   "execution_count": 79,
   "id": "eb1659e6",
   "metadata": {},
   "outputs": [
    {
     "data": {
      "text/plain": [
       "'Imagine Dragons'"
      ]
     },
     "execution_count": 79,
     "metadata": {},
     "output_type": "execute_result"
    }
   ],
   "source": [
    "soup3.select(\"div.chart-content.col-xs-12.col-sm-8 > p > em\")[0].get_text()"
   ]
  },
  {
   "cell_type": "code",
   "execution_count": 80,
   "id": "c2581797",
   "metadata": {},
   "outputs": [],
   "source": [
    "def scraper(url):\n",
    "\n",
    "    any_response = requests.get(url)\n",
    "    any_soup = BeautifulSoup(any_response.content, \"html.parser\")\n",
    "\n",
    "    artist = []\n",
    "    song = []\n",
    "\n",
    "    num_iters = len(any_soup.select(\"div.chart-content.col-xs-12.col-sm-8 > p > cite\"))\n",
    "\n",
    "    a_lists = any_soup.select(\"div.chart-content.col-xs-12.col-sm-8 > p > em\")\n",
    "    s_lists = any_soup.select(\"div.chart-content.col-xs-12.col-sm-8 > p > cite\")\n",
    "    for i in range(num_iters):\n",
    "        artist.append(a_lists[i].get_text())\n",
    "        song.append(s_lists[i].get_text())\n",
    "    \n",
    "    test = pd.DataFrame({\"artist\":artist,\n",
    "                       \"song\":song})\n",
    "    return test"
   ]
  },
  {
   "cell_type": "code",
   "execution_count": 81,
   "id": "1c4ccd65",
   "metadata": {},
   "outputs": [],
   "source": [
    "artist_song_df_3 = pd.DataFrame({\"artist\":artist,\"song\":song})"
   ]
  },
  {
   "cell_type": "code",
   "execution_count": 82,
   "id": "7796c475",
   "metadata": {},
   "outputs": [
    {
     "data": {
      "text/html": [
       "<div>\n",
       "<style scoped>\n",
       "    .dataframe tbody tr th:only-of-type {\n",
       "        vertical-align: middle;\n",
       "    }\n",
       "\n",
       "    .dataframe tbody tr th {\n",
       "        vertical-align: top;\n",
       "    }\n",
       "\n",
       "    .dataframe thead th {\n",
       "        text-align: right;\n",
       "    }\n",
       "</style>\n",
       "<table border=\"1\" class=\"dataframe\">\n",
       "  <thead>\n",
       "    <tr style=\"text-align: right;\">\n",
       "      <th></th>\n",
       "      <th>artist</th>\n",
       "      <th>song</th>\n",
       "    </tr>\n",
       "  </thead>\n",
       "  <tbody>\n",
       "    <tr>\n",
       "      <th>0</th>\n",
       "      <td>\\nBruno Mars\\n</td>\n",
       "      <td>That's What I Like</td>\n",
       "    </tr>\n",
       "    <tr>\n",
       "      <th>1</th>\n",
       "      <td>\\nDJ Khaled featuring Rihanna &amp; Bryson Tiller\\n</td>\n",
       "      <td>Wild Thoughts</td>\n",
       "    </tr>\n",
       "    <tr>\n",
       "      <th>2</th>\n",
       "      <td>\\nPost Malone\\n</td>\n",
       "      <td>Rockstar</td>\n",
       "    </tr>\n",
       "    <tr>\n",
       "      <th>3</th>\n",
       "      <td>\\nDJ Khaled\\n</td>\n",
       "      <td>I'm the One</td>\n",
       "    </tr>\n",
       "    <tr>\n",
       "      <th>4</th>\n",
       "      <td>\\nBruno Mars\\n</td>\n",
       "      <td>24K Magic</td>\n",
       "    </tr>\n",
       "  </tbody>\n",
       "</table>\n",
       "</div>"
      ],
      "text/plain": [
       "                                            artist                song\n",
       "0                                   \\nBruno Mars\\n  That's What I Like\n",
       "1  \\nDJ Khaled featuring Rihanna & Bryson Tiller\\n       Wild Thoughts\n",
       "2                                  \\nPost Malone\\n            Rockstar\n",
       "3                                    \\nDJ Khaled\\n         I'm the One\n",
       "4                                   \\nBruno Mars\\n           24K Magic"
      ]
     },
     "execution_count": 82,
     "metadata": {},
     "output_type": "execute_result"
    }
   ],
   "source": [
    "artist_song_df_3.head()"
   ]
  },
  {
   "cell_type": "code",
   "execution_count": 83,
   "id": "74663dfd",
   "metadata": {},
   "outputs": [
    {
     "data": {
      "text/html": [
       "<div>\n",
       "<style scoped>\n",
       "    .dataframe tbody tr th:only-of-type {\n",
       "        vertical-align: middle;\n",
       "    }\n",
       "\n",
       "    .dataframe tbody tr th {\n",
       "        vertical-align: top;\n",
       "    }\n",
       "\n",
       "    .dataframe thead th {\n",
       "        text-align: right;\n",
       "    }\n",
       "</style>\n",
       "<table border=\"1\" class=\"dataframe\">\n",
       "  <thead>\n",
       "    <tr style=\"text-align: right;\">\n",
       "      <th></th>\n",
       "      <th>artist</th>\n",
       "      <th>song</th>\n",
       "    </tr>\n",
       "  </thead>\n",
       "  <tbody>\n",
       "    <tr>\n",
       "      <th>0</th>\n",
       "      <td>Bruno Mars</td>\n",
       "      <td>That's What I Like</td>\n",
       "    </tr>\n",
       "    <tr>\n",
       "      <th>1</th>\n",
       "      <td>DJ Khaled featuring Rihanna &amp; Bryson Tiller</td>\n",
       "      <td>Wild Thoughts</td>\n",
       "    </tr>\n",
       "    <tr>\n",
       "      <th>2</th>\n",
       "      <td>Post Malone</td>\n",
       "      <td>Rockstar</td>\n",
       "    </tr>\n",
       "    <tr>\n",
       "      <th>3</th>\n",
       "      <td>DJ Khaled</td>\n",
       "      <td>I'm the One</td>\n",
       "    </tr>\n",
       "    <tr>\n",
       "      <th>4</th>\n",
       "      <td>Bruno Mars</td>\n",
       "      <td>24K Magic</td>\n",
       "    </tr>\n",
       "  </tbody>\n",
       "</table>\n",
       "</div>"
      ],
      "text/plain": [
       "                                          artist                song\n",
       "0                                    Bruno Mars   That's What I Like\n",
       "1   DJ Khaled featuring Rihanna & Bryson Tiller        Wild Thoughts\n",
       "2                                   Post Malone             Rockstar\n",
       "3                                     DJ Khaled          I'm the One\n",
       "4                                    Bruno Mars            24K Magic"
      ]
     },
     "execution_count": 83,
     "metadata": {},
     "output_type": "execute_result"
    }
   ],
   "source": [
    "artist_song_df_3['artist'] = artist_song_df_3['artist'].str.replace('\\n', ' ')\n",
    "songs_list.head()"
   ]
  },
  {
   "cell_type": "code",
   "execution_count": 84,
   "id": "baad103b",
   "metadata": {},
   "outputs": [],
   "source": [
    "songs_df = pd.concat([songs_list, artist_song_df_3], axis=0)\n",
    "songs_df = songs_df.reset_index(drop=True)"
   ]
  },
  {
   "cell_type": "code",
   "execution_count": 85,
   "id": "8450a130",
   "metadata": {},
   "outputs": [
    {
     "data": {
      "text/plain": [
       "(300, 2)"
      ]
     },
     "execution_count": 85,
     "metadata": {},
     "output_type": "execute_result"
    }
   ],
   "source": [
    "songs_df.shape"
   ]
  },
  {
   "cell_type": "code",
   "execution_count": null,
   "id": "2f2ad619",
   "metadata": {},
   "outputs": [],
   "source": []
  },
  {
   "cell_type": "code",
   "execution_count": null,
   "id": "e94715b7",
   "metadata": {},
   "outputs": [],
   "source": []
  },
  {
   "cell_type": "markdown",
   "id": "eebed971",
   "metadata": {},
   "source": [
    "# Creating Song Recommender"
   ]
  },
  {
   "cell_type": "code",
   "execution_count": 86,
   "id": "ed7cdc16",
   "metadata": {},
   "outputs": [
    {
     "name": "stdout",
     "output_type": "stream",
     "text": [
      "Saved\n"
     ]
    }
   ],
   "source": [
    "import random\n",
    "\n",
    "secure_random = random.SystemRandom()\n",
    "print(secure_random.choice(song))"
   ]
  },
  {
   "cell_type": "code",
   "execution_count": 87,
   "id": "742fffb9",
   "metadata": {},
   "outputs": [
    {
     "name": "stdout",
     "output_type": "stream",
     "text": [
      "95    Fake Love\n",
      "Name: song, dtype: object\n"
     ]
    }
   ],
   "source": [
    "# alternative to get a random song recommendation \n",
    "print(songs_df['song'].sample())"
   ]
  },
  {
   "cell_type": "code",
   "execution_count": 88,
   "id": "3b8c0169",
   "metadata": {},
   "outputs": [
    {
     "name": "stdout",
     "output_type": "stream",
     "text": [
      "Enter your song: Rockstar\n",
      "Rockstar\n"
     ]
    }
   ],
   "source": [
    "favorite_song = input(\"Enter your song: \")\n",
    "print(favorite_song)"
   ]
  },
  {
   "cell_type": "code",
   "execution_count": 89,
   "id": "22e35eab",
   "metadata": {},
   "outputs": [
    {
     "name": "stdout",
     "output_type": "stream",
     "text": [
      "Our song recommendation is:  Rolex\n"
     ]
    }
   ],
   "source": [
    "# recommender option 1\n",
    "if len(songs_df[(songs_df['song'].isin([favorite_song]))])>0:\n",
    "    print(\"Our song recommendation is: \", secure_random.choice(songs_df['song'])) \n",
    "else:\n",
    "    print(\"We are sorry that we do not have a song recommendation for you now.\")"
   ]
  },
  {
   "cell_type": "code",
   "execution_count": 90,
   "id": "0d19a497",
   "metadata": {},
   "outputs": [
    {
     "name": "stdout",
     "output_type": "stream",
     "text": [
      "Our song recommendation is:  The Way Life Goes\n"
     ]
    }
   ],
   "source": [
    "# recommender option 2\n",
    "if len(songs_df[(songs_df['song'].isin([favorite_song]))])>0:\n",
    "    print(\"Our song recommendation is: \", secure_random.choice(song)) \n",
    "else:\n",
    "    print(\"We are sorry that we do not have a song recommendation for you now.\")"
   ]
  },
  {
   "cell_type": "code",
   "execution_count": 91,
   "id": "2ec70f64",
   "metadata": {},
   "outputs": [],
   "source": [
    "# recommender option 3\n",
    "#if songs_list['song'].str.contains(favorite_song).any():\n",
    "#    print(songs_list['song'].sample())\n",
    "#else:\n",
    "#    print(\"We are sorry that we do not have a song recommendation for you now.\")"
   ]
  },
  {
   "cell_type": "code",
   "execution_count": 92,
   "id": "cbc92f90",
   "metadata": {},
   "outputs": [],
   "source": [
    "#if songs_list['song'].str.match(favorite_song).any() == True:\n",
    "#    print(songs_list['song'].sample())\n",
    "#else:\n",
    "#    print(\"We are sorry that we do not have a song recommendation for you now.\")"
   ]
  },
  {
   "cell_type": "code",
   "execution_count": null,
   "id": "d0bdfb9f",
   "metadata": {},
   "outputs": [],
   "source": []
  },
  {
   "cell_type": "markdown",
   "id": "4691756b",
   "metadata": {},
   "source": [
    "# Scraping Spotify - Wrapper - Expanding the song base"
   ]
  },
  {
   "cell_type": "code",
   "execution_count": 93,
   "id": "d9f5eebd",
   "metadata": {},
   "outputs": [],
   "source": [
    "secrets_file = open(\"secrets.txt\",\"r\")"
   ]
  },
  {
   "cell_type": "code",
   "execution_count": 94,
   "id": "9565210b",
   "metadata": {},
   "outputs": [],
   "source": [
    "string = secrets_file.read()"
   ]
  },
  {
   "cell_type": "code",
   "execution_count": 95,
   "id": "96d4b41a",
   "metadata": {},
   "outputs": [],
   "source": [
    "#string"
   ]
  },
  {
   "cell_type": "code",
   "execution_count": null,
   "id": "ff5db1d7",
   "metadata": {},
   "outputs": [],
   "source": [
    "string.split('\\n')"
   ]
  },
  {
   "cell_type": "code",
   "execution_count": 97,
   "id": "afc93e5f",
   "metadata": {},
   "outputs": [],
   "source": [
    "secrets_dict={}\n",
    "for line in string.split('\\n'):\n",
    "    if len(line) > 0:\n",
    "        secrets_dict[line.split(':')[0]]=line.split(':')[1].strip()"
   ]
  },
  {
   "cell_type": "code",
   "execution_count": null,
   "id": "254d77ee",
   "metadata": {},
   "outputs": [],
   "source": [
    "secrets_dict"
   ]
  },
  {
   "cell_type": "markdown",
   "id": "e77c6f6b",
   "metadata": {},
   "source": [
    "# Authentication"
   ]
  },
  {
   "cell_type": "code",
   "execution_count": 99,
   "id": "e8a7f435",
   "metadata": {
    "scrolled": true
   },
   "outputs": [],
   "source": [
    "import spotipy\n",
    "from spotipy.oauth2 import SpotifyClientCredentials\n",
    "\n",
    "#Initialize SpotiPy with user credentials\n",
    "sp = spotipy.Spotify(auth_manager=SpotifyClientCredentials(client_id=secrets_dict['cid'],\n",
    "                                                           client_secret=secrets_dict['csecret']))"
   ]
  },
  {
   "cell_type": "markdown",
   "id": "7b799f89",
   "metadata": {},
   "source": [
    "# Next Vibe - Jazz"
   ]
  },
  {
   "cell_type": "code",
   "execution_count": 100,
   "id": "2cfdcc0d",
   "metadata": {},
   "outputs": [],
   "source": [
    "playlist1 = sp.user_playlist_tracks(\"spotify\", \"37i9dQZF1DWV7EzJMK2FUI\")"
   ]
  },
  {
   "cell_type": "code",
   "execution_count": 101,
   "id": "9e48f47b",
   "metadata": {},
   "outputs": [
    {
     "data": {
      "text/plain": [
       "dict_keys(['href', 'items', 'limit', 'next', 'offset', 'previous', 'total'])"
      ]
     },
     "execution_count": 101,
     "metadata": {},
     "output_type": "execute_result"
    }
   ],
   "source": [
    "playlist1.keys()"
   ]
  },
  {
   "cell_type": "code",
   "execution_count": 102,
   "id": "7d1723fa",
   "metadata": {},
   "outputs": [],
   "source": [
    "from random import randint\n",
    "from time import sleep\n",
    "\n",
    "def get_playlist_tracks(playlist_id):\n",
    "    results = sp.user_playlist_tracks(\"spotify\",playlist_id)\n",
    "    tracks = results['items'] # list of tracks aka songs\n",
    "    while results['next']!=None:\n",
    "        results = sp.next(results)\n",
    "        tracks = tracks + results['items']\n",
    "        #sleep(randint(1,3)) # unit of sleep is second\n",
    "        sleep(randint(1,3000)/3000) # dividing to respectful napping\n",
    "    return tracks"
   ]
  },
  {
   "cell_type": "code",
   "execution_count": 103,
   "id": "a333c8e8",
   "metadata": {},
   "outputs": [
    {
     "data": {
      "text/plain": [
       "376"
      ]
     },
     "execution_count": 103,
     "metadata": {},
     "output_type": "execute_result"
    }
   ],
   "source": [
    "all_tracks = get_playlist_tracks(\"37i9dQZF1DWV7EzJMK2FUI\")\n",
    "len(all_tracks)"
   ]
  },
  {
   "cell_type": "code",
   "execution_count": 104,
   "id": "436f2e99",
   "metadata": {},
   "outputs": [
    {
     "data": {
      "text/plain": [
       "'Meadow Park'"
      ]
     },
     "execution_count": 104,
     "metadata": {},
     "output_type": "execute_result"
    }
   ],
   "source": [
    "playlist1['items'][0][\"track\"][\"artists\"][0][\"name\"] # accessing artist"
   ]
  },
  {
   "cell_type": "code",
   "execution_count": 105,
   "id": "60c1869b",
   "metadata": {},
   "outputs": [
    {
     "data": {
      "text/plain": [
       "'Autumn In New York'"
      ]
     },
     "execution_count": 105,
     "metadata": {},
     "output_type": "execute_result"
    }
   ],
   "source": [
    "playlist1[\"items\"][3][\"track\"][\"name\"] # accessing song title"
   ]
  },
  {
   "cell_type": "code",
   "execution_count": 106,
   "id": "5bbb5aaa",
   "metadata": {},
   "outputs": [],
   "source": [
    "#def get_name_artists_from_list(tracks):\n",
    "#    return flatten(list(map(get_name_artists_from_track,tracks['items'])))"
   ]
  },
  {
   "cell_type": "code",
   "execution_count": null,
   "id": "4f42dc87",
   "metadata": {},
   "outputs": [],
   "source": []
  },
  {
   "cell_type": "code",
   "execution_count": 107,
   "id": "3df29795",
   "metadata": {},
   "outputs": [],
   "source": [
    "def get_name_artist_from_playlist_item(playlist_item):\n",
    "    return get_name_artists_from_track(playlist_item['track'])"
   ]
  },
  {
   "cell_type": "code",
   "execution_count": null,
   "id": "b1cd2d05",
   "metadata": {},
   "outputs": [],
   "source": []
  },
  {
   "cell_type": "code",
   "execution_count": 108,
   "id": "e88af090",
   "metadata": {},
   "outputs": [],
   "source": [
    "#def get_name_artists_from_track(track):\n",
    "#    return [(track[\"name\"],artist[\"name\"]) for artist in track[\"artists\"]]\n"
   ]
  },
  {
   "cell_type": "code",
   "execution_count": 109,
   "id": "0262fe07",
   "metadata": {},
   "outputs": [],
   "source": [
    "def get_name_artists_from_playlist(input_playlist):\n",
    "    return list(map(get_name_artist_from_playlist_item,input_playlist[\"items\"]))"
   ]
  },
  {
   "cell_type": "code",
   "execution_count": 110,
   "id": "96764081",
   "metadata": {},
   "outputs": [],
   "source": [
    "# credit goes to Begum! \n",
    "def get_name_artists_from_track(track):\n",
    "    track_list = []\n",
    "    for artist in track['artists']:\n",
    "        track_list.append((track[\"name\"],artist[\"name\"]))\n",
    "    return track_list"
   ]
  },
  {
   "cell_type": "code",
   "execution_count": 111,
   "id": "875283d0",
   "metadata": {},
   "outputs": [
    {
     "data": {
      "text/plain": [
       "[[('Without A Song', 'Meadow Park')],\n",
       " [('Sometime Ago', 'Madeleine West')],\n",
       " [('Prelude To A Kiss', 'Al Fowler Trio')],\n",
       " [('Autumn In New York', 'Mayfare Trio')],\n",
       " [('Day Dream', 'Bill Charlap Trio')],\n",
       " [('My Fortune', 'Garry Cooper Trio')],\n",
       " [('The Beauty of Everyday Things', 'Hara Noda')],\n",
       " [('What A Little Moonlight Can Do', 'Gottfried Barber Trio')],\n",
       " [('Love Will Last Forever', 'Michael Stylez & Co')],\n",
       " [('Pensativa', 'Gene Hart Trio')],\n",
       " [('Like Jazz or Something', '6th Street Jazz')],\n",
       " [('Evening Silence', 'Three Four Trio')],\n",
       " [('Someone Elses Love', 'Sodermalm Strand')],\n",
       " [('All My Love', 'The Collective')],\n",
       " [('The Wind', 'Wildflower Trio')],\n",
       " [('Early Morning Thoughts', 'Trio Del Norte')],\n",
       " [('Crystal Blue', 'Jean-Baptiste Rees')],\n",
       " [('Miles and Miles', \"Pimm's Trio\")],\n",
       " [('As Time Goes By', 'The Headliner Trio')],\n",
       " [('Nimble', 'Andy Goodman')],\n",
       " [('Bewitched', 'Jaden Berry')],\n",
       " [(\"Bring Some Lovin'\", 'Flatland Park')],\n",
       " [('W 52nd Street', 'Carlton Maison Quartet')],\n",
       " [('Little Bell', 'Green Trio')],\n",
       " [('Constantly Changing', 'Courtney Salas Group')],\n",
       " [('Witness of Love', 'Neil Chapman Green')],\n",
       " [('A Knock On The Door', 'Clover Post')],\n",
       " [('A Few Odd Jobs', 'Tore Lundblad')],\n",
       " [('Tell Me', 'Foster Davies')],\n",
       " [('Life In The Deepest Blue', 'Astoria Three')],\n",
       " [('Clear Sight', 'Midtown Trio')],\n",
       " [(\"You're My Everything\", 'John B. Stewart')],\n",
       " [(\"A Sleepin' Bee\", 'Bill Walton')],\n",
       " [('Pristine', 'Willowdale')],\n",
       " [('Maze of Tranquility', 'Martin Landström')],\n",
       " [('Déjà vu', 'Eddie Harper')],\n",
       " [(\"Mancuso's Joint\", 'Norris Walker Trio')],\n",
       " [(\"It's Always You\", 'Bill Parker')],\n",
       " [('Sweet And Lovely', 'Nouveau Jazz Trio')],\n",
       " [('Solitude', 'The Uptown Players')],\n",
       " [('More Than You Know', 'Charlie Regan Three')],\n",
       " [('Northwood Hills', 'Long Island Quartet')],\n",
       " [('Easy To Love', 'Mike Coen')],\n",
       " [('Stars Fell On Alabama', 'Mark Roswell Trio')],\n",
       " [('Blue Room', 'Astoria Three')],\n",
       " [('Nancy (WIth The Laughing Face)', 'Cecil Andrews')],\n",
       " [(\"Don't Go To Strangers\", 'Old Town Trio')],\n",
       " [(\"You're Just Full of Inspiration\", 'Lachlan Wright Trio')],\n",
       " [('I Will Wait For You', 'Piper Williamson')],\n",
       " [('Midday Walk', 'Loft Trio')],\n",
       " [('I Got It Bad', 'Eric Rowland')],\n",
       " [(\"It's You Or No One\", 'The Blue Green')],\n",
       " [('I Still See You In My Dreams', 'Japari Park')],\n",
       " [('Waiting', 'Streetlight Trio')],\n",
       " [('Thoughtful Proposal', 'James Jackson Jazz Trio')],\n",
       " [('These Foolish Things', 'Tribute Trio')],\n",
       " [('Down the Pawn Shop', 'Louie Hobbs Trio')],\n",
       " [('Polkadots And Moonbeams', 'Reuben Plays')],\n",
       " [('A Time For Love', 'Hermie')],\n",
       " [('Stillness is a Gift', 'James Jackson Jazz Trio')],\n",
       " [('After Hours', 'Eduard Landings')],\n",
       " [('Poor Butterfly', 'Benjamine Leroy Quartet')],\n",
       " [('My Little Brown Book', 'Mitch Coleman')],\n",
       " [('Varenne', 'Bladverk Band')],\n",
       " [('The Night We Called It A Day', 'Odo Lefebvre')],\n",
       " [('Silent Thunder', 'Carla Anderson')],\n",
       " [('Rising Apple Tree of Hope', 'Kingsbury Station')],\n",
       " [('I Know Too Well', 'Reuben Plays')],\n",
       " [('A Life Remembered', 'Bridgerton Vail')],\n",
       " [('At Dusk', 'Hara Noda')],\n",
       " [('Life At Point Nemo', 'Andreas Gidlund')],\n",
       " [('Lilys Dream', 'Japari Park')],\n",
       " [('Younger', 'The Mill Basin Band')],\n",
       " [('Forgetful', 'Ballroom Jazz Collective')],\n",
       " [('Remembrance', 'Grayville Trio')],\n",
       " [('The Imager', 'Andy Goodman')],\n",
       " [('Manhattan', 'Mabon Clarke Quartet')],\n",
       " [('On The Street Where You Live', 'Angela Rowles')],\n",
       " [(\"I'm Glad There's You\", 'Gene Hart Trio')],\n",
       " [('Baubles, Bangles & Beads', 'Nick Osman Trio')],\n",
       " [(\"I'm Getting Sentimental Over You\", 'Chris Memento')],\n",
       " [(\"I Guess I'll Have To Change My Plans\", 'Corin Stannard Trio')],\n",
       " [(\"What's Life Without You\", 'Mr. Right Time')],\n",
       " [('April In Paris', 'Marc Henley Trio')],\n",
       " [('Vi drar till fjället', 'Sodermalm Strand')],\n",
       " [('Counting Stars', 'Rainy Days Trio')],\n",
       " [('Casual', 'Baker St.')],\n",
       " [('Love For Sale', 'Pablo Ilanda Trio')],\n",
       " [('Mornin', 'James Earle Trio')],\n",
       " [('I Promise to Love', 'Gillian Spencer Trio')],\n",
       " [('The Flow of Your Way', 'Lachlan Wright Trio')],\n",
       " [('Sails', 'Manor Blue')],\n",
       " [('The Turning Point', 'Old Town Trio')],\n",
       " [('If You Could See Me Now', 'Cedar Wright')],\n",
       " [('Tomorrow', 'Ray Horne Trio')],\n",
       " [('All That You Are', 'Elvin Vanguard')],\n",
       " [('Akaishi', 'Moonside Trio')],\n",
       " [('Through The Years', 'Will Rivers Trio')],\n",
       " [('Time To Ponder', 'The Lyon Hearts')],\n",
       " [('May Dance', 'Trio Del Norte')]]"
      ]
     },
     "execution_count": 111,
     "metadata": {},
     "output_type": "execute_result"
    }
   ],
   "source": [
    "get_name_artists_from_playlist(playlist1)"
   ]
  },
  {
   "cell_type": "code",
   "execution_count": 112,
   "id": "823089ba",
   "metadata": {},
   "outputs": [],
   "source": [
    "def flatten(input_list):\n",
    "    return [item for sublist in input_list for item in sublist]"
   ]
  },
  {
   "cell_type": "code",
   "execution_count": 113,
   "id": "d814bfd8",
   "metadata": {},
   "outputs": [],
   "source": [
    "def get_name_artists_from_playlist(input_playlist):\n",
    "    return flatten(list(map(get_name_artist_from_playlist_item,input_playlist[\"items\"])))"
   ]
  },
  {
   "cell_type": "code",
   "execution_count": 114,
   "id": "734d4a37",
   "metadata": {},
   "outputs": [
    {
     "data": {
      "text/plain": [
       "[('Without A Song', 'Meadow Park'),\n",
       " ('Sometime Ago', 'Madeleine West'),\n",
       " ('Prelude To A Kiss', 'Al Fowler Trio'),\n",
       " ('Autumn In New York', 'Mayfare Trio'),\n",
       " ('Day Dream', 'Bill Charlap Trio'),\n",
       " ('My Fortune', 'Garry Cooper Trio'),\n",
       " ('The Beauty of Everyday Things', 'Hara Noda'),\n",
       " ('What A Little Moonlight Can Do', 'Gottfried Barber Trio'),\n",
       " ('Love Will Last Forever', 'Michael Stylez & Co'),\n",
       " ('Pensativa', 'Gene Hart Trio'),\n",
       " ('Like Jazz or Something', '6th Street Jazz'),\n",
       " ('Evening Silence', 'Three Four Trio'),\n",
       " ('Someone Elses Love', 'Sodermalm Strand'),\n",
       " ('All My Love', 'The Collective'),\n",
       " ('The Wind', 'Wildflower Trio'),\n",
       " ('Early Morning Thoughts', 'Trio Del Norte'),\n",
       " ('Crystal Blue', 'Jean-Baptiste Rees'),\n",
       " ('Miles and Miles', \"Pimm's Trio\"),\n",
       " ('As Time Goes By', 'The Headliner Trio'),\n",
       " ('Nimble', 'Andy Goodman'),\n",
       " ('Bewitched', 'Jaden Berry'),\n",
       " (\"Bring Some Lovin'\", 'Flatland Park'),\n",
       " ('W 52nd Street', 'Carlton Maison Quartet'),\n",
       " ('Little Bell', 'Green Trio'),\n",
       " ('Constantly Changing', 'Courtney Salas Group'),\n",
       " ('Witness of Love', 'Neil Chapman Green'),\n",
       " ('A Knock On The Door', 'Clover Post'),\n",
       " ('A Few Odd Jobs', 'Tore Lundblad'),\n",
       " ('Tell Me', 'Foster Davies'),\n",
       " ('Life In The Deepest Blue', 'Astoria Three'),\n",
       " ('Clear Sight', 'Midtown Trio'),\n",
       " (\"You're My Everything\", 'John B. Stewart'),\n",
       " (\"A Sleepin' Bee\", 'Bill Walton'),\n",
       " ('Pristine', 'Willowdale'),\n",
       " ('Maze of Tranquility', 'Martin Landström'),\n",
       " ('Déjà vu', 'Eddie Harper'),\n",
       " (\"Mancuso's Joint\", 'Norris Walker Trio'),\n",
       " (\"It's Always You\", 'Bill Parker'),\n",
       " ('Sweet And Lovely', 'Nouveau Jazz Trio'),\n",
       " ('Solitude', 'The Uptown Players'),\n",
       " ('More Than You Know', 'Charlie Regan Three'),\n",
       " ('Northwood Hills', 'Long Island Quartet'),\n",
       " ('Easy To Love', 'Mike Coen'),\n",
       " ('Stars Fell On Alabama', 'Mark Roswell Trio'),\n",
       " ('Blue Room', 'Astoria Three'),\n",
       " ('Nancy (WIth The Laughing Face)', 'Cecil Andrews'),\n",
       " (\"Don't Go To Strangers\", 'Old Town Trio'),\n",
       " (\"You're Just Full of Inspiration\", 'Lachlan Wright Trio'),\n",
       " ('I Will Wait For You', 'Piper Williamson'),\n",
       " ('Midday Walk', 'Loft Trio'),\n",
       " ('I Got It Bad', 'Eric Rowland'),\n",
       " (\"It's You Or No One\", 'The Blue Green'),\n",
       " ('I Still See You In My Dreams', 'Japari Park'),\n",
       " ('Waiting', 'Streetlight Trio'),\n",
       " ('Thoughtful Proposal', 'James Jackson Jazz Trio'),\n",
       " ('These Foolish Things', 'Tribute Trio'),\n",
       " ('Down the Pawn Shop', 'Louie Hobbs Trio'),\n",
       " ('Polkadots And Moonbeams', 'Reuben Plays'),\n",
       " ('A Time For Love', 'Hermie'),\n",
       " ('Stillness is a Gift', 'James Jackson Jazz Trio'),\n",
       " ('After Hours', 'Eduard Landings'),\n",
       " ('Poor Butterfly', 'Benjamine Leroy Quartet'),\n",
       " ('My Little Brown Book', 'Mitch Coleman'),\n",
       " ('Varenne', 'Bladverk Band'),\n",
       " ('The Night We Called It A Day', 'Odo Lefebvre'),\n",
       " ('Silent Thunder', 'Carla Anderson'),\n",
       " ('Rising Apple Tree of Hope', 'Kingsbury Station'),\n",
       " ('I Know Too Well', 'Reuben Plays'),\n",
       " ('A Life Remembered', 'Bridgerton Vail'),\n",
       " ('At Dusk', 'Hara Noda'),\n",
       " ('Life At Point Nemo', 'Andreas Gidlund'),\n",
       " ('Lilys Dream', 'Japari Park'),\n",
       " ('Younger', 'The Mill Basin Band'),\n",
       " ('Forgetful', 'Ballroom Jazz Collective'),\n",
       " ('Remembrance', 'Grayville Trio'),\n",
       " ('The Imager', 'Andy Goodman'),\n",
       " ('Manhattan', 'Mabon Clarke Quartet'),\n",
       " ('On The Street Where You Live', 'Angela Rowles'),\n",
       " (\"I'm Glad There's You\", 'Gene Hart Trio'),\n",
       " ('Baubles, Bangles & Beads', 'Nick Osman Trio'),\n",
       " (\"I'm Getting Sentimental Over You\", 'Chris Memento'),\n",
       " (\"I Guess I'll Have To Change My Plans\", 'Corin Stannard Trio'),\n",
       " (\"What's Life Without You\", 'Mr. Right Time'),\n",
       " ('April In Paris', 'Marc Henley Trio'),\n",
       " ('Vi drar till fjället', 'Sodermalm Strand'),\n",
       " ('Counting Stars', 'Rainy Days Trio'),\n",
       " ('Casual', 'Baker St.'),\n",
       " ('Love For Sale', 'Pablo Ilanda Trio'),\n",
       " ('Mornin', 'James Earle Trio'),\n",
       " ('I Promise to Love', 'Gillian Spencer Trio'),\n",
       " ('The Flow of Your Way', 'Lachlan Wright Trio'),\n",
       " ('Sails', 'Manor Blue'),\n",
       " ('The Turning Point', 'Old Town Trio'),\n",
       " ('If You Could See Me Now', 'Cedar Wright'),\n",
       " ('Tomorrow', 'Ray Horne Trio'),\n",
       " ('All That You Are', 'Elvin Vanguard'),\n",
       " ('Akaishi', 'Moonside Trio'),\n",
       " ('Through The Years', 'Will Rivers Trio'),\n",
       " ('Time To Ponder', 'The Lyon Hearts'),\n",
       " ('May Dance', 'Trio Del Norte')]"
      ]
     },
     "execution_count": 114,
     "metadata": {},
     "output_type": "execute_result"
    }
   ],
   "source": [
    "get_name_artists_from_playlist(playlist1)"
   ]
  },
  {
   "cell_type": "code",
   "execution_count": 115,
   "id": "5bbcb0bc",
   "metadata": {},
   "outputs": [
    {
     "data": {
      "text/plain": [
       "'Autumn In New York'"
      ]
     },
     "execution_count": 115,
     "metadata": {},
     "output_type": "execute_result"
    }
   ],
   "source": [
    "test = get_name_artists_from_playlist(playlist1)\n",
    "test[3][0]"
   ]
  },
  {
   "cell_type": "code",
   "execution_count": 116,
   "id": "a4223e30",
   "metadata": {},
   "outputs": [
    {
     "data": {
      "text/plain": [
       "'Meadow Park'"
      ]
     },
     "execution_count": 116,
     "metadata": {},
     "output_type": "execute_result"
    }
   ],
   "source": [
    "# to access the artist\n",
    "all_tracks[0]['track']['album']['artists'][0]['name']#['name'] #['album_type']['artists']"
   ]
  },
  {
   "cell_type": "code",
   "execution_count": 117,
   "id": "2fe6c0ca",
   "metadata": {},
   "outputs": [
    {
     "data": {
      "text/plain": [
       "'Without A Song'"
      ]
     },
     "execution_count": 117,
     "metadata": {},
     "output_type": "execute_result"
    }
   ],
   "source": [
    "# to access the song\n",
    "all_tracks[0]['track']['album']['name']"
   ]
  },
  {
   "cell_type": "code",
   "execution_count": null,
   "id": "0fd5c6ae",
   "metadata": {},
   "outputs": [],
   "source": []
  },
  {
   "cell_type": "code",
   "execution_count": 118,
   "id": "ccd3b85d",
   "metadata": {},
   "outputs": [],
   "source": [
    "playlist1 = sp.user_playlist_tracks(\"spotify\", \"37i9dQZF1DWV7EzJMK2FUI\")"
   ]
  },
  {
   "cell_type": "code",
   "execution_count": 119,
   "id": "945537ed",
   "metadata": {},
   "outputs": [
    {
     "data": {
      "text/plain": [
       "'Like Jazz or Something'"
      ]
     },
     "execution_count": 119,
     "metadata": {},
     "output_type": "execute_result"
    }
   ],
   "source": [
    "playlist1[\"items\"][10][\"track\"][\"name\"] # 11th song on the list"
   ]
  },
  {
   "cell_type": "code",
   "execution_count": 120,
   "id": "096de992",
   "metadata": {},
   "outputs": [
    {
     "data": {
      "text/plain": [
       "'spotify:track:62FrtiVepyS9UGfcTPhu7W'"
      ]
     },
     "execution_count": 120,
     "metadata": {},
     "output_type": "execute_result"
    }
   ],
   "source": [
    "song_uri = playlist1[\"items\"][3][\"track\"][\"uri\"]\n",
    "song_uri"
   ]
  },
  {
   "cell_type": "code",
   "execution_count": 121,
   "id": "1415a2ca",
   "metadata": {},
   "outputs": [
    {
     "data": {
      "text/plain": [
       "[{'danceability': 0.546,\n",
       "  'energy': 0.152,\n",
       "  'key': 7,\n",
       "  'loudness': -17.08,\n",
       "  'mode': 0,\n",
       "  'speechiness': 0.0368,\n",
       "  'acousticness': 0.958,\n",
       "  'instrumentalness': 0.931,\n",
       "  'liveness': 0.3,\n",
       "  'valence': 0.144,\n",
       "  'tempo': 124.562,\n",
       "  'type': 'audio_features',\n",
       "  'id': '62FrtiVepyS9UGfcTPhu7W',\n",
       "  'uri': 'spotify:track:62FrtiVepyS9UGfcTPhu7W',\n",
       "  'track_href': 'https://api.spotify.com/v1/tracks/62FrtiVepyS9UGfcTPhu7W',\n",
       "  'analysis_url': 'https://api.spotify.com/v1/audio-analysis/62FrtiVepyS9UGfcTPhu7W',\n",
       "  'duration_ms': 259680,\n",
       "  'time_signature': 4}]"
      ]
     },
     "execution_count": 121,
     "metadata": {},
     "output_type": "execute_result"
    }
   ],
   "source": [
    "sp.audio_features(song_uri)"
   ]
  },
  {
   "cell_type": "markdown",
   "id": "c623b9ae",
   "metadata": {},
   "source": [
    "# Extracting the artist + song title + song features into dataframe"
   ]
  },
  {
   "cell_type": "code",
   "execution_count": 122,
   "id": "9f89b050",
   "metadata": {},
   "outputs": [],
   "source": [
    "from random import randint\n",
    "from time import sleep\n",
    "\n",
    "def get_playlist_tracks(playlist_id):\n",
    "    results = sp.user_playlist_tracks(\"spotify\",playlist_id)\n",
    "    tracks = results['items']\n",
    "    while results['next']!=None:\n",
    "        results = sp.next(results)\n",
    "        tracks = tracks + results['items']\n",
    "        sleep(randint(1,3)) # 1, 2, or 3 seconds  OR try # sleep(randint(1,3000)/1000)\n",
    "    return tracks"
   ]
  },
  {
   "cell_type": "code",
   "execution_count": 123,
   "id": "fa0ad269",
   "metadata": {},
   "outputs": [],
   "source": [
    "all_tracks = get_playlist_tracks(\"37i9dQZF1DWV7EzJMK2FUI\")"
   ]
  },
  {
   "cell_type": "code",
   "execution_count": 124,
   "id": "34ed5f84",
   "metadata": {},
   "outputs": [],
   "source": [
    "def flatten_it(data, col_list):\n",
    "    for column in col_list:\n",
    "        flattened = pd.DataFrame(dict(data[column])).transpose()\n",
    "        columns = [str(col) for col in flattened.columns]\n",
    "        flattened.columns = [column + '_' + colname for colname in columns]\n",
    "        data = pd.concat([data, flattened], axis=1)\n",
    "        data = data.drop(column, axis=1)\n",
    "    return data"
   ]
  },
  {
   "cell_type": "code",
   "execution_count": 125,
   "id": "1d4bd44a",
   "metadata": {},
   "outputs": [],
   "source": [
    "def playlist_to_df(tracks_list):\n",
    "    artist_s = []\n",
    "    song_s = []\n",
    "    song_uri_s=[]\n",
    "    features_s= []\n",
    "\n",
    "    num_iter = len(tracks_list)\n",
    "\n",
    "    for i in range(num_iter):\n",
    "        artist_s.append(tracks_list[i]['track']['album']['artists'][0]['name'])\n",
    "        song_s.append(tracks_list[i]['track']['album']['name'])\n",
    "        song_uri_s.append(tracks_list[i]['track']['uri'])\n",
    "        features_s.append(sp.audio_features(song_uri_s[i]))\n",
    "        \n",
    "    df_v0= pd.DataFrame({\"artist\":artist_s,\"song\":song_s,\"audio_features\":features_s})\n",
    "    \n",
    "    nested_columns = ['audio_features']\n",
    "    df_v1 = flatten_it(df_v0, nested_columns)\n",
    "    music_df=pd.concat([df_v1.drop(['audio_features_0'], axis=1), df_v1['audio_features_0'].apply(pd.Series)], axis=1)\n",
    "    \n",
    "    return music_df"
   ]
  },
  {
   "cell_type": "code",
   "execution_count": 126,
   "id": "638c3dd8",
   "metadata": {},
   "outputs": [],
   "source": [
    "spotify_df_1=playlist_to_df(all_tracks)"
   ]
  },
  {
   "cell_type": "code",
   "execution_count": 127,
   "id": "a804e982",
   "metadata": {},
   "outputs": [
    {
     "data": {
      "text/html": [
       "<div>\n",
       "<style scoped>\n",
       "    .dataframe tbody tr th:only-of-type {\n",
       "        vertical-align: middle;\n",
       "    }\n",
       "\n",
       "    .dataframe tbody tr th {\n",
       "        vertical-align: top;\n",
       "    }\n",
       "\n",
       "    .dataframe thead th {\n",
       "        text-align: right;\n",
       "    }\n",
       "</style>\n",
       "<table border=\"1\" class=\"dataframe\">\n",
       "  <thead>\n",
       "    <tr style=\"text-align: right;\">\n",
       "      <th></th>\n",
       "      <th>artist</th>\n",
       "      <th>song</th>\n",
       "      <th>danceability</th>\n",
       "      <th>energy</th>\n",
       "      <th>key</th>\n",
       "      <th>loudness</th>\n",
       "      <th>mode</th>\n",
       "      <th>speechiness</th>\n",
       "      <th>acousticness</th>\n",
       "      <th>instrumentalness</th>\n",
       "      <th>liveness</th>\n",
       "      <th>valence</th>\n",
       "      <th>tempo</th>\n",
       "      <th>type</th>\n",
       "      <th>id</th>\n",
       "      <th>uri</th>\n",
       "      <th>track_href</th>\n",
       "      <th>analysis_url</th>\n",
       "      <th>duration_ms</th>\n",
       "      <th>time_signature</th>\n",
       "    </tr>\n",
       "  </thead>\n",
       "  <tbody>\n",
       "    <tr>\n",
       "      <th>0</th>\n",
       "      <td>Meadow Park</td>\n",
       "      <td>Without A Song</td>\n",
       "      <td>0.475</td>\n",
       "      <td>0.1380</td>\n",
       "      <td>5</td>\n",
       "      <td>-17.099</td>\n",
       "      <td>0</td>\n",
       "      <td>0.0424</td>\n",
       "      <td>0.965</td>\n",
       "      <td>0.884</td>\n",
       "      <td>0.0971</td>\n",
       "      <td>0.1230</td>\n",
       "      <td>118.338</td>\n",
       "      <td>audio_features</td>\n",
       "      <td>1nsMASRDWwUwlBMmOuh80d</td>\n",
       "      <td>spotify:track:1nsMASRDWwUwlBMmOuh80d</td>\n",
       "      <td>https://api.spotify.com/v1/tracks/1nsMASRDWwUw...</td>\n",
       "      <td>https://api.spotify.com/v1/audio-analysis/1nsM...</td>\n",
       "      <td>236785</td>\n",
       "      <td>4</td>\n",
       "    </tr>\n",
       "    <tr>\n",
       "      <th>1</th>\n",
       "      <td>Madeleine West</td>\n",
       "      <td>Sometime Ago</td>\n",
       "      <td>0.538</td>\n",
       "      <td>0.1400</td>\n",
       "      <td>9</td>\n",
       "      <td>-17.368</td>\n",
       "      <td>0</td>\n",
       "      <td>0.0393</td>\n",
       "      <td>0.937</td>\n",
       "      <td>0.893</td>\n",
       "      <td>0.3240</td>\n",
       "      <td>0.1950</td>\n",
       "      <td>86.259</td>\n",
       "      <td>audio_features</td>\n",
       "      <td>6HZgxhesyOy8jkTiAFfQmR</td>\n",
       "      <td>spotify:track:6HZgxhesyOy8jkTiAFfQmR</td>\n",
       "      <td>https://api.spotify.com/v1/tracks/6HZgxhesyOy8...</td>\n",
       "      <td>https://api.spotify.com/v1/audio-analysis/6HZg...</td>\n",
       "      <td>160919</td>\n",
       "      <td>3</td>\n",
       "    </tr>\n",
       "    <tr>\n",
       "      <th>2</th>\n",
       "      <td>Al Fowler Trio</td>\n",
       "      <td>Prelude To A Kiss</td>\n",
       "      <td>0.629</td>\n",
       "      <td>0.1520</td>\n",
       "      <td>9</td>\n",
       "      <td>-18.659</td>\n",
       "      <td>0</td>\n",
       "      <td>0.0400</td>\n",
       "      <td>0.967</td>\n",
       "      <td>0.904</td>\n",
       "      <td>0.1090</td>\n",
       "      <td>0.0966</td>\n",
       "      <td>116.833</td>\n",
       "      <td>audio_features</td>\n",
       "      <td>4Csbgu7LMDGPLjhPgHfQmZ</td>\n",
       "      <td>spotify:track:4Csbgu7LMDGPLjhPgHfQmZ</td>\n",
       "      <td>https://api.spotify.com/v1/tracks/4Csbgu7LMDGP...</td>\n",
       "      <td>https://api.spotify.com/v1/audio-analysis/4Csb...</td>\n",
       "      <td>275743</td>\n",
       "      <td>4</td>\n",
       "    </tr>\n",
       "    <tr>\n",
       "      <th>3</th>\n",
       "      <td>Mayfare Trio</td>\n",
       "      <td>Autumn In New York</td>\n",
       "      <td>0.546</td>\n",
       "      <td>0.1520</td>\n",
       "      <td>7</td>\n",
       "      <td>-17.080</td>\n",
       "      <td>0</td>\n",
       "      <td>0.0368</td>\n",
       "      <td>0.958</td>\n",
       "      <td>0.931</td>\n",
       "      <td>0.3000</td>\n",
       "      <td>0.1440</td>\n",
       "      <td>124.562</td>\n",
       "      <td>audio_features</td>\n",
       "      <td>62FrtiVepyS9UGfcTPhu7W</td>\n",
       "      <td>spotify:track:62FrtiVepyS9UGfcTPhu7W</td>\n",
       "      <td>https://api.spotify.com/v1/tracks/62FrtiVepyS9...</td>\n",
       "      <td>https://api.spotify.com/v1/audio-analysis/62Fr...</td>\n",
       "      <td>259680</td>\n",
       "      <td>4</td>\n",
       "    </tr>\n",
       "    <tr>\n",
       "      <th>4</th>\n",
       "      <td>Bill Charlap Trio</td>\n",
       "      <td>Street Of Dreams</td>\n",
       "      <td>0.432</td>\n",
       "      <td>0.0951</td>\n",
       "      <td>1</td>\n",
       "      <td>-23.511</td>\n",
       "      <td>1</td>\n",
       "      <td>0.0388</td>\n",
       "      <td>0.909</td>\n",
       "      <td>0.890</td>\n",
       "      <td>0.1170</td>\n",
       "      <td>0.0930</td>\n",
       "      <td>100.265</td>\n",
       "      <td>audio_features</td>\n",
       "      <td>5Smmg9SpxnawbuYPKSNcmx</td>\n",
       "      <td>spotify:track:5Smmg9SpxnawbuYPKSNcmx</td>\n",
       "      <td>https://api.spotify.com/v1/tracks/5Smmg9Spxnaw...</td>\n",
       "      <td>https://api.spotify.com/v1/audio-analysis/5Smm...</td>\n",
       "      <td>373840</td>\n",
       "      <td>4</td>\n",
       "    </tr>\n",
       "  </tbody>\n",
       "</table>\n",
       "</div>"
      ],
      "text/plain": [
       "              artist                song  danceability  energy  key  loudness  \\\n",
       "0        Meadow Park      Without A Song         0.475  0.1380    5   -17.099   \n",
       "1     Madeleine West        Sometime Ago         0.538  0.1400    9   -17.368   \n",
       "2     Al Fowler Trio   Prelude To A Kiss         0.629  0.1520    9   -18.659   \n",
       "3       Mayfare Trio  Autumn In New York         0.546  0.1520    7   -17.080   \n",
       "4  Bill Charlap Trio    Street Of Dreams         0.432  0.0951    1   -23.511   \n",
       "\n",
       "   mode  speechiness  acousticness  instrumentalness  liveness  valence  \\\n",
       "0     0       0.0424         0.965             0.884    0.0971   0.1230   \n",
       "1     0       0.0393         0.937             0.893    0.3240   0.1950   \n",
       "2     0       0.0400         0.967             0.904    0.1090   0.0966   \n",
       "3     0       0.0368         0.958             0.931    0.3000   0.1440   \n",
       "4     1       0.0388         0.909             0.890    0.1170   0.0930   \n",
       "\n",
       "     tempo            type                      id  \\\n",
       "0  118.338  audio_features  1nsMASRDWwUwlBMmOuh80d   \n",
       "1   86.259  audio_features  6HZgxhesyOy8jkTiAFfQmR   \n",
       "2  116.833  audio_features  4Csbgu7LMDGPLjhPgHfQmZ   \n",
       "3  124.562  audio_features  62FrtiVepyS9UGfcTPhu7W   \n",
       "4  100.265  audio_features  5Smmg9SpxnawbuYPKSNcmx   \n",
       "\n",
       "                                    uri  \\\n",
       "0  spotify:track:1nsMASRDWwUwlBMmOuh80d   \n",
       "1  spotify:track:6HZgxhesyOy8jkTiAFfQmR   \n",
       "2  spotify:track:4Csbgu7LMDGPLjhPgHfQmZ   \n",
       "3  spotify:track:62FrtiVepyS9UGfcTPhu7W   \n",
       "4  spotify:track:5Smmg9SpxnawbuYPKSNcmx   \n",
       "\n",
       "                                          track_href  \\\n",
       "0  https://api.spotify.com/v1/tracks/1nsMASRDWwUw...   \n",
       "1  https://api.spotify.com/v1/tracks/6HZgxhesyOy8...   \n",
       "2  https://api.spotify.com/v1/tracks/4Csbgu7LMDGP...   \n",
       "3  https://api.spotify.com/v1/tracks/62FrtiVepyS9...   \n",
       "4  https://api.spotify.com/v1/tracks/5Smmg9Spxnaw...   \n",
       "\n",
       "                                        analysis_url  duration_ms  \\\n",
       "0  https://api.spotify.com/v1/audio-analysis/1nsM...       236785   \n",
       "1  https://api.spotify.com/v1/audio-analysis/6HZg...       160919   \n",
       "2  https://api.spotify.com/v1/audio-analysis/4Csb...       275743   \n",
       "3  https://api.spotify.com/v1/audio-analysis/62Fr...       259680   \n",
       "4  https://api.spotify.com/v1/audio-analysis/5Smm...       373840   \n",
       "\n",
       "   time_signature  \n",
       "0               4  \n",
       "1               3  \n",
       "2               4  \n",
       "3               4  \n",
       "4               4  "
      ]
     },
     "metadata": {},
     "output_type": "display_data"
    },
    {
     "data": {
      "text/plain": [
       "(376, 20)"
      ]
     },
     "metadata": {},
     "output_type": "display_data"
    }
   ],
   "source": [
    "display(spotify_df_1.head())\n",
    "display(spotify_df_1.shape)"
   ]
  },
  {
   "cell_type": "markdown",
   "id": "e4ed694c",
   "metadata": {},
   "source": [
    "# Next vibe - Movie tracks"
   ]
  },
  {
   "cell_type": "code",
   "execution_count": 128,
   "id": "ad8b751d",
   "metadata": {},
   "outputs": [],
   "source": [
    "all_tracks_2 = get_playlist_tracks(\"6sNDAFPubg3k4CuyH1fqrR\")"
   ]
  },
  {
   "cell_type": "code",
   "execution_count": 129,
   "id": "4aaf1862",
   "metadata": {},
   "outputs": [
    {
     "data": {
      "text/plain": [
       "1015"
      ]
     },
     "execution_count": 129,
     "metadata": {},
     "output_type": "execute_result"
    }
   ],
   "source": [
    "len(all_tracks_2)"
   ]
  },
  {
   "cell_type": "code",
   "execution_count": 130,
   "id": "212697a1",
   "metadata": {},
   "outputs": [],
   "source": [
    "spotify_df_2=playlist_to_df(all_tracks_2)"
   ]
  },
  {
   "cell_type": "code",
   "execution_count": 131,
   "id": "98665186",
   "metadata": {},
   "outputs": [
    {
     "data": {
      "text/html": [
       "<div>\n",
       "<style scoped>\n",
       "    .dataframe tbody tr th:only-of-type {\n",
       "        vertical-align: middle;\n",
       "    }\n",
       "\n",
       "    .dataframe tbody tr th {\n",
       "        vertical-align: top;\n",
       "    }\n",
       "\n",
       "    .dataframe thead th {\n",
       "        text-align: right;\n",
       "    }\n",
       "</style>\n",
       "<table border=\"1\" class=\"dataframe\">\n",
       "  <thead>\n",
       "    <tr style=\"text-align: right;\">\n",
       "      <th></th>\n",
       "      <th>artist</th>\n",
       "      <th>song</th>\n",
       "      <th>danceability</th>\n",
       "      <th>energy</th>\n",
       "      <th>key</th>\n",
       "      <th>loudness</th>\n",
       "      <th>mode</th>\n",
       "      <th>speechiness</th>\n",
       "      <th>acousticness</th>\n",
       "      <th>instrumentalness</th>\n",
       "      <th>liveness</th>\n",
       "      <th>valence</th>\n",
       "      <th>tempo</th>\n",
       "      <th>type</th>\n",
       "      <th>id</th>\n",
       "      <th>uri</th>\n",
       "      <th>track_href</th>\n",
       "      <th>analysis_url</th>\n",
       "      <th>duration_ms</th>\n",
       "      <th>time_signature</th>\n",
       "    </tr>\n",
       "  </thead>\n",
       "  <tbody>\n",
       "    <tr>\n",
       "      <th>0</th>\n",
       "      <td>Various Artists</td>\n",
       "      <td>AVATAR Music From The Motion Picture Music Com...</td>\n",
       "      <td>0.0993</td>\n",
       "      <td>0.0902</td>\n",
       "      <td>1</td>\n",
       "      <td>-26.307</td>\n",
       "      <td>1</td>\n",
       "      <td>0.0428</td>\n",
       "      <td>0.692</td>\n",
       "      <td>0.8500</td>\n",
       "      <td>0.0745</td>\n",
       "      <td>0.0382</td>\n",
       "      <td>71.062</td>\n",
       "      <td>audio_features</td>\n",
       "      <td>1UBd7aWHZCz8yirI9KCvAU</td>\n",
       "      <td>spotify:track:1UBd7aWHZCz8yirI9KCvAU</td>\n",
       "      <td>https://api.spotify.com/v1/tracks/1UBd7aWHZCz8...</td>\n",
       "      <td>https://api.spotify.com/v1/audio-analysis/1UBd...</td>\n",
       "      <td>463707</td>\n",
       "      <td>3</td>\n",
       "    </tr>\n",
       "    <tr>\n",
       "      <th>1</th>\n",
       "      <td>James Horner</td>\n",
       "      <td>Braveheart - Original Motion Picture Soundtrack</td>\n",
       "      <td>0.1870</td>\n",
       "      <td>0.0602</td>\n",
       "      <td>9</td>\n",
       "      <td>-25.767</td>\n",
       "      <td>0</td>\n",
       "      <td>0.0464</td>\n",
       "      <td>0.408</td>\n",
       "      <td>0.9220</td>\n",
       "      <td>0.1220</td>\n",
       "      <td>0.0362</td>\n",
       "      <td>68.751</td>\n",
       "      <td>audio_features</td>\n",
       "      <td>22yxHt6UqZpH7tP6W4PooI</td>\n",
       "      <td>spotify:track:22yxHt6UqZpH7tP6W4PooI</td>\n",
       "      <td>https://api.spotify.com/v1/tracks/22yxHt6UqZpH...</td>\n",
       "      <td>https://api.spotify.com/v1/audio-analysis/22yx...</td>\n",
       "      <td>247333</td>\n",
       "      <td>4</td>\n",
       "    </tr>\n",
       "    <tr>\n",
       "      <th>2</th>\n",
       "      <td>Various Artists</td>\n",
       "      <td>The Lord of the Rings: The Fellowship of the R...</td>\n",
       "      <td>0.1040</td>\n",
       "      <td>0.1110</td>\n",
       "      <td>1</td>\n",
       "      <td>-20.031</td>\n",
       "      <td>1</td>\n",
       "      <td>0.0517</td>\n",
       "      <td>0.979</td>\n",
       "      <td>0.9260</td>\n",
       "      <td>0.1100</td>\n",
       "      <td>0.0390</td>\n",
       "      <td>83.933</td>\n",
       "      <td>audio_features</td>\n",
       "      <td>3Knohqfb9jeYzL6wMZiWLM</td>\n",
       "      <td>spotify:track:3Knohqfb9jeYzL6wMZiWLM</td>\n",
       "      <td>https://api.spotify.com/v1/tracks/3Knohqfb9jeY...</td>\n",
       "      <td>https://api.spotify.com/v1/audio-analysis/3Kno...</td>\n",
       "      <td>229107</td>\n",
       "      <td>4</td>\n",
       "    </tr>\n",
       "    <tr>\n",
       "      <th>3</th>\n",
       "      <td>The Lyndhurst Orchestra</td>\n",
       "      <td>Gladiator - Music From The Motion Picture</td>\n",
       "      <td>0.3280</td>\n",
       "      <td>0.2190</td>\n",
       "      <td>9</td>\n",
       "      <td>-18.595</td>\n",
       "      <td>1</td>\n",
       "      <td>0.0337</td>\n",
       "      <td>0.579</td>\n",
       "      <td>0.0991</td>\n",
       "      <td>0.1040</td>\n",
       "      <td>0.0387</td>\n",
       "      <td>138.022</td>\n",
       "      <td>audio_features</td>\n",
       "      <td>11IXRdEjiH0KL8nh4G1j7d</td>\n",
       "      <td>spotify:track:11IXRdEjiH0KL8nh4G1j7d</td>\n",
       "      <td>https://api.spotify.com/v1/tracks/11IXRdEjiH0K...</td>\n",
       "      <td>https://api.spotify.com/v1/audio-analysis/11IX...</td>\n",
       "      <td>254293</td>\n",
       "      <td>4</td>\n",
       "    </tr>\n",
       "    <tr>\n",
       "      <th>4</th>\n",
       "      <td>Alan Silvestri</td>\n",
       "      <td>Forrest Gump - Original Motion Picture Score</td>\n",
       "      <td>0.1110</td>\n",
       "      <td>0.1030</td>\n",
       "      <td>5</td>\n",
       "      <td>-18.360</td>\n",
       "      <td>1</td>\n",
       "      <td>0.0356</td>\n",
       "      <td>0.893</td>\n",
       "      <td>0.8160</td>\n",
       "      <td>0.1640</td>\n",
       "      <td>0.0448</td>\n",
       "      <td>84.520</td>\n",
       "      <td>audio_features</td>\n",
       "      <td>435vx38BVoUIqSG1VfoJOh</td>\n",
       "      <td>spotify:track:435vx38BVoUIqSG1VfoJOh</td>\n",
       "      <td>https://api.spotify.com/v1/tracks/435vx38BVoUI...</td>\n",
       "      <td>https://api.spotify.com/v1/audio-analysis/435v...</td>\n",
       "      <td>394240</td>\n",
       "      <td>4</td>\n",
       "    </tr>\n",
       "  </tbody>\n",
       "</table>\n",
       "</div>"
      ],
      "text/plain": [
       "                    artist                                               song  \\\n",
       "0          Various Artists  AVATAR Music From The Motion Picture Music Com...   \n",
       "1             James Horner    Braveheart - Original Motion Picture Soundtrack   \n",
       "2          Various Artists  The Lord of the Rings: The Fellowship of the R...   \n",
       "3  The Lyndhurst Orchestra          Gladiator - Music From The Motion Picture   \n",
       "4           Alan Silvestri       Forrest Gump - Original Motion Picture Score   \n",
       "\n",
       "   danceability  energy  key  loudness  mode  speechiness  acousticness  \\\n",
       "0        0.0993  0.0902    1   -26.307     1       0.0428         0.692   \n",
       "1        0.1870  0.0602    9   -25.767     0       0.0464         0.408   \n",
       "2        0.1040  0.1110    1   -20.031     1       0.0517         0.979   \n",
       "3        0.3280  0.2190    9   -18.595     1       0.0337         0.579   \n",
       "4        0.1110  0.1030    5   -18.360     1       0.0356         0.893   \n",
       "\n",
       "   instrumentalness  liveness  valence    tempo            type  \\\n",
       "0            0.8500    0.0745   0.0382   71.062  audio_features   \n",
       "1            0.9220    0.1220   0.0362   68.751  audio_features   \n",
       "2            0.9260    0.1100   0.0390   83.933  audio_features   \n",
       "3            0.0991    0.1040   0.0387  138.022  audio_features   \n",
       "4            0.8160    0.1640   0.0448   84.520  audio_features   \n",
       "\n",
       "                       id                                   uri  \\\n",
       "0  1UBd7aWHZCz8yirI9KCvAU  spotify:track:1UBd7aWHZCz8yirI9KCvAU   \n",
       "1  22yxHt6UqZpH7tP6W4PooI  spotify:track:22yxHt6UqZpH7tP6W4PooI   \n",
       "2  3Knohqfb9jeYzL6wMZiWLM  spotify:track:3Knohqfb9jeYzL6wMZiWLM   \n",
       "3  11IXRdEjiH0KL8nh4G1j7d  spotify:track:11IXRdEjiH0KL8nh4G1j7d   \n",
       "4  435vx38BVoUIqSG1VfoJOh  spotify:track:435vx38BVoUIqSG1VfoJOh   \n",
       "\n",
       "                                          track_href  \\\n",
       "0  https://api.spotify.com/v1/tracks/1UBd7aWHZCz8...   \n",
       "1  https://api.spotify.com/v1/tracks/22yxHt6UqZpH...   \n",
       "2  https://api.spotify.com/v1/tracks/3Knohqfb9jeY...   \n",
       "3  https://api.spotify.com/v1/tracks/11IXRdEjiH0K...   \n",
       "4  https://api.spotify.com/v1/tracks/435vx38BVoUI...   \n",
       "\n",
       "                                        analysis_url  duration_ms  \\\n",
       "0  https://api.spotify.com/v1/audio-analysis/1UBd...       463707   \n",
       "1  https://api.spotify.com/v1/audio-analysis/22yx...       247333   \n",
       "2  https://api.spotify.com/v1/audio-analysis/3Kno...       229107   \n",
       "3  https://api.spotify.com/v1/audio-analysis/11IX...       254293   \n",
       "4  https://api.spotify.com/v1/audio-analysis/435v...       394240   \n",
       "\n",
       "   time_signature  \n",
       "0               3  \n",
       "1               4  \n",
       "2               4  \n",
       "3               4  \n",
       "4               4  "
      ]
     },
     "metadata": {},
     "output_type": "display_data"
    },
    {
     "data": {
      "text/plain": [
       "(1015, 20)"
      ]
     },
     "metadata": {},
     "output_type": "display_data"
    }
   ],
   "source": [
    "display(spotify_df_2.head())\n",
    "display(spotify_df_2.shape)"
   ]
  },
  {
   "cell_type": "markdown",
   "id": "f2a7db6b",
   "metadata": {},
   "source": [
    "# Next vibe"
   ]
  },
  {
   "cell_type": "code",
   "execution_count": 132,
   "id": "2f226dcb",
   "metadata": {},
   "outputs": [],
   "source": [
    "all_tracks_3 = get_playlist_tracks(\"6S7bfwjMVEOdjg05OMojYs\")"
   ]
  },
  {
   "cell_type": "code",
   "execution_count": 133,
   "id": "6df84690",
   "metadata": {},
   "outputs": [
    {
     "data": {
      "text/plain": [
       "181"
      ]
     },
     "execution_count": 133,
     "metadata": {},
     "output_type": "execute_result"
    }
   ],
   "source": [
    "len(all_tracks_3)"
   ]
  },
  {
   "cell_type": "code",
   "execution_count": 134,
   "id": "995daeba",
   "metadata": {},
   "outputs": [],
   "source": [
    "spotify_df_3=playlist_to_df(all_tracks_3)"
   ]
  },
  {
   "cell_type": "code",
   "execution_count": 135,
   "id": "79bd2c62",
   "metadata": {},
   "outputs": [
    {
     "data": {
      "text/plain": [
       "(181, 20)"
      ]
     },
     "metadata": {},
     "output_type": "display_data"
    }
   ],
   "source": [
    "#display(spotify_df_3.head())\n",
    "display(spotify_df_3.shape)"
   ]
  },
  {
   "cell_type": "markdown",
   "id": "8392d1d9",
   "metadata": {},
   "source": [
    "# Next vibe"
   ]
  },
  {
   "cell_type": "code",
   "execution_count": 136,
   "id": "9e3a45da",
   "metadata": {},
   "outputs": [],
   "source": [
    "all_tracks_4 = get_playlist_tracks(\"5KlBx4Ll6MxIonMVQwaUcx\")"
   ]
  },
  {
   "cell_type": "code",
   "execution_count": 137,
   "id": "dc13f416",
   "metadata": {},
   "outputs": [
    {
     "data": {
      "text/plain": [
       "433"
      ]
     },
     "execution_count": 137,
     "metadata": {},
     "output_type": "execute_result"
    }
   ],
   "source": [
    "len(all_tracks_4)"
   ]
  },
  {
   "cell_type": "code",
   "execution_count": 138,
   "id": "5c481760",
   "metadata": {},
   "outputs": [],
   "source": [
    "spotify_df_4=playlist_to_df(all_tracks_4)"
   ]
  },
  {
   "cell_type": "code",
   "execution_count": 139,
   "id": "4018e4c0",
   "metadata": {},
   "outputs": [
    {
     "data": {
      "text/plain": [
       "(433, 20)"
      ]
     },
     "metadata": {},
     "output_type": "display_data"
    }
   ],
   "source": [
    "display(spotify_df_4.shape)"
   ]
  },
  {
   "cell_type": "markdown",
   "id": "d4cc42e8",
   "metadata": {},
   "source": [
    "# Next vibe - Prog Metal"
   ]
  },
  {
   "cell_type": "code",
   "execution_count": 140,
   "id": "edb6d924",
   "metadata": {},
   "outputs": [],
   "source": [
    "all_tracks_5 = get_playlist_tracks(\"1G6urCIzePuNBAcJ9zJ9hb\")"
   ]
  },
  {
   "cell_type": "code",
   "execution_count": 141,
   "id": "9391455c",
   "metadata": {},
   "outputs": [
    {
     "data": {
      "text/plain": [
       "236"
      ]
     },
     "execution_count": 141,
     "metadata": {},
     "output_type": "execute_result"
    }
   ],
   "source": [
    "len(all_tracks_5)"
   ]
  },
  {
   "cell_type": "code",
   "execution_count": 142,
   "id": "ba9bde93",
   "metadata": {},
   "outputs": [],
   "source": [
    "spotify_df_5=playlist_to_df(all_tracks_5)"
   ]
  },
  {
   "cell_type": "code",
   "execution_count": 143,
   "id": "a1512808",
   "metadata": {},
   "outputs": [
    {
     "data": {
      "text/plain": [
       "(236, 20)"
      ]
     },
     "metadata": {},
     "output_type": "display_data"
    }
   ],
   "source": [
    "display(spotify_df_5.shape)"
   ]
  },
  {
   "cell_type": "markdown",
   "id": "31990ef7",
   "metadata": {},
   "source": [
    "# Next vibe - 80s "
   ]
  },
  {
   "cell_type": "code",
   "execution_count": 144,
   "id": "0df04374",
   "metadata": {},
   "outputs": [],
   "source": [
    "all_tracks_6 = get_playlist_tracks(\"37i9dQZF1DX4UtSsGT1Sbe\")"
   ]
  },
  {
   "cell_type": "code",
   "execution_count": 145,
   "id": "55402de4",
   "metadata": {},
   "outputs": [
    {
     "data": {
      "text/plain": [
       "150"
      ]
     },
     "execution_count": 145,
     "metadata": {},
     "output_type": "execute_result"
    }
   ],
   "source": [
    "len(all_tracks_6)"
   ]
  },
  {
   "cell_type": "code",
   "execution_count": 146,
   "id": "2c977a1b",
   "metadata": {},
   "outputs": [],
   "source": [
    "spotify_df_6=playlist_to_df(all_tracks_6)"
   ]
  },
  {
   "cell_type": "code",
   "execution_count": 147,
   "id": "c1217cb5",
   "metadata": {},
   "outputs": [
    {
     "data": {
      "text/plain": [
       "(150, 20)"
      ]
     },
     "metadata": {},
     "output_type": "display_data"
    }
   ],
   "source": [
    "display(spotify_df_6.shape)"
   ]
  },
  {
   "cell_type": "markdown",
   "id": "7ec9a4ea",
   "metadata": {},
   "source": [
    "# Next vibe - 2000s"
   ]
  },
  {
   "cell_type": "code",
   "execution_count": 148,
   "id": "1f5e618d",
   "metadata": {},
   "outputs": [],
   "source": [
    "all_track_7 = get_playlist_tracks(\"37i9dQZF1DX4o1oenSJRJd\")"
   ]
  },
  {
   "cell_type": "code",
   "execution_count": 149,
   "id": "9ac16c8c",
   "metadata": {},
   "outputs": [
    {
     "data": {
      "text/plain": [
       "150"
      ]
     },
     "execution_count": 149,
     "metadata": {},
     "output_type": "execute_result"
    }
   ],
   "source": [
    "len(all_track_7)"
   ]
  },
  {
   "cell_type": "code",
   "execution_count": 150,
   "id": "ab169fd1",
   "metadata": {},
   "outputs": [],
   "source": [
    "spotify_df_7=playlist_to_df(all_track_7)"
   ]
  },
  {
   "cell_type": "code",
   "execution_count": 151,
   "id": "1f5f8468",
   "metadata": {},
   "outputs": [
    {
     "data": {
      "text/plain": [
       "(150, 20)"
      ]
     },
     "metadata": {},
     "output_type": "display_data"
    }
   ],
   "source": [
    "display(spotify_df_7.shape)"
   ]
  },
  {
   "cell_type": "markdown",
   "id": "d9454ac4",
   "metadata": {},
   "source": [
    "# Next vibe - short but gold"
   ]
  },
  {
   "cell_type": "code",
   "execution_count": 152,
   "id": "7379546d",
   "metadata": {},
   "outputs": [],
   "source": [
    "all_track_8 = get_playlist_tracks(\"37i9dQZF1DX1BGjF5N5O7F\")"
   ]
  },
  {
   "cell_type": "code",
   "execution_count": 153,
   "id": "50feb131",
   "metadata": {},
   "outputs": [
    {
     "data": {
      "text/plain": [
       "50"
      ]
     },
     "execution_count": 153,
     "metadata": {},
     "output_type": "execute_result"
    }
   ],
   "source": [
    "len(all_track_8)"
   ]
  },
  {
   "cell_type": "code",
   "execution_count": 154,
   "id": "0713bcd1",
   "metadata": {},
   "outputs": [],
   "source": [
    "spotify_df_8=playlist_to_df(all_track_8)"
   ]
  },
  {
   "cell_type": "code",
   "execution_count": 155,
   "id": "b9ae54c3",
   "metadata": {},
   "outputs": [
    {
     "data": {
      "text/plain": [
       "(50, 20)"
      ]
     },
     "metadata": {},
     "output_type": "display_data"
    }
   ],
   "source": [
    "display(spotify_df_8.shape)"
   ]
  },
  {
   "cell_type": "markdown",
   "id": "1b6571db",
   "metadata": {},
   "source": [
    "# Next vibe - Girlpower"
   ]
  },
  {
   "cell_type": "code",
   "execution_count": 156,
   "id": "74872a89",
   "metadata": {},
   "outputs": [],
   "source": [
    "all_track_9 = get_playlist_tracks(\"1Sb6XA7RTJunMoh1sDLijG\")"
   ]
  },
  {
   "cell_type": "code",
   "execution_count": 157,
   "id": "0613dbc9",
   "metadata": {},
   "outputs": [
    {
     "data": {
      "text/plain": [
       "183"
      ]
     },
     "execution_count": 157,
     "metadata": {},
     "output_type": "execute_result"
    }
   ],
   "source": [
    "len(all_track_9)"
   ]
  },
  {
   "cell_type": "code",
   "execution_count": 158,
   "id": "ead3c55b",
   "metadata": {},
   "outputs": [],
   "source": [
    "spotify_df_9=playlist_to_df(all_track_9)"
   ]
  },
  {
   "cell_type": "code",
   "execution_count": 159,
   "id": "5887e441",
   "metadata": {},
   "outputs": [
    {
     "data": {
      "text/plain": [
       "(183, 20)"
      ]
     },
     "metadata": {},
     "output_type": "display_data"
    }
   ],
   "source": [
    "display(spotify_df_9.shape)"
   ]
  },
  {
   "cell_type": "markdown",
   "id": "d7ed4dee",
   "metadata": {},
   "source": [
    "# Next vibe - Dropping the big bomb"
   ]
  },
  {
   "cell_type": "code",
   "execution_count": 160,
   "id": "26993f90",
   "metadata": {},
   "outputs": [],
   "source": [
    "all_track_10 = get_playlist_tracks(\"532F1h299qKD894BlPfJJF\")"
   ]
  },
  {
   "cell_type": "code",
   "execution_count": 161,
   "id": "feb9ffa9",
   "metadata": {},
   "outputs": [
    {
     "data": {
      "text/plain": [
       "6246"
      ]
     },
     "execution_count": 161,
     "metadata": {},
     "output_type": "execute_result"
    }
   ],
   "source": [
    "len(all_track_10)"
   ]
  },
  {
   "cell_type": "code",
   "execution_count": 162,
   "id": "92911ab5",
   "metadata": {},
   "outputs": [],
   "source": [
    "spotify_df_10=playlist_to_df(all_track_10)"
   ]
  },
  {
   "cell_type": "code",
   "execution_count": 163,
   "id": "25a9de52",
   "metadata": {},
   "outputs": [
    {
     "data": {
      "text/plain": [
       "(6246, 20)"
      ]
     },
     "metadata": {},
     "output_type": "display_data"
    }
   ],
   "source": [
    "display(spotify_df_10.shape)"
   ]
  },
  {
   "cell_type": "markdown",
   "id": "2c6ed9f2",
   "metadata": {},
   "source": [
    "# Concatenating the dataframes "
   ]
  },
  {
   "cell_type": "code",
   "execution_count": 178,
   "id": "48d2caf2",
   "metadata": {},
   "outputs": [],
   "source": [
    "# not adding the first 300 songs (songs_df) as they have no features\n",
    "spotify_df = pd.concat([spotify_df_1, spotify_df_2, spotify_df_3, spotify_df_4, spotify_df_5, spotify_df_6, spotify_df_7, spotify_df_8, spotify_df_9, spotify_df_10], axis=0)\n"
   ]
  },
  {
   "cell_type": "code",
   "execution_count": 179,
   "id": "b3d3a6e5",
   "metadata": {},
   "outputs": [
    {
     "data": {
      "text/html": [
       "<div>\n",
       "<style scoped>\n",
       "    .dataframe tbody tr th:only-of-type {\n",
       "        vertical-align: middle;\n",
       "    }\n",
       "\n",
       "    .dataframe tbody tr th {\n",
       "        vertical-align: top;\n",
       "    }\n",
       "\n",
       "    .dataframe thead th {\n",
       "        text-align: right;\n",
       "    }\n",
       "</style>\n",
       "<table border=\"1\" class=\"dataframe\">\n",
       "  <thead>\n",
       "    <tr style=\"text-align: right;\">\n",
       "      <th></th>\n",
       "      <th>artist</th>\n",
       "      <th>song</th>\n",
       "      <th>danceability</th>\n",
       "      <th>energy</th>\n",
       "      <th>key</th>\n",
       "      <th>loudness</th>\n",
       "      <th>mode</th>\n",
       "      <th>speechiness</th>\n",
       "      <th>acousticness</th>\n",
       "      <th>instrumentalness</th>\n",
       "      <th>liveness</th>\n",
       "      <th>valence</th>\n",
       "      <th>tempo</th>\n",
       "      <th>type</th>\n",
       "      <th>id</th>\n",
       "      <th>uri</th>\n",
       "      <th>track_href</th>\n",
       "      <th>analysis_url</th>\n",
       "      <th>duration_ms</th>\n",
       "      <th>time_signature</th>\n",
       "    </tr>\n",
       "  </thead>\n",
       "  <tbody>\n",
       "    <tr>\n",
       "      <th>0</th>\n",
       "      <td>Meadow Park</td>\n",
       "      <td>Without A Song</td>\n",
       "      <td>0.475</td>\n",
       "      <td>0.1380</td>\n",
       "      <td>5</td>\n",
       "      <td>-17.099</td>\n",
       "      <td>0</td>\n",
       "      <td>0.0424</td>\n",
       "      <td>0.965</td>\n",
       "      <td>0.884</td>\n",
       "      <td>0.0971</td>\n",
       "      <td>0.1230</td>\n",
       "      <td>118.338</td>\n",
       "      <td>audio_features</td>\n",
       "      <td>1nsMASRDWwUwlBMmOuh80d</td>\n",
       "      <td>spotify:track:1nsMASRDWwUwlBMmOuh80d</td>\n",
       "      <td>https://api.spotify.com/v1/tracks/1nsMASRDWwUw...</td>\n",
       "      <td>https://api.spotify.com/v1/audio-analysis/1nsM...</td>\n",
       "      <td>236785</td>\n",
       "      <td>4</td>\n",
       "    </tr>\n",
       "    <tr>\n",
       "      <th>1</th>\n",
       "      <td>Madeleine West</td>\n",
       "      <td>Sometime Ago</td>\n",
       "      <td>0.538</td>\n",
       "      <td>0.1400</td>\n",
       "      <td>9</td>\n",
       "      <td>-17.368</td>\n",
       "      <td>0</td>\n",
       "      <td>0.0393</td>\n",
       "      <td>0.937</td>\n",
       "      <td>0.893</td>\n",
       "      <td>0.3240</td>\n",
       "      <td>0.1950</td>\n",
       "      <td>86.259</td>\n",
       "      <td>audio_features</td>\n",
       "      <td>6HZgxhesyOy8jkTiAFfQmR</td>\n",
       "      <td>spotify:track:6HZgxhesyOy8jkTiAFfQmR</td>\n",
       "      <td>https://api.spotify.com/v1/tracks/6HZgxhesyOy8...</td>\n",
       "      <td>https://api.spotify.com/v1/audio-analysis/6HZg...</td>\n",
       "      <td>160919</td>\n",
       "      <td>3</td>\n",
       "    </tr>\n",
       "    <tr>\n",
       "      <th>2</th>\n",
       "      <td>Al Fowler Trio</td>\n",
       "      <td>Prelude To A Kiss</td>\n",
       "      <td>0.629</td>\n",
       "      <td>0.1520</td>\n",
       "      <td>9</td>\n",
       "      <td>-18.659</td>\n",
       "      <td>0</td>\n",
       "      <td>0.0400</td>\n",
       "      <td>0.967</td>\n",
       "      <td>0.904</td>\n",
       "      <td>0.1090</td>\n",
       "      <td>0.0966</td>\n",
       "      <td>116.833</td>\n",
       "      <td>audio_features</td>\n",
       "      <td>4Csbgu7LMDGPLjhPgHfQmZ</td>\n",
       "      <td>spotify:track:4Csbgu7LMDGPLjhPgHfQmZ</td>\n",
       "      <td>https://api.spotify.com/v1/tracks/4Csbgu7LMDGP...</td>\n",
       "      <td>https://api.spotify.com/v1/audio-analysis/4Csb...</td>\n",
       "      <td>275743</td>\n",
       "      <td>4</td>\n",
       "    </tr>\n",
       "    <tr>\n",
       "      <th>3</th>\n",
       "      <td>Mayfare Trio</td>\n",
       "      <td>Autumn In New York</td>\n",
       "      <td>0.546</td>\n",
       "      <td>0.1520</td>\n",
       "      <td>7</td>\n",
       "      <td>-17.080</td>\n",
       "      <td>0</td>\n",
       "      <td>0.0368</td>\n",
       "      <td>0.958</td>\n",
       "      <td>0.931</td>\n",
       "      <td>0.3000</td>\n",
       "      <td>0.1440</td>\n",
       "      <td>124.562</td>\n",
       "      <td>audio_features</td>\n",
       "      <td>62FrtiVepyS9UGfcTPhu7W</td>\n",
       "      <td>spotify:track:62FrtiVepyS9UGfcTPhu7W</td>\n",
       "      <td>https://api.spotify.com/v1/tracks/62FrtiVepyS9...</td>\n",
       "      <td>https://api.spotify.com/v1/audio-analysis/62Fr...</td>\n",
       "      <td>259680</td>\n",
       "      <td>4</td>\n",
       "    </tr>\n",
       "    <tr>\n",
       "      <th>4</th>\n",
       "      <td>Bill Charlap Trio</td>\n",
       "      <td>Street Of Dreams</td>\n",
       "      <td>0.432</td>\n",
       "      <td>0.0951</td>\n",
       "      <td>1</td>\n",
       "      <td>-23.511</td>\n",
       "      <td>1</td>\n",
       "      <td>0.0388</td>\n",
       "      <td>0.909</td>\n",
       "      <td>0.890</td>\n",
       "      <td>0.1170</td>\n",
       "      <td>0.0930</td>\n",
       "      <td>100.265</td>\n",
       "      <td>audio_features</td>\n",
       "      <td>5Smmg9SpxnawbuYPKSNcmx</td>\n",
       "      <td>spotify:track:5Smmg9SpxnawbuYPKSNcmx</td>\n",
       "      <td>https://api.spotify.com/v1/tracks/5Smmg9Spxnaw...</td>\n",
       "      <td>https://api.spotify.com/v1/audio-analysis/5Smm...</td>\n",
       "      <td>373840</td>\n",
       "      <td>4</td>\n",
       "    </tr>\n",
       "  </tbody>\n",
       "</table>\n",
       "</div>"
      ],
      "text/plain": [
       "              artist                song  danceability  energy  key  loudness  \\\n",
       "0        Meadow Park      Without A Song         0.475  0.1380    5   -17.099   \n",
       "1     Madeleine West        Sometime Ago         0.538  0.1400    9   -17.368   \n",
       "2     Al Fowler Trio   Prelude To A Kiss         0.629  0.1520    9   -18.659   \n",
       "3       Mayfare Trio  Autumn In New York         0.546  0.1520    7   -17.080   \n",
       "4  Bill Charlap Trio    Street Of Dreams         0.432  0.0951    1   -23.511   \n",
       "\n",
       "   mode  speechiness  acousticness  instrumentalness  liveness  valence  \\\n",
       "0     0       0.0424         0.965             0.884    0.0971   0.1230   \n",
       "1     0       0.0393         0.937             0.893    0.3240   0.1950   \n",
       "2     0       0.0400         0.967             0.904    0.1090   0.0966   \n",
       "3     0       0.0368         0.958             0.931    0.3000   0.1440   \n",
       "4     1       0.0388         0.909             0.890    0.1170   0.0930   \n",
       "\n",
       "     tempo            type                      id  \\\n",
       "0  118.338  audio_features  1nsMASRDWwUwlBMmOuh80d   \n",
       "1   86.259  audio_features  6HZgxhesyOy8jkTiAFfQmR   \n",
       "2  116.833  audio_features  4Csbgu7LMDGPLjhPgHfQmZ   \n",
       "3  124.562  audio_features  62FrtiVepyS9UGfcTPhu7W   \n",
       "4  100.265  audio_features  5Smmg9SpxnawbuYPKSNcmx   \n",
       "\n",
       "                                    uri  \\\n",
       "0  spotify:track:1nsMASRDWwUwlBMmOuh80d   \n",
       "1  spotify:track:6HZgxhesyOy8jkTiAFfQmR   \n",
       "2  spotify:track:4Csbgu7LMDGPLjhPgHfQmZ   \n",
       "3  spotify:track:62FrtiVepyS9UGfcTPhu7W   \n",
       "4  spotify:track:5Smmg9SpxnawbuYPKSNcmx   \n",
       "\n",
       "                                          track_href  \\\n",
       "0  https://api.spotify.com/v1/tracks/1nsMASRDWwUw...   \n",
       "1  https://api.spotify.com/v1/tracks/6HZgxhesyOy8...   \n",
       "2  https://api.spotify.com/v1/tracks/4Csbgu7LMDGP...   \n",
       "3  https://api.spotify.com/v1/tracks/62FrtiVepyS9...   \n",
       "4  https://api.spotify.com/v1/tracks/5Smmg9Spxnaw...   \n",
       "\n",
       "                                        analysis_url  duration_ms  \\\n",
       "0  https://api.spotify.com/v1/audio-analysis/1nsM...       236785   \n",
       "1  https://api.spotify.com/v1/audio-analysis/6HZg...       160919   \n",
       "2  https://api.spotify.com/v1/audio-analysis/4Csb...       275743   \n",
       "3  https://api.spotify.com/v1/audio-analysis/62Fr...       259680   \n",
       "4  https://api.spotify.com/v1/audio-analysis/5Smm...       373840   \n",
       "\n",
       "   time_signature  \n",
       "0               4  \n",
       "1               3  \n",
       "2               4  \n",
       "3               4  \n",
       "4               4  "
      ]
     },
     "metadata": {},
     "output_type": "display_data"
    },
    {
     "data": {
      "text/plain": [
       "(9020, 20)"
      ]
     },
     "metadata": {},
     "output_type": "display_data"
    }
   ],
   "source": [
    "display(spotify_df.head())\n",
    "display(spotify_df.shape)"
   ]
  },
  {
   "cell_type": "code",
   "execution_count": null,
   "id": "cb842ead",
   "metadata": {},
   "outputs": [],
   "source": []
  }
 ],
 "metadata": {
  "kernelspec": {
   "display_name": "Python 3 (ipykernel)",
   "language": "python",
   "name": "python3"
  },
  "language_info": {
   "codemirror_mode": {
    "name": "ipython",
    "version": 3
   },
   "file_extension": ".py",
   "mimetype": "text/x-python",
   "name": "python",
   "nbconvert_exporter": "python",
   "pygments_lexer": "ipython3",
   "version": "3.9.12"
  }
 },
 "nbformat": 4,
 "nbformat_minor": 5
}
