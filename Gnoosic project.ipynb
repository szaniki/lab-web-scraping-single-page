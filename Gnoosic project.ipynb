{
 "cells": [
  {
   "cell_type": "markdown",
   "id": "3bdc4b90",
   "metadata": {},
   "source": [
    "# Importing libraries"
   ]
  },
  {
   "cell_type": "code",
   "execution_count": 2,
   "id": "6196243d",
   "metadata": {},
   "outputs": [],
   "source": [
    "import pandas as pd\n",
    "import numpy as np\n",
    "\n",
    "import matplotlib.pyplot as plt\n",
    "from matplotlib.lines import Line2D\n",
    "%matplotlib inline\n",
    "\n",
    "from sklearn import cluster, datasets\n",
    "from sklearn.preprocessing import StandardScaler, MinMaxScaler\n",
    "from sklearn.metrics import silhouette_score\n",
    "from sklearn.cluster import KMeans\n",
    "\n",
    "from bs4 import BeautifulSoup\n",
    "import requests\n",
    "\n",
    "import random\n",
    "import spotipy\n",
    "from spotipy.oauth2 import SpotifyClientCredentials\n",
    "from random import randint\n",
    "from time import sleep"
   ]
  },
  {
   "cell_type": "markdown",
   "id": "ecf74804",
   "metadata": {},
   "source": [
    "# Scraping the first 100 songs"
   ]
  },
  {
   "cell_type": "code",
   "execution_count": 3,
   "id": "f495a2ee",
   "metadata": {},
   "outputs": [],
   "source": [
    "url = \"https://playback.fm/charts/rnb/2017\""
   ]
  },
  {
   "cell_type": "code",
   "execution_count": 4,
   "id": "f6a5fcef",
   "metadata": {},
   "outputs": [
    {
     "data": {
      "text/plain": [
       "200"
      ]
     },
     "execution_count": 4,
     "metadata": {},
     "output_type": "execute_result"
    }
   ],
   "source": [
    "response = requests.get(url) \n",
    "response.status_code "
   ]
  },
  {
   "cell_type": "code",
   "execution_count": 5,
   "id": "c26606f8",
   "metadata": {},
   "outputs": [],
   "source": [
    "#response.content"
   ]
  },
  {
   "cell_type": "code",
   "execution_count": 6,
   "id": "a394a9e7",
   "metadata": {},
   "outputs": [],
   "source": [
    "# parse html (create the 'soup'), we create a NEW SOUP\n",
    "soup = BeautifulSoup(response.content, \"html.parser\")"
   ]
  },
  {
   "cell_type": "code",
   "execution_count": 7,
   "id": "6f1cf7b5",
   "metadata": {},
   "outputs": [],
   "source": [
    "#soup"
   ]
  },
  {
   "cell_type": "code",
   "execution_count": 8,
   "id": "97702af6",
   "metadata": {},
   "outputs": [],
   "source": [
    "#soup.select(\"#myTable > tbody > tr:nth-child(1) > td:nth-child(2)\")\n",
    "#soup.select(\"td:nth-child(2)\")"
   ]
  },
  {
   "cell_type": "code",
   "execution_count": 9,
   "id": "300d9f76",
   "metadata": {},
   "outputs": [],
   "source": [
    "#print(soup.prettify()) # to find the song and the artist"
   ]
  },
  {
   "cell_type": "code",
   "execution_count": 10,
   "id": "94e3d66a",
   "metadata": {},
   "outputs": [],
   "source": [
    "#document.querySelector(\"#myTable > tbody > tr:nth-child(1) > td:nth-child(2) > a\")"
   ]
  },
  {
   "cell_type": "code",
   "execution_count": 11,
   "id": "306192f2",
   "metadata": {},
   "outputs": [],
   "source": [
    "# LOOKING FOR ARTIST            \n",
    "#soup.select(\"td:nth-child(2) > a\")"
   ]
  },
  {
   "cell_type": "code",
   "execution_count": 12,
   "id": "3b191f9f",
   "metadata": {},
   "outputs": [
    {
     "data": {
      "text/plain": [
       "'\\nBruno Mars\\n'"
      ]
     },
     "execution_count": 12,
     "metadata": {},
     "output_type": "execute_result"
    }
   ],
   "source": [
    "soup.select(\"td:nth-child(2) > a\")[0].get_text()"
   ]
  },
  {
   "cell_type": "code",
   "execution_count": 13,
   "id": "a202ec88",
   "metadata": {},
   "outputs": [
    {
     "data": {
      "text/plain": [
       "'Wild Thoughts'"
      ]
     },
     "execution_count": 13,
     "metadata": {},
     "output_type": "execute_result"
    }
   ],
   "source": [
    "# LOOKING FOR THE SONG\n",
    "\n",
    "#myTable > tbody > tr:nth-child(1) > td.mobile-hide > a > span.song\n",
    "\n",
    "soup.select(\"td.mobile-hide > a > span.song\")[1].get_text()\n"
   ]
  },
  {
   "cell_type": "markdown",
   "id": "31fd0991",
   "metadata": {},
   "source": [
    "## Making beautiful table"
   ]
  },
  {
   "cell_type": "code",
   "execution_count": 14,
   "id": "76b87847",
   "metadata": {},
   "outputs": [],
   "source": [
    "#initialize empty lists\n",
    "artist = []\n",
    "song = []\n",
    "\n",
    "num_iter = len(soup.select(\"td:nth-child(2) > a\"))\n",
    "\n",
    "tClist = soup.select(\"td:nth-child(2) > a\")\n",
    "spanlist = soup.select(\"td.mobile-hide > a > span.song\")\n",
    "\n",
    "\n",
    "for i in range(num_iter):\n",
    "    artist.append(tClist[i].get_text())\n",
    "    song.append(spanlist[i].get_text())\n",
    "\n",
    "#print(artist)\n",
    "#print(song)"
   ]
  },
  {
   "cell_type": "code",
   "execution_count": 15,
   "id": "5e1ddc66",
   "metadata": {},
   "outputs": [],
   "source": [
    "song_list = pd.DataFrame({\"artist\":artist,\n",
    "                       \"song\":song,\n",
    "                      })"
   ]
  },
  {
   "cell_type": "code",
   "execution_count": 16,
   "id": "dae46824",
   "metadata": {},
   "outputs": [
    {
     "data": {
      "text/html": [
       "<div>\n",
       "<style scoped>\n",
       "    .dataframe tbody tr th:only-of-type {\n",
       "        vertical-align: middle;\n",
       "    }\n",
       "\n",
       "    .dataframe tbody tr th {\n",
       "        vertical-align: top;\n",
       "    }\n",
       "\n",
       "    .dataframe thead th {\n",
       "        text-align: right;\n",
       "    }\n",
       "</style>\n",
       "<table border=\"1\" class=\"dataframe\">\n",
       "  <thead>\n",
       "    <tr style=\"text-align: right;\">\n",
       "      <th></th>\n",
       "      <th>artist</th>\n",
       "      <th>song</th>\n",
       "    </tr>\n",
       "  </thead>\n",
       "  <tbody>\n",
       "    <tr>\n",
       "      <th>0</th>\n",
       "      <td>\\nBruno Mars\\n</td>\n",
       "      <td>That's What I Like</td>\n",
       "    </tr>\n",
       "    <tr>\n",
       "      <th>1</th>\n",
       "      <td>\\nDJ Khaled featuring Rihanna &amp; Bryson Tiller\\n</td>\n",
       "      <td>Wild Thoughts</td>\n",
       "    </tr>\n",
       "    <tr>\n",
       "      <th>2</th>\n",
       "      <td>\\nPost Malone\\n</td>\n",
       "      <td>Rockstar</td>\n",
       "    </tr>\n",
       "    <tr>\n",
       "      <th>3</th>\n",
       "      <td>\\nDJ Khaled\\n</td>\n",
       "      <td>I'm the One</td>\n",
       "    </tr>\n",
       "    <tr>\n",
       "      <th>4</th>\n",
       "      <td>\\nBruno Mars\\n</td>\n",
       "      <td>24K Magic</td>\n",
       "    </tr>\n",
       "    <tr>\n",
       "      <th>...</th>\n",
       "      <td>...</td>\n",
       "      <td>...</td>\n",
       "    </tr>\n",
       "    <tr>\n",
       "      <th>95</th>\n",
       "      <td>\\nDrake\\n</td>\n",
       "      <td>Fake Love</td>\n",
       "    </tr>\n",
       "    <tr>\n",
       "      <th>96</th>\n",
       "      <td>\\n6ix9ine\\n</td>\n",
       "      <td>Gummo</td>\n",
       "    </tr>\n",
       "    <tr>\n",
       "      <th>97</th>\n",
       "      <td>\\nBig Sean\\n</td>\n",
       "      <td>Moves</td>\n",
       "    </tr>\n",
       "    <tr>\n",
       "      <th>98</th>\n",
       "      <td>\\n2 Chainz\\n</td>\n",
       "      <td>It's a Vibe</td>\n",
       "    </tr>\n",
       "    <tr>\n",
       "      <th>99</th>\n",
       "      <td>\\nOffset &amp; Metro Boomin\\n</td>\n",
       "      <td>Ric Flair Drip</td>\n",
       "    </tr>\n",
       "  </tbody>\n",
       "</table>\n",
       "<p>100 rows × 2 columns</p>\n",
       "</div>"
      ],
      "text/plain": [
       "                                             artist                song\n",
       "0                                    \\nBruno Mars\\n  That's What I Like\n",
       "1   \\nDJ Khaled featuring Rihanna & Bryson Tiller\\n       Wild Thoughts\n",
       "2                                   \\nPost Malone\\n            Rockstar\n",
       "3                                     \\nDJ Khaled\\n         I'm the One\n",
       "4                                    \\nBruno Mars\\n           24K Magic\n",
       "..                                              ...                 ...\n",
       "95                                        \\nDrake\\n           Fake Love\n",
       "96                                      \\n6ix9ine\\n               Gummo\n",
       "97                                     \\nBig Sean\\n               Moves\n",
       "98                                     \\n2 Chainz\\n         It's a Vibe\n",
       "99                        \\nOffset & Metro Boomin\\n      Ric Flair Drip\n",
       "\n",
       "[100 rows x 2 columns]"
      ]
     },
     "execution_count": 16,
     "metadata": {},
     "output_type": "execute_result"
    }
   ],
   "source": [
    "song_list"
   ]
  },
  {
   "cell_type": "markdown",
   "id": "04d77457",
   "metadata": {},
   "source": [
    "# Scraping the second 100 songs as practice"
   ]
  },
  {
   "cell_type": "code",
   "execution_count": 17,
   "id": "c75902b0",
   "metadata": {},
   "outputs": [],
   "source": [
    "url2 = \"https://playback.fm/charts/rnb/2021\""
   ]
  },
  {
   "cell_type": "code",
   "execution_count": 18,
   "id": "62d18134",
   "metadata": {},
   "outputs": [
    {
     "data": {
      "text/plain": [
       "200"
      ]
     },
     "execution_count": 18,
     "metadata": {},
     "output_type": "execute_result"
    }
   ],
   "source": [
    "response2 = requests.get(url2) \n",
    "response2.status_code "
   ]
  },
  {
   "cell_type": "code",
   "execution_count": 19,
   "id": "cb3eb73e",
   "metadata": {},
   "outputs": [],
   "source": [
    "#response2.content"
   ]
  },
  {
   "cell_type": "code",
   "execution_count": 20,
   "id": "d6c3cee3",
   "metadata": {},
   "outputs": [],
   "source": [
    "# parse html (create the 'soup'), we create a NEW SOUP\n",
    "soup2 = BeautifulSoup(response2.content, \"html.parser\")\n",
    "#soup2"
   ]
  },
  {
   "cell_type": "code",
   "execution_count": 21,
   "id": "388814ab",
   "metadata": {},
   "outputs": [],
   "source": [
    "#myTable > tbody > tr:nth-child(1) > td:nth-child(2)\n",
    "\n",
    "#soup2.select(\"td:nth-child(2)\")"
   ]
  },
  {
   "cell_type": "code",
   "execution_count": 22,
   "id": "847aedde",
   "metadata": {},
   "outputs": [],
   "source": [
    "#print(soup2.prettify())"
   ]
  },
  {
   "cell_type": "code",
   "execution_count": 23,
   "id": "66288203",
   "metadata": {},
   "outputs": [],
   "source": [
    "# looking for the artist\n",
    "#myTable > tbody > tr:nth-child(1) > td:nth-child(2) > a\n",
    "\n",
    "#soup2.select(\"td:nth-child(2) > a\")"
   ]
  },
  {
   "cell_type": "code",
   "execution_count": 24,
   "id": "90204808",
   "metadata": {},
   "outputs": [],
   "source": [
    "# looking for the songs         \n",
    "#myTable > tbody > tr:nth-child(1) > td.mobile-hide > a > span.song\n",
    "\n",
    "#soup2.select(\"td.mobile-hide > a > span.song\")"
   ]
  },
  {
   "cell_type": "code",
   "execution_count": 25,
   "id": "4ebbe5f3",
   "metadata": {},
   "outputs": [],
   "source": [
    "def scraper(url):\n",
    "\n",
    "    any_response = requests.get(url)\n",
    "    any_soup = BeautifulSoup(any_response.content, \"html.parser\")\n",
    "\n",
    "    artist = []\n",
    "    song = []\n",
    "\n",
    "    num_iters = len(any_soup.select(\"td:nth-child(2) > a\"))\n",
    "\n",
    "    a_lists = any_soup.select(\"td:nth-child(2) > a\")\n",
    "    s_lists = any_soup.select(\"td.mobile-hide > a > span.song\")\n",
    "\n",
    "    for i in range(num_iters):\n",
    "        artist.append(a_lists[i].get_text())\n",
    "        song.append(s_lists[i].get_text())\n",
    "    \n",
    "    test = pd.DataFrame({\"artist\":artist,\n",
    "                       \"song\":song})\n",
    "    return test"
   ]
  },
  {
   "cell_type": "code",
   "execution_count": 26,
   "id": "134e8203",
   "metadata": {},
   "outputs": [],
   "source": [
    "url1 = \"https://playback.fm/charts/rnb/2017\"\n",
    "url2 = \"https://playback.fm/charts/rnb/2021\"\n",
    "\n",
    "\n",
    "top_2017 = scraper(url1)\n",
    "top_2021 = scraper(url2)"
   ]
  },
  {
   "cell_type": "code",
   "execution_count": 27,
   "id": "a4208788",
   "metadata": {},
   "outputs": [
    {
     "data": {
      "text/html": [
       "<div>\n",
       "<style scoped>\n",
       "    .dataframe tbody tr th:only-of-type {\n",
       "        vertical-align: middle;\n",
       "    }\n",
       "\n",
       "    .dataframe tbody tr th {\n",
       "        vertical-align: top;\n",
       "    }\n",
       "\n",
       "    .dataframe thead th {\n",
       "        text-align: right;\n",
       "    }\n",
       "</style>\n",
       "<table border=\"1\" class=\"dataframe\">\n",
       "  <thead>\n",
       "    <tr style=\"text-align: right;\">\n",
       "      <th></th>\n",
       "      <th>artist</th>\n",
       "      <th>song</th>\n",
       "    </tr>\n",
       "  </thead>\n",
       "  <tbody>\n",
       "    <tr>\n",
       "      <th>0</th>\n",
       "      <td>\\nBruno Mars\\n</td>\n",
       "      <td>That's What I Like</td>\n",
       "    </tr>\n",
       "    <tr>\n",
       "      <th>1</th>\n",
       "      <td>\\nDJ Khaled featuring Rihanna &amp; Bryson Tiller\\n</td>\n",
       "      <td>Wild Thoughts</td>\n",
       "    </tr>\n",
       "    <tr>\n",
       "      <th>2</th>\n",
       "      <td>\\nPost Malone\\n</td>\n",
       "      <td>Rockstar</td>\n",
       "    </tr>\n",
       "    <tr>\n",
       "      <th>3</th>\n",
       "      <td>\\nDJ Khaled\\n</td>\n",
       "      <td>I'm the One</td>\n",
       "    </tr>\n",
       "    <tr>\n",
       "      <th>4</th>\n",
       "      <td>\\nBruno Mars\\n</td>\n",
       "      <td>24K Magic</td>\n",
       "    </tr>\n",
       "  </tbody>\n",
       "</table>\n",
       "</div>"
      ],
      "text/plain": [
       "                                            artist                song\n",
       "0                                   \\nBruno Mars\\n  That's What I Like\n",
       "1  \\nDJ Khaled featuring Rihanna & Bryson Tiller\\n       Wild Thoughts\n",
       "2                                  \\nPost Malone\\n            Rockstar\n",
       "3                                    \\nDJ Khaled\\n         I'm the One\n",
       "4                                   \\nBruno Mars\\n           24K Magic"
      ]
     },
     "execution_count": 27,
     "metadata": {},
     "output_type": "execute_result"
    }
   ],
   "source": [
    "top_2017.head()"
   ]
  },
  {
   "cell_type": "code",
   "execution_count": 28,
   "id": "f6c7f7ca",
   "metadata": {},
   "outputs": [
    {
     "data": {
      "text/html": [
       "<div>\n",
       "<style scoped>\n",
       "    .dataframe tbody tr th:only-of-type {\n",
       "        vertical-align: middle;\n",
       "    }\n",
       "\n",
       "    .dataframe tbody tr th {\n",
       "        vertical-align: top;\n",
       "    }\n",
       "\n",
       "    .dataframe thead th {\n",
       "        text-align: right;\n",
       "    }\n",
       "</style>\n",
       "<table border=\"1\" class=\"dataframe\">\n",
       "  <thead>\n",
       "    <tr style=\"text-align: right;\">\n",
       "      <th></th>\n",
       "      <th>artist</th>\n",
       "      <th>song</th>\n",
       "    </tr>\n",
       "  </thead>\n",
       "  <tbody>\n",
       "    <tr>\n",
       "      <th>0</th>\n",
       "      <td>\\nSilk Sonic\\n</td>\n",
       "      <td>Leave The Door Open</td>\n",
       "    </tr>\n",
       "    <tr>\n",
       "      <th>1</th>\n",
       "      <td>\\nJustin Bieber featuring Daniel Caesar &amp; Give...</td>\n",
       "      <td>Peaches</td>\n",
       "    </tr>\n",
       "    <tr>\n",
       "      <th>2</th>\n",
       "      <td>\\nLizzo\\n</td>\n",
       "      <td>Rumors</td>\n",
       "    </tr>\n",
       "    <tr>\n",
       "      <th>3</th>\n",
       "      <td>\\nChris Brown &amp; Young Thug\\n</td>\n",
       "      <td>Go Crazy</td>\n",
       "    </tr>\n",
       "    <tr>\n",
       "      <th>4</th>\n",
       "      <td>\\nSaint Jhn\\n</td>\n",
       "      <td>Roses</td>\n",
       "    </tr>\n",
       "  </tbody>\n",
       "</table>\n",
       "</div>"
      ],
      "text/plain": [
       "                                              artist                 song\n",
       "0                                     \\nSilk Sonic\\n  Leave The Door Open\n",
       "1  \\nJustin Bieber featuring Daniel Caesar & Give...              Peaches\n",
       "2                                          \\nLizzo\\n               Rumors\n",
       "3                       \\nChris Brown & Young Thug\\n             Go Crazy\n",
       "4                                      \\nSaint Jhn\\n                Roses"
      ]
     },
     "execution_count": 28,
     "metadata": {},
     "output_type": "execute_result"
    }
   ],
   "source": [
    "top_2021.head()"
   ]
  },
  {
   "cell_type": "code",
   "execution_count": 29,
   "id": "b420ad08",
   "metadata": {},
   "outputs": [
    {
     "data": {
      "text/html": [
       "<div>\n",
       "<style scoped>\n",
       "    .dataframe tbody tr th:only-of-type {\n",
       "        vertical-align: middle;\n",
       "    }\n",
       "\n",
       "    .dataframe tbody tr th {\n",
       "        vertical-align: top;\n",
       "    }\n",
       "\n",
       "    .dataframe thead th {\n",
       "        text-align: right;\n",
       "    }\n",
       "</style>\n",
       "<table border=\"1\" class=\"dataframe\">\n",
       "  <thead>\n",
       "    <tr style=\"text-align: right;\">\n",
       "      <th></th>\n",
       "      <th>artist</th>\n",
       "      <th>song</th>\n",
       "    </tr>\n",
       "  </thead>\n",
       "  <tbody>\n",
       "    <tr>\n",
       "      <th>0</th>\n",
       "      <td>\\nBruno Mars\\n</td>\n",
       "      <td>That's What I Like</td>\n",
       "    </tr>\n",
       "    <tr>\n",
       "      <th>1</th>\n",
       "      <td>\\nDJ Khaled featuring Rihanna &amp; Bryson Tiller\\n</td>\n",
       "      <td>Wild Thoughts</td>\n",
       "    </tr>\n",
       "    <tr>\n",
       "      <th>2</th>\n",
       "      <td>\\nPost Malone\\n</td>\n",
       "      <td>Rockstar</td>\n",
       "    </tr>\n",
       "    <tr>\n",
       "      <th>3</th>\n",
       "      <td>\\nDJ Khaled\\n</td>\n",
       "      <td>I'm the One</td>\n",
       "    </tr>\n",
       "    <tr>\n",
       "      <th>4</th>\n",
       "      <td>\\nBruno Mars\\n</td>\n",
       "      <td>24K Magic</td>\n",
       "    </tr>\n",
       "    <tr>\n",
       "      <th>...</th>\n",
       "      <td>...</td>\n",
       "      <td>...</td>\n",
       "    </tr>\n",
       "    <tr>\n",
       "      <th>195</th>\n",
       "      <td>\\nDrake featuring Lil Baby\\n</td>\n",
       "      <td>Wants And Needs</td>\n",
       "    </tr>\n",
       "    <tr>\n",
       "      <th>196</th>\n",
       "      <td>\\nSummer Walker\\n</td>\n",
       "      <td>Broken Promises</td>\n",
       "    </tr>\n",
       "    <tr>\n",
       "      <th>197</th>\n",
       "      <td>\\nMegan Thee Stallion\\n</td>\n",
       "      <td>Body</td>\n",
       "    </tr>\n",
       "    <tr>\n",
       "      <th>198</th>\n",
       "      <td>\\nYoungBoy Never Broke Again\\n</td>\n",
       "      <td>Nevada</td>\n",
       "    </tr>\n",
       "    <tr>\n",
       "      <th>199</th>\n",
       "      <td>\\nSpotemGottem featuring Pooh Shiesty Or DaBaby\\n</td>\n",
       "      <td>Beat Box</td>\n",
       "    </tr>\n",
       "  </tbody>\n",
       "</table>\n",
       "<p>200 rows × 2 columns</p>\n",
       "</div>"
      ],
      "text/plain": [
       "                                                artist                song\n",
       "0                                       \\nBruno Mars\\n  That's What I Like\n",
       "1      \\nDJ Khaled featuring Rihanna & Bryson Tiller\\n       Wild Thoughts\n",
       "2                                      \\nPost Malone\\n            Rockstar\n",
       "3                                        \\nDJ Khaled\\n         I'm the One\n",
       "4                                       \\nBruno Mars\\n           24K Magic\n",
       "..                                                 ...                 ...\n",
       "195                       \\nDrake featuring Lil Baby\\n     Wants And Needs\n",
       "196                                  \\nSummer Walker\\n     Broken Promises\n",
       "197                            \\nMegan Thee Stallion\\n                Body\n",
       "198                     \\nYoungBoy Never Broke Again\\n              Nevada\n",
       "199  \\nSpotemGottem featuring Pooh Shiesty Or DaBaby\\n            Beat Box\n",
       "\n",
       "[200 rows x 2 columns]"
      ]
     },
     "execution_count": 29,
     "metadata": {},
     "output_type": "execute_result"
    }
   ],
   "source": [
    "songs_list = pd.concat([top_2017, top_2021], ignore_index=True)\n",
    "songs_list"
   ]
  },
  {
   "cell_type": "code",
   "execution_count": 30,
   "id": "fd7d29e0",
   "metadata": {
    "scrolled": true
   },
   "outputs": [
    {
     "data": {
      "text/html": [
       "<div>\n",
       "<style scoped>\n",
       "    .dataframe tbody tr th:only-of-type {\n",
       "        vertical-align: middle;\n",
       "    }\n",
       "\n",
       "    .dataframe tbody tr th {\n",
       "        vertical-align: top;\n",
       "    }\n",
       "\n",
       "    .dataframe thead th {\n",
       "        text-align: right;\n",
       "    }\n",
       "</style>\n",
       "<table border=\"1\" class=\"dataframe\">\n",
       "  <thead>\n",
       "    <tr style=\"text-align: right;\">\n",
       "      <th></th>\n",
       "      <th>artist</th>\n",
       "      <th>song</th>\n",
       "    </tr>\n",
       "  </thead>\n",
       "  <tbody>\n",
       "    <tr>\n",
       "      <th>0</th>\n",
       "      <td>Bruno Mars</td>\n",
       "      <td>That's What I Like</td>\n",
       "    </tr>\n",
       "    <tr>\n",
       "      <th>1</th>\n",
       "      <td>DJ Khaled featuring Rihanna &amp; Bryson Tiller</td>\n",
       "      <td>Wild Thoughts</td>\n",
       "    </tr>\n",
       "    <tr>\n",
       "      <th>2</th>\n",
       "      <td>Post Malone</td>\n",
       "      <td>Rockstar</td>\n",
       "    </tr>\n",
       "    <tr>\n",
       "      <th>3</th>\n",
       "      <td>DJ Khaled</td>\n",
       "      <td>I'm the One</td>\n",
       "    </tr>\n",
       "    <tr>\n",
       "      <th>4</th>\n",
       "      <td>Bruno Mars</td>\n",
       "      <td>24K Magic</td>\n",
       "    </tr>\n",
       "  </tbody>\n",
       "</table>\n",
       "</div>"
      ],
      "text/plain": [
       "                                          artist                song\n",
       "0                                    Bruno Mars   That's What I Like\n",
       "1   DJ Khaled featuring Rihanna & Bryson Tiller        Wild Thoughts\n",
       "2                                   Post Malone             Rockstar\n",
       "3                                     DJ Khaled          I'm the One\n",
       "4                                    Bruno Mars            24K Magic"
      ]
     },
     "execution_count": 30,
     "metadata": {},
     "output_type": "execute_result"
    }
   ],
   "source": [
    "songs_list['artist'] = song_list['artist'].str.replace('\\n', ' ')\n",
    "songs_list.head()"
   ]
  },
  {
   "cell_type": "markdown",
   "id": "cf6ef6e8",
   "metadata": {},
   "source": [
    "# Lab 2: Scraping from another website"
   ]
  },
  {
   "cell_type": "code",
   "execution_count": 31,
   "id": "cf968e70",
   "metadata": {},
   "outputs": [],
   "source": [
    "url3 = \"https://www.popvortex.com/music/charts/top-alternative-songs.php\""
   ]
  },
  {
   "cell_type": "code",
   "execution_count": 32,
   "id": "fbb90011",
   "metadata": {},
   "outputs": [
    {
     "data": {
      "text/plain": [
       "200"
      ]
     },
     "execution_count": 32,
     "metadata": {},
     "output_type": "execute_result"
    }
   ],
   "source": [
    "response3 = requests.get(url3)\n",
    "response3.status_code"
   ]
  },
  {
   "cell_type": "code",
   "execution_count": 33,
   "id": "8c289e1f",
   "metadata": {},
   "outputs": [],
   "source": [
    "#response3.content"
   ]
  },
  {
   "cell_type": "code",
   "execution_count": 34,
   "id": "ed2f9c39",
   "metadata": {},
   "outputs": [],
   "source": [
    "soup3 = BeautifulSoup(response3.content, \"html.parser\")"
   ]
  },
  {
   "cell_type": "code",
   "execution_count": 35,
   "id": "548861b8",
   "metadata": {},
   "outputs": [],
   "source": [
    "#print(soup3.prettify())"
   ]
  },
  {
   "cell_type": "code",
   "execution_count": 36,
   "id": "b8ec8276",
   "metadata": {},
   "outputs": [
    {
     "data": {
      "text/plain": [
       "'How Could You'"
      ]
     },
     "execution_count": 36,
     "metadata": {},
     "output_type": "execute_result"
    }
   ],
   "source": [
    "#soup3.select(\"body>div>div>div>div>div>div:nth-child(2)>p\")\n",
    "\n",
    "#chart-position-1 > div.chart-content.col-xs-12.col-sm-8 > p > cite\n",
    "\n",
    "soup3.select(\"div.chart-content.col-xs-12.col-sm-8 > p > cite\")[0].get_text()"
   ]
  },
  {
   "cell_type": "code",
   "execution_count": 37,
   "id": "eb1659e6",
   "metadata": {},
   "outputs": [
    {
     "data": {
      "text/plain": [
       "'Jessie Murph'"
      ]
     },
     "execution_count": 37,
     "metadata": {},
     "output_type": "execute_result"
    }
   ],
   "source": [
    "soup3.select(\"div.chart-content.col-xs-12.col-sm-8 > p > em\")[0].get_text()"
   ]
  },
  {
   "cell_type": "code",
   "execution_count": 38,
   "id": "c2581797",
   "metadata": {},
   "outputs": [],
   "source": [
    "def scraper(url):\n",
    "\n",
    "    any_response = requests.get(url)\n",
    "    any_soup = BeautifulSoup(any_response.content, \"html.parser\")\n",
    "\n",
    "    artist = []\n",
    "    song = []\n",
    "\n",
    "    num_iters = len(any_soup.select(\"div.chart-content.col-xs-12.col-sm-8 > p > cite\"))\n",
    "\n",
    "    a_lists = any_soup.select(\"div.chart-content.col-xs-12.col-sm-8 > p > em\")\n",
    "    s_lists = any_soup.select(\"div.chart-content.col-xs-12.col-sm-8 > p > cite\")\n",
    "    for i in range(num_iters):\n",
    "        artist.append(a_lists[i].get_text())\n",
    "        song.append(s_lists[i].get_text())\n",
    "    \n",
    "    test = pd.DataFrame({\"artist\":artist,\n",
    "                       \"song\":song})\n",
    "    return test"
   ]
  },
  {
   "cell_type": "code",
   "execution_count": 39,
   "id": "1c4ccd65",
   "metadata": {},
   "outputs": [],
   "source": [
    "artist_song_df_3 = pd.DataFrame({\"artist\":artist,\"song\":song})"
   ]
  },
  {
   "cell_type": "code",
   "execution_count": 40,
   "id": "7796c475",
   "metadata": {},
   "outputs": [
    {
     "data": {
      "text/html": [
       "<div>\n",
       "<style scoped>\n",
       "    .dataframe tbody tr th:only-of-type {\n",
       "        vertical-align: middle;\n",
       "    }\n",
       "\n",
       "    .dataframe tbody tr th {\n",
       "        vertical-align: top;\n",
       "    }\n",
       "\n",
       "    .dataframe thead th {\n",
       "        text-align: right;\n",
       "    }\n",
       "</style>\n",
       "<table border=\"1\" class=\"dataframe\">\n",
       "  <thead>\n",
       "    <tr style=\"text-align: right;\">\n",
       "      <th></th>\n",
       "      <th>artist</th>\n",
       "      <th>song</th>\n",
       "    </tr>\n",
       "  </thead>\n",
       "  <tbody>\n",
       "    <tr>\n",
       "      <th>0</th>\n",
       "      <td>\\nBruno Mars\\n</td>\n",
       "      <td>That's What I Like</td>\n",
       "    </tr>\n",
       "    <tr>\n",
       "      <th>1</th>\n",
       "      <td>\\nDJ Khaled featuring Rihanna &amp; Bryson Tiller\\n</td>\n",
       "      <td>Wild Thoughts</td>\n",
       "    </tr>\n",
       "    <tr>\n",
       "      <th>2</th>\n",
       "      <td>\\nPost Malone\\n</td>\n",
       "      <td>Rockstar</td>\n",
       "    </tr>\n",
       "    <tr>\n",
       "      <th>3</th>\n",
       "      <td>\\nDJ Khaled\\n</td>\n",
       "      <td>I'm the One</td>\n",
       "    </tr>\n",
       "    <tr>\n",
       "      <th>4</th>\n",
       "      <td>\\nBruno Mars\\n</td>\n",
       "      <td>24K Magic</td>\n",
       "    </tr>\n",
       "  </tbody>\n",
       "</table>\n",
       "</div>"
      ],
      "text/plain": [
       "                                            artist                song\n",
       "0                                   \\nBruno Mars\\n  That's What I Like\n",
       "1  \\nDJ Khaled featuring Rihanna & Bryson Tiller\\n       Wild Thoughts\n",
       "2                                  \\nPost Malone\\n            Rockstar\n",
       "3                                    \\nDJ Khaled\\n         I'm the One\n",
       "4                                   \\nBruno Mars\\n           24K Magic"
      ]
     },
     "execution_count": 40,
     "metadata": {},
     "output_type": "execute_result"
    }
   ],
   "source": [
    "artist_song_df_3.head()"
   ]
  },
  {
   "cell_type": "code",
   "execution_count": 41,
   "id": "74663dfd",
   "metadata": {},
   "outputs": [
    {
     "data": {
      "text/html": [
       "<div>\n",
       "<style scoped>\n",
       "    .dataframe tbody tr th:only-of-type {\n",
       "        vertical-align: middle;\n",
       "    }\n",
       "\n",
       "    .dataframe tbody tr th {\n",
       "        vertical-align: top;\n",
       "    }\n",
       "\n",
       "    .dataframe thead th {\n",
       "        text-align: right;\n",
       "    }\n",
       "</style>\n",
       "<table border=\"1\" class=\"dataframe\">\n",
       "  <thead>\n",
       "    <tr style=\"text-align: right;\">\n",
       "      <th></th>\n",
       "      <th>artist</th>\n",
       "      <th>song</th>\n",
       "    </tr>\n",
       "  </thead>\n",
       "  <tbody>\n",
       "    <tr>\n",
       "      <th>0</th>\n",
       "      <td>Bruno Mars</td>\n",
       "      <td>That's What I Like</td>\n",
       "    </tr>\n",
       "    <tr>\n",
       "      <th>1</th>\n",
       "      <td>DJ Khaled featuring Rihanna &amp; Bryson Tiller</td>\n",
       "      <td>Wild Thoughts</td>\n",
       "    </tr>\n",
       "    <tr>\n",
       "      <th>2</th>\n",
       "      <td>Post Malone</td>\n",
       "      <td>Rockstar</td>\n",
       "    </tr>\n",
       "    <tr>\n",
       "      <th>3</th>\n",
       "      <td>DJ Khaled</td>\n",
       "      <td>I'm the One</td>\n",
       "    </tr>\n",
       "    <tr>\n",
       "      <th>4</th>\n",
       "      <td>Bruno Mars</td>\n",
       "      <td>24K Magic</td>\n",
       "    </tr>\n",
       "  </tbody>\n",
       "</table>\n",
       "</div>"
      ],
      "text/plain": [
       "                                          artist                song\n",
       "0                                    Bruno Mars   That's What I Like\n",
       "1   DJ Khaled featuring Rihanna & Bryson Tiller        Wild Thoughts\n",
       "2                                   Post Malone             Rockstar\n",
       "3                                     DJ Khaled          I'm the One\n",
       "4                                    Bruno Mars            24K Magic"
      ]
     },
     "execution_count": 41,
     "metadata": {},
     "output_type": "execute_result"
    }
   ],
   "source": [
    "artist_song_df_3['artist'] = artist_song_df_3['artist'].str.replace('\\n', ' ')\n",
    "songs_list.head()"
   ]
  },
  {
   "cell_type": "code",
   "execution_count": 42,
   "id": "baad103b",
   "metadata": {},
   "outputs": [],
   "source": [
    "songs_df = pd.concat([songs_list, artist_song_df_3], axis=0)\n",
    "songs_df = songs_df.reset_index(drop=True)"
   ]
  },
  {
   "cell_type": "code",
   "execution_count": 43,
   "id": "8450a130",
   "metadata": {},
   "outputs": [
    {
     "data": {
      "text/plain": [
       "(300, 2)"
      ]
     },
     "execution_count": 43,
     "metadata": {},
     "output_type": "execute_result"
    }
   ],
   "source": [
    "songs_df.shape"
   ]
  },
  {
   "cell_type": "code",
   "execution_count": 44,
   "id": "2f2ad619",
   "metadata": {},
   "outputs": [],
   "source": [
    "songs_df.to_csv('/Users/szabonikolett/Downloads/songs_df.csv')"
   ]
  },
  {
   "cell_type": "code",
   "execution_count": 45,
   "id": "e94715b7",
   "metadata": {},
   "outputs": [
    {
     "data": {
      "text/plain": [
       "(300, 3)"
      ]
     },
     "metadata": {},
     "output_type": "display_data"
    },
    {
     "data": {
      "text/html": [
       "<div>\n",
       "<style scoped>\n",
       "    .dataframe tbody tr th:only-of-type {\n",
       "        vertical-align: middle;\n",
       "    }\n",
       "\n",
       "    .dataframe tbody tr th {\n",
       "        vertical-align: top;\n",
       "    }\n",
       "\n",
       "    .dataframe thead th {\n",
       "        text-align: right;\n",
       "    }\n",
       "</style>\n",
       "<table border=\"1\" class=\"dataframe\">\n",
       "  <thead>\n",
       "    <tr style=\"text-align: right;\">\n",
       "      <th></th>\n",
       "      <th>Unnamed: 0</th>\n",
       "      <th>artist</th>\n",
       "      <th>song</th>\n",
       "    </tr>\n",
       "  </thead>\n",
       "  <tbody>\n",
       "    <tr>\n",
       "      <th>0</th>\n",
       "      <td>0</td>\n",
       "      <td>Bruno Mars</td>\n",
       "      <td>That's What I Like</td>\n",
       "    </tr>\n",
       "    <tr>\n",
       "      <th>1</th>\n",
       "      <td>1</td>\n",
       "      <td>DJ Khaled featuring Rihanna &amp; Bryson Tiller</td>\n",
       "      <td>Wild Thoughts</td>\n",
       "    </tr>\n",
       "    <tr>\n",
       "      <th>2</th>\n",
       "      <td>2</td>\n",
       "      <td>Post Malone</td>\n",
       "      <td>Rockstar</td>\n",
       "    </tr>\n",
       "    <tr>\n",
       "      <th>3</th>\n",
       "      <td>3</td>\n",
       "      <td>DJ Khaled</td>\n",
       "      <td>I'm the One</td>\n",
       "    </tr>\n",
       "    <tr>\n",
       "      <th>4</th>\n",
       "      <td>4</td>\n",
       "      <td>Bruno Mars</td>\n",
       "      <td>24K Magic</td>\n",
       "    </tr>\n",
       "  </tbody>\n",
       "</table>\n",
       "</div>"
      ],
      "text/plain": [
       "   Unnamed: 0                                         artist  \\\n",
       "0           0                                    Bruno Mars    \n",
       "1           1   DJ Khaled featuring Rihanna & Bryson Tiller    \n",
       "2           2                                   Post Malone    \n",
       "3           3                                     DJ Khaled    \n",
       "4           4                                    Bruno Mars    \n",
       "\n",
       "                 song  \n",
       "0  That's What I Like  \n",
       "1       Wild Thoughts  \n",
       "2            Rockstar  \n",
       "3         I'm the One  \n",
       "4           24K Magic  "
      ]
     },
     "execution_count": 45,
     "metadata": {},
     "output_type": "execute_result"
    }
   ],
   "source": [
    "hot_songs_df = pd.read_csv('/Users/szabonikolett/Desktop/Ironhack-Labs/lab-web-scraping-single-page/songs_df.csv')\n",
    "display(hot_songs_df.shape)\n",
    "hot_songs_df.head()\n"
   ]
  },
  {
   "cell_type": "markdown",
   "id": "eebed971",
   "metadata": {},
   "source": [
    "# Creating Song Recommender"
   ]
  },
  {
   "cell_type": "code",
   "execution_count": 46,
   "id": "ed7cdc16",
   "metadata": {},
   "outputs": [
    {
     "name": "stdout",
     "output_type": "stream",
     "text": [
      "The Weekend\n"
     ]
    }
   ],
   "source": [
    "import random\n",
    "\n",
    "secure_random = random.SystemRandom()\n",
    "print(secure_random.choice(song))"
   ]
  },
  {
   "cell_type": "code",
   "execution_count": 47,
   "id": "742fffb9",
   "metadata": {},
   "outputs": [
    {
     "name": "stdout",
     "output_type": "stream",
     "text": [
      "248    Do You Mind\n",
      "Name: song, dtype: object\n"
     ]
    }
   ],
   "source": [
    "# alternative to get a random song recommendation \n",
    "print(songs_df['song'].sample())"
   ]
  },
  {
   "cell_type": "code",
   "execution_count": 48,
   "id": "3b8c0169",
   "metadata": {},
   "outputs": [
    {
     "name": "stdout",
     "output_type": "stream",
     "text": [
      "Enter your song: Rockstar\n",
      "Rockstar\n"
     ]
    }
   ],
   "source": [
    "favorite_song = input(\"Enter your song: \")\n",
    "print(favorite_song)"
   ]
  },
  {
   "cell_type": "code",
   "execution_count": 49,
   "id": "22e35eab",
   "metadata": {},
   "outputs": [
    {
     "name": "stdout",
     "output_type": "stream",
     "text": [
      "Our song recommendation is:  Deep End\n"
     ]
    }
   ],
   "source": [
    "# recommender option 1\n",
    "if len(songs_df[(songs_df['song'].isin([favorite_song]))])>0:\n",
    "    print(\"Our song recommendation is: \", secure_random.choice(songs_df['song'])) \n",
    "else:\n",
    "    print(\"We are sorry that we do not have a song recommendation for you now.\")"
   ]
  },
  {
   "cell_type": "code",
   "execution_count": 50,
   "id": "0d19a497",
   "metadata": {},
   "outputs": [
    {
     "name": "stdout",
     "output_type": "stream",
     "text": [
      "Our song recommendation is:  Teenage Fever\n"
     ]
    }
   ],
   "source": [
    "# recommender option 2\n",
    "if len(songs_df[(songs_df['song'].isin([favorite_song]))])>0:\n",
    "    print(\"Our song recommendation is: \", secure_random.choice(song)) \n",
    "else:\n",
    "    print(\"We are sorry that we do not have a song recommendation for you now.\")"
   ]
  },
  {
   "cell_type": "code",
   "execution_count": 51,
   "id": "2ec70f64",
   "metadata": {},
   "outputs": [],
   "source": [
    "# recommender option 3\n",
    "#if songs_list['song'].str.contains(favorite_song).any():\n",
    "#    print(songs_list['song'].sample())\n",
    "#else:\n",
    "#    print(\"We are sorry that we do not have a song recommendation for you now.\")"
   ]
  },
  {
   "cell_type": "code",
   "execution_count": 52,
   "id": "cbc92f90",
   "metadata": {},
   "outputs": [],
   "source": [
    "#if songs_list['song'].str.match(favorite_song).any() == True:\n",
    "#    print(songs_list['song'].sample())\n",
    "#else:\n",
    "#    print(\"We are sorry that we do not have a song recommendation for you now.\")"
   ]
  },
  {
   "cell_type": "markdown",
   "id": "4691756b",
   "metadata": {},
   "source": [
    "# Scraping Spotify - Wrapper - Expanding the song base"
   ]
  },
  {
   "cell_type": "code",
   "execution_count": 53,
   "id": "d9f5eebd",
   "metadata": {},
   "outputs": [],
   "source": [
    "secrets_file = open(\"secrets.txt\",\"r\")"
   ]
  },
  {
   "cell_type": "code",
   "execution_count": 54,
   "id": "9565210b",
   "metadata": {},
   "outputs": [],
   "source": [
    "string = secrets_file.read()"
   ]
  },
  {
   "cell_type": "code",
   "execution_count": 55,
   "id": "96d4b41a",
   "metadata": {},
   "outputs": [],
   "source": [
    "#string"
   ]
  },
  {
   "cell_type": "code",
   "execution_count": 56,
   "id": "ff5db1d7",
   "metadata": {},
   "outputs": [
    {
     "data": {
      "text/plain":
     },
     "execution_count": 56,
     "metadata": {},
     "output_type": "execute_result"
    }
   ],
   "source": [
    "string.split('\\n')"
   ]
  },
  {
   "cell_type": "code",
   "execution_count": 57,
   "id": "afc93e5f",
   "metadata": {},
   "outputs": [],
   "source": [
    "secrets_dict={}\n",
    "for line in string.split('\\n'):\n",
    "    if len(line) > 0:\n",
    "        secrets_dict[line.split(':')[0]]=line.split(':')[1].strip()"
   ]
  },
  {
   "cell_type": "code",
   "execution_count": 58,
   "id": "254d77ee",
   "metadata": {},
   "outputs": [
    {
     "data": {
      "text/plain": [
       "{'cid': '23bf8d76c3e54b15b11c551291b9a8df',\n",
       " 'csecret': '45aacab443004a6499b6a9155088e03b'}"
      ]
     },
     "execution_count": 58,
     "metadata": {},
     "output_type": "execute_result"
    }
   ],
   "source": [
    "secrets_dict"
   ]
  },
  {
   "cell_type": "markdown",
   "id": "e77c6f6b",
   "metadata": {},
   "source": [
    "# Authentication"
   ]
  },
  {
   "cell_type": "code",
   "execution_count": 59,
   "id": "e8a7f435",
   "metadata": {
    "scrolled": true
   },
   "outputs": [],
   "source": [
    "import spotipy\n",
    "from spotipy.oauth2 import SpotifyClientCredentials\n",
    "\n",
    "#Initialize SpotiPy with user credentials\n",
    "sp = spotipy.Spotify(auth_manager=SpotifyClientCredentials(client_id=secrets_dict['cid'],\n",
    "                                                           client_secret=secrets_dict['csecret']))"
   ]
  },
  {
   "cell_type": "markdown",
   "id": "7b799f89",
   "metadata": {},
   "source": [
    "# Next Vibe - Jazz"
   ]
  },
  {
   "cell_type": "code",
   "execution_count": 60,
   "id": "2cfdcc0d",
   "metadata": {},
   "outputs": [],
   "source": [
    "playlist1 = sp.user_playlist_tracks(\"spotify\", \"37i9dQZF1DWV7EzJMK2FUI\")"
   ]
  },
  {
   "cell_type": "code",
   "execution_count": 61,
   "id": "9e48f47b",
   "metadata": {},
   "outputs": [
    {
     "data": {
      "text/plain": [
       "dict_keys(['href', 'items', 'limit', 'next', 'offset', 'previous', 'total'])"
      ]
     },
     "execution_count": 61,
     "metadata": {},
     "output_type": "execute_result"
    }
   ],
   "source": [
    "playlist1.keys()"
   ]
  },
  {
   "cell_type": "code",
   "execution_count": 62,
   "id": "7d1723fa",
   "metadata": {},
   "outputs": [],
   "source": [
    "from random import randint\n",
    "from time import sleep\n",
    "\n",
    "def get_playlist_tracks(playlist_id):\n",
    "    results = sp.user_playlist_tracks(\"spotify\",playlist_id)\n",
    "    tracks = results['items'] # list of tracks aka songs\n",
    "    while results['next']!=None:\n",
    "        results = sp.next(results)\n",
    "        tracks = tracks + results['items']\n",
    "        #sleep(randint(1,3)) # unit of sleep is second\n",
    "        sleep(randint(1,3000)/3000) # dividing to respectful napping\n",
    "    return tracks"
   ]
  },
  {
   "cell_type": "code",
   "execution_count": 63,
   "id": "a333c8e8",
   "metadata": {},
   "outputs": [
    {
     "data": {
      "text/plain": [
       "382"
      ]
     },
     "execution_count": 63,
     "metadata": {},
     "output_type": "execute_result"
    }
   ],
   "source": [
    "all_tracks = get_playlist_tracks(\"37i9dQZF1DWV7EzJMK2FUI\")\n",
    "len(all_tracks)"
   ]
  },
  {
   "cell_type": "code",
   "execution_count": 64,
   "id": "436f2e99",
   "metadata": {},
   "outputs": [
    {
     "data": {
      "text/plain": [
       "'Meadow Park'"
      ]
     },
     "execution_count": 64,
     "metadata": {},
     "output_type": "execute_result"
    }
   ],
   "source": [
    "playlist1['items'][0][\"track\"][\"artists\"][0][\"name\"] # accessing artist"
   ]
  },
  {
   "cell_type": "code",
   "execution_count": 65,
   "id": "60c1869b",
   "metadata": {},
   "outputs": [
    {
     "data": {
      "text/plain": [
       "'Autumn In New York'"
      ]
     },
     "execution_count": 65,
     "metadata": {},
     "output_type": "execute_result"
    }
   ],
   "source": [
    "playlist1[\"items\"][3][\"track\"][\"name\"] # accessing song title"
   ]
  },
  {
   "cell_type": "code",
   "execution_count": 66,
   "id": "5bbb5aaa",
   "metadata": {},
   "outputs": [],
   "source": [
    "#def get_name_artists_from_list(tracks):\n",
    "#    return flatten(list(map(get_name_artists_from_track,tracks['items'])))"
   ]
  },
  {
   "cell_type": "code",
   "execution_count": null,
   "id": "4f42dc87",
   "metadata": {},
   "outputs": [],
   "source": []
  },
  {
   "cell_type": "code",
   "execution_count": 67,
   "id": "3df29795",
   "metadata": {},
   "outputs": [],
   "source": [
    "def get_name_artist_from_playlist_item(playlist_item):\n",
    "    return get_name_artists_from_track(playlist_item['track'])"
   ]
  },
  {
   "cell_type": "code",
   "execution_count": null,
   "id": "b1cd2d05",
   "metadata": {},
   "outputs": [],
   "source": []
  },
  {
   "cell_type": "code",
   "execution_count": 68,
   "id": "e88af090",
   "metadata": {},
   "outputs": [],
   "source": [
    "#def get_name_artists_from_track(track):\n",
    "#    return [(track[\"name\"],artist[\"name\"]) for artist in track[\"artists\"]]\n"
   ]
  },
  {
   "cell_type": "code",
   "execution_count": 69,
   "id": "0262fe07",
   "metadata": {},
   "outputs": [],
   "source": [
    "def get_name_artists_from_playlist(input_playlist):\n",
    "    return list(map(get_name_artist_from_playlist_item,input_playlist[\"items\"]))"
   ]
  },
  {
   "cell_type": "code",
   "execution_count": 70,
   "id": "96764081",
   "metadata": {},
   "outputs": [],
   "source": [
    "# credit goes to Begum! \n",
    "def get_name_artists_from_track(track):\n",
    "    track_list = []\n",
    "    for artist in track['artists']:\n",
    "        track_list.append((track[\"name\"],artist[\"name\"]))\n",
    "    return track_list"
   ]
  },
  {
   "cell_type": "code",
   "execution_count": 71,
   "id": "875283d0",
   "metadata": {},
   "outputs": [],
   "source": [
    "#get_name_artists_from_playlist(playlist1)"
   ]
  },
  {
   "cell_type": "code",
   "execution_count": 72,
   "id": "823089ba",
   "metadata": {},
   "outputs": [],
   "source": [
    "def flatten(input_list):\n",
    "    return [item for sublist in input_list for item in sublist]"
   ]
  },
  {
   "cell_type": "code",
   "execution_count": 73,
   "id": "d814bfd8",
   "metadata": {},
   "outputs": [],
   "source": [
    "def get_name_artists_from_playlist(input_playlist):\n",
    "    return flatten(list(map(get_name_artist_from_playlist_item,input_playlist[\"items\"])))"
   ]
  },
  {
   "cell_type": "code",
   "execution_count": 74,
   "id": "734d4a37",
   "metadata": {},
   "outputs": [],
   "source": [
    "#get_name_artists_from_playlist(playlist1)"
   ]
  },
  {
   "cell_type": "code",
   "execution_count": 75,
   "id": "5bbcb0bc",
   "metadata": {},
   "outputs": [
    {
     "data": {
      "text/plain": [
       "'Autumn In New York'"
      ]
     },
     "execution_count": 75,
     "metadata": {},
     "output_type": "execute_result"
    }
   ],
   "source": [
    "test = get_name_artists_from_playlist(playlist1)\n",
    "test[3][0]"
   ]
  },
  {
   "cell_type": "code",
   "execution_count": 76,
   "id": "a4223e30",
   "metadata": {},
   "outputs": [
    {
     "data": {
      "text/plain": [
       "'Meadow Park'"
      ]
     },
     "execution_count": 76,
     "metadata": {},
     "output_type": "execute_result"
    }
   ],
   "source": [
    "# to access the artist\n",
    "all_tracks[0]['track']['album']['artists'][0]['name']#['name'] #['album_type']['artists']"
   ]
  },
  {
   "cell_type": "code",
   "execution_count": 77,
   "id": "2fe6c0ca",
   "metadata": {},
   "outputs": [
    {
     "data": {
      "text/plain": [
       "'Without A Song'"
      ]
     },
     "execution_count": 77,
     "metadata": {},
     "output_type": "execute_result"
    }
   ],
   "source": [
    "# to access the song\n",
    "all_tracks[0]['track']['album']['name']"
   ]
  },
  {
   "cell_type": "code",
   "execution_count": 78,
   "id": "ccd3b85d",
   "metadata": {},
   "outputs": [],
   "source": [
    "playlist1 = sp.user_playlist_tracks(\"spotify\", \"37i9dQZF1DWV7EzJMK2FUI\")"
   ]
  },
  {
   "cell_type": "code",
   "execution_count": 79,
   "id": "945537ed",
   "metadata": {},
   "outputs": [
    {
     "data": {
      "text/plain": [
       "'Like Jazz or Something'"
      ]
     },
     "execution_count": 79,
     "metadata": {},
     "output_type": "execute_result"
    }
   ],
   "source": [
    "playlist1[\"items\"][10][\"track\"][\"name\"] # 11th song on the list"
   ]
  },
  {
   "cell_type": "code",
   "execution_count": 80,
   "id": "096de992",
   "metadata": {},
   "outputs": [
    {
     "data": {
      "text/plain": [
       "'spotify:track:62FrtiVepyS9UGfcTPhu7W'"
      ]
     },
     "execution_count": 80,
     "metadata": {},
     "output_type": "execute_result"
    }
   ],
   "source": [
    "song_uri = playlist1[\"items\"][3][\"track\"][\"uri\"]\n",
    "song_uri"
   ]
  },
  {
   "cell_type": "code",
   "execution_count": 81,
   "id": "1415a2ca",
   "metadata": {},
   "outputs": [
    {
     "data": {
      "text/plain": [
       "[{'danceability': 0.546,\n",
       "  'energy': 0.152,\n",
       "  'key': 7,\n",
       "  'loudness': -17.08,\n",
       "  'mode': 0,\n",
       "  'speechiness': 0.0368,\n",
       "  'acousticness': 0.958,\n",
       "  'instrumentalness': 0.931,\n",
       "  'liveness': 0.3,\n",
       "  'valence': 0.144,\n",
       "  'tempo': 124.562,\n",
       "  'type': 'audio_features',\n",
       "  'id': '62FrtiVepyS9UGfcTPhu7W',\n",
       "  'uri': 'spotify:track:62FrtiVepyS9UGfcTPhu7W',\n",
       "  'track_href': 'https://api.spotify.com/v1/tracks/62FrtiVepyS9UGfcTPhu7W',\n",
       "  'analysis_url': 'https://api.spotify.com/v1/audio-analysis/62FrtiVepyS9UGfcTPhu7W',\n",
       "  'duration_ms': 259680,\n",
       "  'time_signature': 4}]"
      ]
     },
     "execution_count": 81,
     "metadata": {},
     "output_type": "execute_result"
    }
   ],
   "source": [
    "sp.audio_features(song_uri)"
   ]
  },
  {
   "cell_type": "markdown",
   "id": "c623b9ae",
   "metadata": {},
   "source": [
    "# Extracting the artist + song title + song features into dataframe"
   ]
  },
  {
   "cell_type": "code",
   "execution_count": 82,
   "id": "9f89b050",
   "metadata": {},
   "outputs": [],
   "source": [
    "from random import randint\n",
    "from time import sleep\n",
    "\n",
    "def get_playlist_tracks(playlist_id):\n",
    "    results = sp.user_playlist_tracks(\"spotify\",playlist_id)\n",
    "    tracks = results['items']\n",
    "    while results['next']!=None:\n",
    "        results = sp.next(results)\n",
    "        tracks = tracks + results['items']\n",
    "        sleep(randint(1,3))  # sleep(randint(1,3000)/1000)\n",
    "    return tracks"
   ]
  },
  {
   "cell_type": "code",
   "execution_count": 83,
   "id": "fa0ad269",
   "metadata": {},
   "outputs": [],
   "source": [
    "all_tracks = get_playlist_tracks(\"37i9dQZF1DWV7EzJMK2FUI\")"
   ]
  },
  {
   "cell_type": "code",
   "execution_count": 84,
   "id": "34ed5f84",
   "metadata": {},
   "outputs": [],
   "source": [
    "def flatten_it(data, col_list):\n",
    "    for column in col_list:\n",
    "        flattened = pd.DataFrame(dict(data[column])).transpose()\n",
    "        columns = [str(col) for col in flattened.columns]\n",
    "        flattened.columns = [column + '_' + colname for colname in columns]\n",
    "        data = pd.concat([data, flattened], axis=1)\n",
    "        data = data.drop(column, axis=1)\n",
    "    return data"
   ]
  },
  {
   "cell_type": "code",
   "execution_count": 85,
   "id": "1d4bd44a",
   "metadata": {},
   "outputs": [],
   "source": [
    "def playlist_to_df(tracks_list):\n",
    "    artist_s = []\n",
    "    song_s = []\n",
    "    song_uri_s=[]\n",
    "    features_s= []\n",
    "\n",
    "    num_iter = len(tracks_list)\n",
    "\n",
    "    for i in range(num_iter):\n",
    "        artist_s.append(tracks_list[i]['track']['album']['artists'][0]['name'])\n",
    "        song_s.append(tracks_list[i]['track']['album']['name'])\n",
    "        #song_s.append(tracks_list[i]['track']['name'])\n",
    "        song_uri_s.append(tracks_list[i]['track']['uri'])\n",
    "        features_s.append(sp.audio_features(song_uri_s[i]))\n",
    "        \n",
    "    df_v0= pd.DataFrame({\"artist\":artist_s,\"song\":song_s,\"audio_features\":features_s})\n",
    "    \n",
    "    nested_columns = ['audio_features']\n",
    "    df_v1 = flatten_it(df_v0, nested_columns)\n",
    "    music_df=pd.concat([df_v1.drop(['audio_features_0'], axis=1), df_v1['audio_features_0'].apply(pd.Series)], axis=1)\n",
    "    \n",
    "    return music_df"
   ]
  },
  {
   "cell_type": "code",
   "execution_count": 88,
   "id": "638c3dd8",
   "metadata": {},
   "outputs": [],
   "source": [
    "#spotify_df_1=playlist_to_df(all_tracks)"
   ]
  },
  {
   "cell_type": "code",
   "execution_count": 89,
   "id": "a804e982",
   "metadata": {},
   "outputs": [],
   "source": [
    "#display(spotify_df_1.head())\n",
    "#display(spotify_df_1.shape)"
   ]
  },
  {
   "cell_type": "markdown",
   "id": "e4ed694c",
   "metadata": {},
   "source": [
    "# Next vibe - Movie tracks"
   ]
  },
  {
   "cell_type": "code",
   "execution_count": 90,
   "id": "ad8b751d",
   "metadata": {},
   "outputs": [],
   "source": [
    "#all_tracks_2 = get_playlist_tracks(\"6sNDAFPubg3k4CuyH1fqrR\")"
   ]
  },
  {
   "cell_type": "code",
   "execution_count": 91,
   "id": "4aaf1862",
   "metadata": {},
   "outputs": [],
   "source": [
    "#len(all_tracks_2)"
   ]
  },
  {
   "cell_type": "code",
   "execution_count": 92,
   "id": "212697a1",
   "metadata": {},
   "outputs": [],
   "source": [
    "#spotify_df_2=playlist_to_df(all_tracks_2)"
   ]
  },
  {
   "cell_type": "code",
   "execution_count": 93,
   "id": "98665186",
   "metadata": {},
   "outputs": [],
   "source": [
    "#display(spotify_df_2.head())\n",
    "#display(spotify_df_2.shape)"
   ]
  },
  {
   "cell_type": "markdown",
   "id": "f2a7db6b",
   "metadata": {},
   "source": [
    "# Next vibe"
   ]
  },
  {
   "cell_type": "code",
   "execution_count": 94,
   "id": "2f226dcb",
   "metadata": {},
   "outputs": [],
   "source": [
    "#all_tracks_3 = get_playlist_tracks(\"6S7bfwjMVEOdjg05OMojYs\")"
   ]
  },
  {
   "cell_type": "code",
   "execution_count": 95,
   "id": "6df84690",
   "metadata": {},
   "outputs": [],
   "source": [
    "#len(all_tracks_3)"
   ]
  },
  {
   "cell_type": "code",
   "execution_count": 96,
   "id": "995daeba",
   "metadata": {},
   "outputs": [],
   "source": [
    "#spotify_df_3=playlist_to_df(all_tracks_3)"
   ]
  },
  {
   "cell_type": "code",
   "execution_count": 97,
   "id": "79bd2c62",
   "metadata": {},
   "outputs": [],
   "source": [
    "#display(spotify_df_3.head())\n",
    "#display(spotify_df_3.shape)"
   ]
  },
  {
   "cell_type": "markdown",
   "id": "8392d1d9",
   "metadata": {},
   "source": [
    "# Next vibe"
   ]
  },
  {
   "cell_type": "code",
   "execution_count": 98,
   "id": "9e3a45da",
   "metadata": {},
   "outputs": [],
   "source": [
    "#all_tracks_4 = get_playlist_tracks(\"5KlBx4Ll6MxIonMVQwaUcx\")"
   ]
  },
  {
   "cell_type": "code",
   "execution_count": 99,
   "id": "dc13f416",
   "metadata": {},
   "outputs": [],
   "source": [
    "#len(all_tracks_4)"
   ]
  },
  {
   "cell_type": "code",
   "execution_count": 100,
   "id": "5c481760",
   "metadata": {},
   "outputs": [],
   "source": [
    "#spotify_df_4=playlist_to_df(all_tracks_4)"
   ]
  },
  {
   "cell_type": "code",
   "execution_count": 101,
   "id": "4018e4c0",
   "metadata": {},
   "outputs": [],
   "source": [
    "#display(spotify_df_4.shape)"
   ]
  },
  {
   "cell_type": "markdown",
   "id": "d4cc42e8",
   "metadata": {},
   "source": [
    "# Next vibe - Prog Metal"
   ]
  },
  {
   "cell_type": "code",
   "execution_count": 102,
   "id": "edb6d924",
   "metadata": {},
   "outputs": [],
   "source": [
    "#all_tracks_5 = get_playlist_tracks(\"1G6urCIzePuNBAcJ9zJ9hb\")"
   ]
  },
  {
   "cell_type": "code",
   "execution_count": 103,
   "id": "9391455c",
   "metadata": {},
   "outputs": [],
   "source": [
    "#len(all_tracks_5)"
   ]
  },
  {
   "cell_type": "code",
   "execution_count": 104,
   "id": "ba9bde93",
   "metadata": {},
   "outputs": [],
   "source": [
    "#spotify_df_5=playlist_to_df(all_tracks_5)"
   ]
  },
  {
   "cell_type": "code",
   "execution_count": 105,
   "id": "a1512808",
   "metadata": {},
   "outputs": [],
   "source": [
    "#display(spotify_df_5.shape)"
   ]
  },
  {
   "cell_type": "markdown",
   "id": "31990ef7",
   "metadata": {},
   "source": [
    "# Next vibe - 80s "
   ]
  },
  {
   "cell_type": "code",
   "execution_count": 106,
   "id": "0df04374",
   "metadata": {},
   "outputs": [],
   "source": [
    "#all_tracks_6 = get_playlist_tracks(\"37i9dQZF1DX4UtSsGT1Sbe\")"
   ]
  },
  {
   "cell_type": "code",
   "execution_count": 107,
   "id": "55402de4",
   "metadata": {},
   "outputs": [],
   "source": [
    "#len(all_tracks_6)"
   ]
  },
  {
   "cell_type": "code",
   "execution_count": 108,
   "id": "2c977a1b",
   "metadata": {},
   "outputs": [],
   "source": [
    "#spotify_df_6=playlist_to_df(all_tracks_6)"
   ]
  },
  {
   "cell_type": "code",
   "execution_count": 109,
   "id": "c1217cb5",
   "metadata": {},
   "outputs": [],
   "source": [
    "#display(spotify_df_6.shape)"
   ]
  },
  {
   "cell_type": "markdown",
   "id": "7ec9a4ea",
   "metadata": {},
   "source": [
    "# Next vibe - 2000s"
   ]
  },
  {
   "cell_type": "code",
   "execution_count": 110,
   "id": "1f5e618d",
   "metadata": {},
   "outputs": [],
   "source": [
    "#all_track_7 = get_playlist_tracks(\"37i9dQZF1DX4o1oenSJRJd\")"
   ]
  },
  {
   "cell_type": "code",
   "execution_count": 111,
   "id": "9ac16c8c",
   "metadata": {},
   "outputs": [],
   "source": [
    "#len(all_track_7)"
   ]
  },
  {
   "cell_type": "code",
   "execution_count": 112,
   "id": "ab169fd1",
   "metadata": {},
   "outputs": [],
   "source": [
    "#spotify_df_7=playlist_to_df(all_track_7)"
   ]
  },
  {
   "cell_type": "code",
   "execution_count": 113,
   "id": "1f5f8468",
   "metadata": {},
   "outputs": [],
   "source": [
    "#display(spotify_df_7.shape)"
   ]
  },
  {
   "cell_type": "markdown",
   "id": "d9454ac4",
   "metadata": {},
   "source": [
    "# Next vibe - short but gold"
   ]
  },
  {
   "cell_type": "code",
   "execution_count": 114,
   "id": "7379546d",
   "metadata": {},
   "outputs": [],
   "source": [
    "#all_track_8 = get_playlist_tracks(\"37i9dQZF1DX1BGjF5N5O7F\")"
   ]
  },
  {
   "cell_type": "code",
   "execution_count": 115,
   "id": "50feb131",
   "metadata": {},
   "outputs": [],
   "source": [
    "#len(all_track_8)"
   ]
  },
  {
   "cell_type": "code",
   "execution_count": 116,
   "id": "0713bcd1",
   "metadata": {},
   "outputs": [],
   "source": [
    "#spotify_df_8=playlist_to_df(all_track_8)"
   ]
  },
  {
   "cell_type": "code",
   "execution_count": 117,
   "id": "b9ae54c3",
   "metadata": {},
   "outputs": [],
   "source": [
    "#display(spotify_df_8.shape)"
   ]
  },
  {
   "cell_type": "markdown",
   "id": "1b6571db",
   "metadata": {},
   "source": [
    "# Next vibe - Girlpower"
   ]
  },
  {
   "cell_type": "code",
   "execution_count": 118,
   "id": "74872a89",
   "metadata": {},
   "outputs": [],
   "source": [
    "#all_track_9 = get_playlist_tracks(\"1Sb6XA7RTJunMoh1sDLijG\")"
   ]
  },
  {
   "cell_type": "code",
   "execution_count": 119,
   "id": "0613dbc9",
   "metadata": {},
   "outputs": [],
   "source": [
    "#len(all_track_9)"
   ]
  },
  {
   "cell_type": "code",
   "execution_count": 120,
   "id": "ead3c55b",
   "metadata": {},
   "outputs": [],
   "source": [
    "#spotify_df_9=playlist_to_df(all_track_9)"
   ]
  },
  {
   "cell_type": "code",
   "execution_count": 121,
   "id": "5887e441",
   "metadata": {},
   "outputs": [],
   "source": [
    "#display(spotify_df_9.shape)"
   ]
  },
  {
   "cell_type": "markdown",
   "id": "d7ed4dee",
   "metadata": {},
   "source": [
    "# Next vibe - Dropping the big bomb"
   ]
  },
  {
   "cell_type": "code",
   "execution_count": 122,
   "id": "26993f90",
   "metadata": {},
   "outputs": [],
   "source": [
    "#all_track_10 = get_playlist_tracks(\"532F1h299qKD894BlPfJJF\")"
   ]
  },
  {
   "cell_type": "code",
   "execution_count": 123,
   "id": "feb9ffa9",
   "metadata": {},
   "outputs": [],
   "source": [
    "#len(all_track_10)"
   ]
  },
  {
   "cell_type": "code",
   "execution_count": 124,
   "id": "92911ab5",
   "metadata": {},
   "outputs": [],
   "source": [
    "#spotify_df_10=playlist_to_df(all_track_10)"
   ]
  },
  {
   "cell_type": "code",
   "execution_count": 125,
   "id": "25a9de52",
   "metadata": {},
   "outputs": [],
   "source": [
    "#display(spotify_df_10.shape)"
   ]
  },
  {
   "cell_type": "markdown",
   "id": "190d281e",
   "metadata": {},
   "source": [
    "# Next vibe - Current pop"
   ]
  },
  {
   "cell_type": "code",
   "execution_count": 126,
   "id": "3852b6b3",
   "metadata": {},
   "outputs": [],
   "source": [
    "#all_track_11 = get_playlist_tracks(\"77CxoauZX3xv8VsfVwPJxT\")"
   ]
  },
  {
   "cell_type": "code",
   "execution_count": 127,
   "id": "5de9e6bb",
   "metadata": {},
   "outputs": [],
   "source": [
    "#len(all_track_11)"
   ]
  },
  {
   "cell_type": "code",
   "execution_count": 128,
   "id": "9f640ef2",
   "metadata": {},
   "outputs": [],
   "source": [
    "#spotify_df_11=playlist_to_df(all_track_11)"
   ]
  },
  {
   "cell_type": "code",
   "execution_count": 129,
   "id": "2beca38d",
   "metadata": {},
   "outputs": [],
   "source": [
    "#display(spotify_df_11.shape)"
   ]
  },
  {
   "cell_type": "markdown",
   "id": "d944ff51",
   "metadata": {},
   "source": [
    "# Next vibe - Alexis Ffrench kinda viba"
   ]
  },
  {
   "cell_type": "code",
   "execution_count": 130,
   "id": "87c1b7ee",
   "metadata": {},
   "outputs": [],
   "source": [
    "#all_track_12 = get_playlist_tracks(\"37i9dQZF1EIWO0SlXMrFwu\")"
   ]
  },
  {
   "cell_type": "code",
   "execution_count": 131,
   "id": "dafd7237",
   "metadata": {},
   "outputs": [],
   "source": [
    "#len(all_track_12)"
   ]
  },
  {
   "cell_type": "code",
   "execution_count": 132,
   "id": "86c8627f",
   "metadata": {},
   "outputs": [],
   "source": [
    "#spotify_df_12=playlist_to_df(all_track_12)"
   ]
  },
  {
   "cell_type": "code",
   "execution_count": 133,
   "id": "3f31aa1f",
   "metadata": {},
   "outputs": [],
   "source": [
    "#display(spotify_df_12.shape)"
   ]
  },
  {
   "cell_type": "markdown",
   "id": "2c6ed9f2",
   "metadata": {},
   "source": [
    "# Concatenating the dataframes "
   ]
  },
  {
   "cell_type": "code",
   "execution_count": 134,
   "id": "48d2caf2",
   "metadata": {},
   "outputs": [],
   "source": [
    "# not adding the first 300 songs (songs_df) as they have no features\n",
    "#spotify_df = pd.concat([spotify_df_1, spotify_df_2, spotify_df_3, spotify_df_4, spotify_df_5, spotify_df_6, spotify_df_7, spotify_df_8, spotify_df_9, spotify_df_10], axis=0)\n",
    "#display(spotify_df.shape)\n"
   ]
  },
  {
   "cell_type": "code",
   "execution_count": 135,
   "id": "806d1856",
   "metadata": {},
   "outputs": [],
   "source": [
    "#spotify_df = pd.concat([spotify_df, spotify_df_11,], axis=0)\n",
    "#display(spotify_df.shape)"
   ]
  },
  {
   "cell_type": "code",
   "execution_count": 136,
   "id": "b3d3a6e5",
   "metadata": {},
   "outputs": [],
   "source": [
    "#display(spotify_df.head())\n",
    "#display(spotify_df.shape)"
   ]
  },
  {
   "cell_type": "markdown",
   "id": "a5bd586a",
   "metadata": {},
   "source": [
    "# Reading in both dataframes "
   ]
  },
  {
   "cell_type": "code",
   "execution_count": 137,
   "id": "a684b0f6",
   "metadata": {},
   "outputs": [
    {
     "data": {
      "text/plain": [
       "(300, 3)"
      ]
     },
     "metadata": {},
     "output_type": "display_data"
    },
    {
     "data": {
      "text/html": [
       "<div>\n",
       "<style scoped>\n",
       "    .dataframe tbody tr th:only-of-type {\n",
       "        vertical-align: middle;\n",
       "    }\n",
       "\n",
       "    .dataframe tbody tr th {\n",
       "        vertical-align: top;\n",
       "    }\n",
       "\n",
       "    .dataframe thead th {\n",
       "        text-align: right;\n",
       "    }\n",
       "</style>\n",
       "<table border=\"1\" class=\"dataframe\">\n",
       "  <thead>\n",
       "    <tr style=\"text-align: right;\">\n",
       "      <th></th>\n",
       "      <th>Unnamed: 0</th>\n",
       "      <th>artist</th>\n",
       "      <th>song</th>\n",
       "    </tr>\n",
       "  </thead>\n",
       "  <tbody>\n",
       "    <tr>\n",
       "      <th>0</th>\n",
       "      <td>0</td>\n",
       "      <td>Bruno Mars</td>\n",
       "      <td>That's What I Like</td>\n",
       "    </tr>\n",
       "    <tr>\n",
       "      <th>1</th>\n",
       "      <td>1</td>\n",
       "      <td>DJ Khaled featuring Rihanna &amp; Bryson Tiller</td>\n",
       "      <td>Wild Thoughts</td>\n",
       "    </tr>\n",
       "    <tr>\n",
       "      <th>2</th>\n",
       "      <td>2</td>\n",
       "      <td>Post Malone</td>\n",
       "      <td>Rockstar</td>\n",
       "    </tr>\n",
       "    <tr>\n",
       "      <th>3</th>\n",
       "      <td>3</td>\n",
       "      <td>DJ Khaled</td>\n",
       "      <td>I'm the One</td>\n",
       "    </tr>\n",
       "    <tr>\n",
       "      <th>4</th>\n",
       "      <td>4</td>\n",
       "      <td>Bruno Mars</td>\n",
       "      <td>24K Magic</td>\n",
       "    </tr>\n",
       "  </tbody>\n",
       "</table>\n",
       "</div>"
      ],
      "text/plain": [
       "   Unnamed: 0                                         artist  \\\n",
       "0           0                                    Bruno Mars    \n",
       "1           1   DJ Khaled featuring Rihanna & Bryson Tiller    \n",
       "2           2                                   Post Malone    \n",
       "3           3                                     DJ Khaled    \n",
       "4           4                                    Bruno Mars    \n",
       "\n",
       "                 song  \n",
       "0  That's What I Like  \n",
       "1       Wild Thoughts  \n",
       "2            Rockstar  \n",
       "3         I'm the One  \n",
       "4           24K Magic  "
      ]
     },
     "execution_count": 137,
     "metadata": {},
     "output_type": "execute_result"
    }
   ],
   "source": [
    "hot_songs_df = pd.read_csv('/Users/szabonikolett/Desktop/Ironhack-Labs/lab-web-scraping-single-page/songs_df.csv')\n",
    "display(hot_songs_df.shape)\n",
    "hot_songs_df.head()"
   ]
  },
  {
   "cell_type": "markdown",
   "id": "13a2ccc9",
   "metadata": {},
   "source": [
    " - Songs to cluster"
   ]
  },
  {
   "cell_type": "code",
   "execution_count": 138,
   "id": "c8b375a5",
   "metadata": {},
   "outputs": [],
   "source": [
    "#spotify_df.to_csv('/Users/szabonikolett/Downloads/spotify_df.csv')\n",
    "# 12500 saved into csv"
   ]
  },
  {
   "cell_type": "code",
   "execution_count": 139,
   "id": "b2ea3336",
   "metadata": {
    "scrolled": true
   },
   "outputs": [
    {
     "data": {
      "text/plain": [
       "(12500, 21)"
      ]
     },
     "metadata": {},
     "output_type": "display_data"
    }
   ],
   "source": [
    "spotify_data = pd.read_csv('/Users/szabonikolett/Desktop/Ironhack-Labs/lab-web-scraping-single-page/spotify_df.csv')\n",
    "display(spotify_data.shape)"
   ]
  },
  {
   "cell_type": "code",
   "execution_count": 140,
   "id": "129f7980",
   "metadata": {},
   "outputs": [
    {
     "data": {
      "text/html": [
       "<div>\n",
       "<style scoped>\n",
       "    .dataframe tbody tr th:only-of-type {\n",
       "        vertical-align: middle;\n",
       "    }\n",
       "\n",
       "    .dataframe tbody tr th {\n",
       "        vertical-align: top;\n",
       "    }\n",
       "\n",
       "    .dataframe thead th {\n",
       "        text-align: right;\n",
       "    }\n",
       "</style>\n",
       "<table border=\"1\" class=\"dataframe\">\n",
       "  <thead>\n",
       "    <tr style=\"text-align: right;\">\n",
       "      <th></th>\n",
       "      <th>Unnamed: 0</th>\n",
       "      <th>artist</th>\n",
       "      <th>song</th>\n",
       "      <th>danceability</th>\n",
       "      <th>energy</th>\n",
       "      <th>key</th>\n",
       "      <th>loudness</th>\n",
       "      <th>mode</th>\n",
       "      <th>speechiness</th>\n",
       "      <th>acousticness</th>\n",
       "      <th>instrumentalness</th>\n",
       "      <th>liveness</th>\n",
       "      <th>valence</th>\n",
       "      <th>tempo</th>\n",
       "      <th>type</th>\n",
       "      <th>id</th>\n",
       "      <th>uri</th>\n",
       "      <th>track_href</th>\n",
       "      <th>analysis_url</th>\n",
       "      <th>duration_ms</th>\n",
       "      <th>time_signature</th>\n",
       "    </tr>\n",
       "  </thead>\n",
       "  <tbody>\n",
       "    <tr>\n",
       "      <th>0</th>\n",
       "      <td>0</td>\n",
       "      <td>Meadow Park</td>\n",
       "      <td>Without A Song</td>\n",
       "      <td>0.475</td>\n",
       "      <td>0.138</td>\n",
       "      <td>5</td>\n",
       "      <td>-17.099</td>\n",
       "      <td>0</td>\n",
       "      <td>0.0424</td>\n",
       "      <td>0.965</td>\n",
       "      <td>0.884</td>\n",
       "      <td>0.0971</td>\n",
       "      <td>0.1230</td>\n",
       "      <td>118.338</td>\n",
       "      <td>audio_features</td>\n",
       "      <td>1nsMASRDWwUwlBMmOuh80d</td>\n",
       "      <td>spotify:track:1nsMASRDWwUwlBMmOuh80d</td>\n",
       "      <td>https://api.spotify.com/v1/tracks/1nsMASRDWwUw...</td>\n",
       "      <td>https://api.spotify.com/v1/audio-analysis/1nsM...</td>\n",
       "      <td>236785</td>\n",
       "      <td>4</td>\n",
       "    </tr>\n",
       "    <tr>\n",
       "      <th>1</th>\n",
       "      <td>1</td>\n",
       "      <td>Madeleine West</td>\n",
       "      <td>Sometime Ago</td>\n",
       "      <td>0.538</td>\n",
       "      <td>0.140</td>\n",
       "      <td>9</td>\n",
       "      <td>-17.368</td>\n",
       "      <td>0</td>\n",
       "      <td>0.0393</td>\n",
       "      <td>0.937</td>\n",
       "      <td>0.893</td>\n",
       "      <td>0.3240</td>\n",
       "      <td>0.1950</td>\n",
       "      <td>86.259</td>\n",
       "      <td>audio_features</td>\n",
       "      <td>6HZgxhesyOy8jkTiAFfQmR</td>\n",
       "      <td>spotify:track:6HZgxhesyOy8jkTiAFfQmR</td>\n",
       "      <td>https://api.spotify.com/v1/tracks/6HZgxhesyOy8...</td>\n",
       "      <td>https://api.spotify.com/v1/audio-analysis/6HZg...</td>\n",
       "      <td>160919</td>\n",
       "      <td>3</td>\n",
       "    </tr>\n",
       "    <tr>\n",
       "      <th>2</th>\n",
       "      <td>2</td>\n",
       "      <td>Al Fowler Trio</td>\n",
       "      <td>Prelude To A Kiss</td>\n",
       "      <td>0.629</td>\n",
       "      <td>0.152</td>\n",
       "      <td>9</td>\n",
       "      <td>-18.659</td>\n",
       "      <td>0</td>\n",
       "      <td>0.0400</td>\n",
       "      <td>0.967</td>\n",
       "      <td>0.904</td>\n",
       "      <td>0.1090</td>\n",
       "      <td>0.0966</td>\n",
       "      <td>116.833</td>\n",
       "      <td>audio_features</td>\n",
       "      <td>4Csbgu7LMDGPLjhPgHfQmZ</td>\n",
       "      <td>spotify:track:4Csbgu7LMDGPLjhPgHfQmZ</td>\n",
       "      <td>https://api.spotify.com/v1/tracks/4Csbgu7LMDGP...</td>\n",
       "      <td>https://api.spotify.com/v1/audio-analysis/4Csb...</td>\n",
       "      <td>275743</td>\n",
       "      <td>4</td>\n",
       "    </tr>\n",
       "  </tbody>\n",
       "</table>\n",
       "</div>"
      ],
      "text/plain": [
       "   Unnamed: 0          artist               song  danceability  energy  key  \\\n",
       "0           0     Meadow Park     Without A Song         0.475   0.138    5   \n",
       "1           1  Madeleine West       Sometime Ago         0.538   0.140    9   \n",
       "2           2  Al Fowler Trio  Prelude To A Kiss         0.629   0.152    9   \n",
       "\n",
       "   loudness  mode  speechiness  acousticness  instrumentalness  liveness  \\\n",
       "0   -17.099     0       0.0424         0.965             0.884    0.0971   \n",
       "1   -17.368     0       0.0393         0.937             0.893    0.3240   \n",
       "2   -18.659     0       0.0400         0.967             0.904    0.1090   \n",
       "\n",
       "   valence    tempo            type                      id  \\\n",
       "0   0.1230  118.338  audio_features  1nsMASRDWwUwlBMmOuh80d   \n",
       "1   0.1950   86.259  audio_features  6HZgxhesyOy8jkTiAFfQmR   \n",
       "2   0.0966  116.833  audio_features  4Csbgu7LMDGPLjhPgHfQmZ   \n",
       "\n",
       "                                    uri  \\\n",
       "0  spotify:track:1nsMASRDWwUwlBMmOuh80d   \n",
       "1  spotify:track:6HZgxhesyOy8jkTiAFfQmR   \n",
       "2  spotify:track:4Csbgu7LMDGPLjhPgHfQmZ   \n",
       "\n",
       "                                          track_href  \\\n",
       "0  https://api.spotify.com/v1/tracks/1nsMASRDWwUw...   \n",
       "1  https://api.spotify.com/v1/tracks/6HZgxhesyOy8...   \n",
       "2  https://api.spotify.com/v1/tracks/4Csbgu7LMDGP...   \n",
       "\n",
       "                                        analysis_url  duration_ms  \\\n",
       "0  https://api.spotify.com/v1/audio-analysis/1nsM...       236785   \n",
       "1  https://api.spotify.com/v1/audio-analysis/6HZg...       160919   \n",
       "2  https://api.spotify.com/v1/audio-analysis/4Csb...       275743   \n",
       "\n",
       "   time_signature  \n",
       "0               4  \n",
       "1               3  \n",
       "2               4  "
      ]
     },
     "execution_count": 140,
     "metadata": {},
     "output_type": "execute_result"
    }
   ],
   "source": [
    "pd.set_option('display.max_columns', None) \n",
    "spotify_data.head(3)"
   ]
  },
  {
   "cell_type": "markdown",
   "id": "ab8ba8eb",
   "metadata": {},
   "source": [
    "- Analyzing the distributions of the music features: "
   ]
  },
  {
   "cell_type": "code",
   "execution_count": 141,
   "id": "414c15a4",
   "metadata": {},
   "outputs": [
    {
     "data": {
      "image/png": "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\n",
      "text/plain": [
       "<Figure size 2000x1000 with 12 Axes>"
      ]
     },
     "metadata": {},
     "output_type": "display_data"
    }
   ],
   "source": [
    "spotify_data[['acousticness', 'danceability', 'energy', \n",
    "           'instrumentalness', 'key','liveness','loudness', 'mode', 'speechiness',\n",
    "           'tempo', 'valence']].hist(bins=50, figsize=(20,10))\n",
    "plt.show()"
   ]
  },
  {
   "cell_type": "code",
   "execution_count": null,
   "id": "4a28f98e",
   "metadata": {},
   "outputs": [],
   "source": []
  },
  {
   "cell_type": "code",
   "execution_count": null,
   "id": "45daff44",
   "metadata": {},
   "outputs": [],
   "source": []
  },
  {
   "cell_type": "code",
   "execution_count": null,
   "id": "ea9bf347",
   "metadata": {},
   "outputs": [],
   "source": []
  },
  {
   "cell_type": "code",
   "execution_count": null,
   "id": "55e59026",
   "metadata": {},
   "outputs": [],
   "source": []
  },
  {
   "cell_type": "code",
   "execution_count": null,
   "id": "f14baa01",
   "metadata": {},
   "outputs": [],
   "source": []
  },
  {
   "cell_type": "code",
   "execution_count": null,
   "id": "5961144a",
   "metadata": {},
   "outputs": [],
   "source": []
  },
  {
   "cell_type": "code",
   "execution_count": 142,
   "id": "baaeea2c",
   "metadata": {},
   "outputs": [],
   "source": [
    "#kaggle_data1 = pd.read_csv('SpotifyAudioFeaturesNov2018.csv')\n",
    "#display(kaggle_data1.shape)\n",
    "#kaggle_data1"
   ]
  },
  {
   "cell_type": "code",
   "execution_count": 143,
   "id": "b4552d99",
   "metadata": {},
   "outputs": [],
   "source": [
    "#kaggle_data2 = pd.read_csv('SpotifyAudioFeaturesApril2019.csv')\n",
    "#display(kaggle_data1.shape)\n",
    "#kaggle_data2"
   ]
  },
  {
   "cell_type": "code",
   "execution_count": 144,
   "id": "c0507714",
   "metadata": {},
   "outputs": [],
   "source": [
    "# tried expanding with enormous amount of song features from Kaggle but my laptop can't handle it, I will just keep\n",
    "# working with my API collected 12500 songs"
   ]
  },
  {
   "cell_type": "markdown",
   "id": "a382135b",
   "metadata": {},
   "source": [
    "# Clustering"
   ]
  },
  {
   "cell_type": "code",
   "execution_count": 145,
   "id": "b2f919bd",
   "metadata": {},
   "outputs": [],
   "source": [
    "import numpy as np\n",
    "import matplotlib.pyplot as plt\n",
    "%matplotlib inline\n",
    "\n",
    "from sklearn import cluster, datasets \n",
    "from sklearn.preprocessing import StandardScaler\n",
    "from matplotlib.lines import Line2D\n"
   ]
  },
  {
   "cell_type": "markdown",
   "id": "d9f0c251",
   "metadata": {},
   "source": [
    "Principal Component Analysis (PCA) is a dimensionality reduction approach which attempts to find the best possible subspace that explains most of the variance in the data. It works by deriving components from the original scaled features. "
   ]
  },
  {
   "cell_type": "code",
   "execution_count": 146,
   "id": "ba1a01bb",
   "metadata": {},
   "outputs": [
    {
     "data": {
      "text/html": [
       "<div>\n",
       "<style scoped>\n",
       "    .dataframe tbody tr th:only-of-type {\n",
       "        vertical-align: middle;\n",
       "    }\n",
       "\n",
       "    .dataframe tbody tr th {\n",
       "        vertical-align: top;\n",
       "    }\n",
       "\n",
       "    .dataframe thead th {\n",
       "        text-align: right;\n",
       "    }\n",
       "</style>\n",
       "<table border=\"1\" class=\"dataframe\">\n",
       "  <thead>\n",
       "    <tr style=\"text-align: right;\">\n",
       "      <th></th>\n",
       "      <th>Unnamed: 0</th>\n",
       "      <th>artist</th>\n",
       "      <th>song</th>\n",
       "      <th>danceability</th>\n",
       "      <th>energy</th>\n",
       "      <th>key</th>\n",
       "      <th>loudness</th>\n",
       "      <th>mode</th>\n",
       "      <th>speechiness</th>\n",
       "      <th>acousticness</th>\n",
       "      <th>instrumentalness</th>\n",
       "      <th>liveness</th>\n",
       "      <th>valence</th>\n",
       "      <th>tempo</th>\n",
       "      <th>type</th>\n",
       "      <th>id</th>\n",
       "      <th>uri</th>\n",
       "      <th>track_href</th>\n",
       "      <th>analysis_url</th>\n",
       "      <th>duration_ms</th>\n",
       "      <th>time_signature</th>\n",
       "    </tr>\n",
       "  </thead>\n",
       "  <tbody>\n",
       "    <tr>\n",
       "      <th>0</th>\n",
       "      <td>0</td>\n",
       "      <td>Meadow Park</td>\n",
       "      <td>Without A Song</td>\n",
       "      <td>0.475</td>\n",
       "      <td>0.138</td>\n",
       "      <td>5</td>\n",
       "      <td>-17.099</td>\n",
       "      <td>0</td>\n",
       "      <td>0.0424</td>\n",
       "      <td>0.965</td>\n",
       "      <td>0.884</td>\n",
       "      <td>0.0971</td>\n",
       "      <td>0.1230</td>\n",
       "      <td>118.338</td>\n",
       "      <td>audio_features</td>\n",
       "      <td>1nsMASRDWwUwlBMmOuh80d</td>\n",
       "      <td>spotify:track:1nsMASRDWwUwlBMmOuh80d</td>\n",
       "      <td>https://api.spotify.com/v1/tracks/1nsMASRDWwUw...</td>\n",
       "      <td>https://api.spotify.com/v1/audio-analysis/1nsM...</td>\n",
       "      <td>236785</td>\n",
       "      <td>4</td>\n",
       "    </tr>\n",
       "    <tr>\n",
       "      <th>1</th>\n",
       "      <td>1</td>\n",
       "      <td>Madeleine West</td>\n",
       "      <td>Sometime Ago</td>\n",
       "      <td>0.538</td>\n",
       "      <td>0.140</td>\n",
       "      <td>9</td>\n",
       "      <td>-17.368</td>\n",
       "      <td>0</td>\n",
       "      <td>0.0393</td>\n",
       "      <td>0.937</td>\n",
       "      <td>0.893</td>\n",
       "      <td>0.3240</td>\n",
       "      <td>0.1950</td>\n",
       "      <td>86.259</td>\n",
       "      <td>audio_features</td>\n",
       "      <td>6HZgxhesyOy8jkTiAFfQmR</td>\n",
       "      <td>spotify:track:6HZgxhesyOy8jkTiAFfQmR</td>\n",
       "      <td>https://api.spotify.com/v1/tracks/6HZgxhesyOy8...</td>\n",
       "      <td>https://api.spotify.com/v1/audio-analysis/6HZg...</td>\n",
       "      <td>160919</td>\n",
       "      <td>3</td>\n",
       "    </tr>\n",
       "    <tr>\n",
       "      <th>2</th>\n",
       "      <td>2</td>\n",
       "      <td>Al Fowler Trio</td>\n",
       "      <td>Prelude To A Kiss</td>\n",
       "      <td>0.629</td>\n",
       "      <td>0.152</td>\n",
       "      <td>9</td>\n",
       "      <td>-18.659</td>\n",
       "      <td>0</td>\n",
       "      <td>0.0400</td>\n",
       "      <td>0.967</td>\n",
       "      <td>0.904</td>\n",
       "      <td>0.1090</td>\n",
       "      <td>0.0966</td>\n",
       "      <td>116.833</td>\n",
       "      <td>audio_features</td>\n",
       "      <td>4Csbgu7LMDGPLjhPgHfQmZ</td>\n",
       "      <td>spotify:track:4Csbgu7LMDGPLjhPgHfQmZ</td>\n",
       "      <td>https://api.spotify.com/v1/tracks/4Csbgu7LMDGP...</td>\n",
       "      <td>https://api.spotify.com/v1/audio-analysis/4Csb...</td>\n",
       "      <td>275743</td>\n",
       "      <td>4</td>\n",
       "    </tr>\n",
       "  </tbody>\n",
       "</table>\n",
       "</div>"
      ],
      "text/plain": [
       "   Unnamed: 0          artist               song  danceability  energy  key  \\\n",
       "0           0     Meadow Park     Without A Song         0.475   0.138    5   \n",
       "1           1  Madeleine West       Sometime Ago         0.538   0.140    9   \n",
       "2           2  Al Fowler Trio  Prelude To A Kiss         0.629   0.152    9   \n",
       "\n",
       "   loudness  mode  speechiness  acousticness  instrumentalness  liveness  \\\n",
       "0   -17.099     0       0.0424         0.965             0.884    0.0971   \n",
       "1   -17.368     0       0.0393         0.937             0.893    0.3240   \n",
       "2   -18.659     0       0.0400         0.967             0.904    0.1090   \n",
       "\n",
       "   valence    tempo            type                      id  \\\n",
       "0   0.1230  118.338  audio_features  1nsMASRDWwUwlBMmOuh80d   \n",
       "1   0.1950   86.259  audio_features  6HZgxhesyOy8jkTiAFfQmR   \n",
       "2   0.0966  116.833  audio_features  4Csbgu7LMDGPLjhPgHfQmZ   \n",
       "\n",
       "                                    uri  \\\n",
       "0  spotify:track:1nsMASRDWwUwlBMmOuh80d   \n",
       "1  spotify:track:6HZgxhesyOy8jkTiAFfQmR   \n",
       "2  spotify:track:4Csbgu7LMDGPLjhPgHfQmZ   \n",
       "\n",
       "                                          track_href  \\\n",
       "0  https://api.spotify.com/v1/tracks/1nsMASRDWwUw...   \n",
       "1  https://api.spotify.com/v1/tracks/6HZgxhesyOy8...   \n",
       "2  https://api.spotify.com/v1/tracks/4Csbgu7LMDGP...   \n",
       "\n",
       "                                        analysis_url  duration_ms  \\\n",
       "0  https://api.spotify.com/v1/audio-analysis/1nsM...       236785   \n",
       "1  https://api.spotify.com/v1/audio-analysis/6HZg...       160919   \n",
       "2  https://api.spotify.com/v1/audio-analysis/4Csb...       275743   \n",
       "\n",
       "   time_signature  \n",
       "0               4  \n",
       "1               3  \n",
       "2               4  "
      ]
     },
     "execution_count": 146,
     "metadata": {},
     "output_type": "execute_result"
    }
   ],
   "source": [
    "pd.set_option('display.max_columns', None) \n",
    "spotify_data.head(3)"
   ]
  },
  {
   "cell_type": "code",
   "execution_count": 147,
   "id": "7a9700b5",
   "metadata": {},
   "outputs": [],
   "source": [
    "X = spotify_data[['danceability', 'energy', 'key', 'loudness', 'mode', 'speechiness', 'acousticness', 'instrumentalness', 'liveness', 'valence', 'tempo']]\n",
    "#X.isna().sum() no null values"
   ]
  },
  {
   "cell_type": "markdown",
   "id": "28bc13ee",
   "metadata": {},
   "source": [
    "# StandardScaling the song features"
   ]
  },
  {
   "cell_type": "code",
   "execution_count": 148,
   "id": "f55a6e74",
   "metadata": {},
   "outputs": [],
   "source": [
    "from sklearn.preprocessing import StandardScaler\n",
    "from sklearn.model_selection import train_test_split"
   ]
  },
  {
   "cell_type": "code",
   "execution_count": 149,
   "id": "031cc625",
   "metadata": {},
   "outputs": [],
   "source": [
    "X_train, X_test = train_test_split(X, test_size=0.2, random_state=59)"
   ]
  },
  {
   "cell_type": "code",
   "execution_count": 150,
   "id": "a6e3cd3e",
   "metadata": {},
   "outputs": [
    {
     "data": {
      "text/html": [
       "<div>\n",
       "<style scoped>\n",
       "    .dataframe tbody tr th:only-of-type {\n",
       "        vertical-align: middle;\n",
       "    }\n",
       "\n",
       "    .dataframe tbody tr th {\n",
       "        vertical-align: top;\n",
       "    }\n",
       "\n",
       "    .dataframe thead th {\n",
       "        text-align: right;\n",
       "    }\n",
       "</style>\n",
       "<table border=\"1\" class=\"dataframe\">\n",
       "  <thead>\n",
       "    <tr style=\"text-align: right;\">\n",
       "      <th></th>\n",
       "      <th>count</th>\n",
       "      <th>mean</th>\n",
       "      <th>std</th>\n",
       "      <th>min</th>\n",
       "      <th>25%</th>\n",
       "      <th>50%</th>\n",
       "      <th>75%</th>\n",
       "      <th>max</th>\n",
       "    </tr>\n",
       "  </thead>\n",
       "  <tbody>\n",
       "    <tr>\n",
       "      <th>danceability</th>\n",
       "      <td>10000.0</td>\n",
       "      <td>0.566287</td>\n",
       "      <td>0.171684</td>\n",
       "      <td>0.058800</td>\n",
       "      <td>0.46000</td>\n",
       "      <td>0.583000</td>\n",
       "      <td>0.69000</td>\n",
       "      <td>0.975</td>\n",
       "    </tr>\n",
       "    <tr>\n",
       "      <th>energy</th>\n",
       "      <td>10000.0</td>\n",
       "      <td>0.589831</td>\n",
       "      <td>0.243420</td>\n",
       "      <td>0.002440</td>\n",
       "      <td>0.42900</td>\n",
       "      <td>0.637000</td>\n",
       "      <td>0.78400</td>\n",
       "      <td>0.999</td>\n",
       "    </tr>\n",
       "    <tr>\n",
       "      <th>key</th>\n",
       "      <td>10000.0</td>\n",
       "      <td>5.252700</td>\n",
       "      <td>3.569890</td>\n",
       "      <td>0.000000</td>\n",
       "      <td>2.00000</td>\n",
       "      <td>5.000000</td>\n",
       "      <td>8.00000</td>\n",
       "      <td>11.000</td>\n",
       "    </tr>\n",
       "    <tr>\n",
       "      <th>loudness</th>\n",
       "      <td>10000.0</td>\n",
       "      <td>-8.899085</td>\n",
       "      <td>5.015922</td>\n",
       "      <td>-39.346000</td>\n",
       "      <td>-10.92725</td>\n",
       "      <td>-7.478500</td>\n",
       "      <td>-5.42175</td>\n",
       "      <td>-0.062</td>\n",
       "    </tr>\n",
       "    <tr>\n",
       "      <th>mode</th>\n",
       "      <td>10000.0</td>\n",
       "      <td>0.654900</td>\n",
       "      <td>0.475425</td>\n",
       "      <td>0.000000</td>\n",
       "      <td>0.00000</td>\n",
       "      <td>1.000000</td>\n",
       "      <td>1.00000</td>\n",
       "      <td>1.000</td>\n",
       "    </tr>\n",
       "    <tr>\n",
       "      <th>speechiness</th>\n",
       "      <td>10000.0</td>\n",
       "      <td>0.058817</td>\n",
       "      <td>0.053852</td>\n",
       "      <td>0.021800</td>\n",
       "      <td>0.03330</td>\n",
       "      <td>0.041000</td>\n",
       "      <td>0.05920</td>\n",
       "      <td>0.758</td>\n",
       "    </tr>\n",
       "    <tr>\n",
       "      <th>acousticness</th>\n",
       "      <td>10000.0</td>\n",
       "      <td>0.324079</td>\n",
       "      <td>0.322982</td>\n",
       "      <td>0.000003</td>\n",
       "      <td>0.04350</td>\n",
       "      <td>0.198000</td>\n",
       "      <td>0.57025</td>\n",
       "      <td>0.996</td>\n",
       "    </tr>\n",
       "    <tr>\n",
       "      <th>instrumentalness</th>\n",
       "      <td>10000.0</td>\n",
       "      <td>0.109828</td>\n",
       "      <td>0.276190</td>\n",
       "      <td>0.000000</td>\n",
       "      <td>0.00000</td>\n",
       "      <td>0.000014</td>\n",
       "      <td>0.00322</td>\n",
       "      <td>0.987</td>\n",
       "    </tr>\n",
       "    <tr>\n",
       "      <th>liveness</th>\n",
       "      <td>10000.0</td>\n",
       "      <td>0.172068</td>\n",
       "      <td>0.135114</td>\n",
       "      <td>0.015000</td>\n",
       "      <td>0.09240</td>\n",
       "      <td>0.119000</td>\n",
       "      <td>0.20600</td>\n",
       "      <td>0.985</td>\n",
       "    </tr>\n",
       "    <tr>\n",
       "      <th>valence</th>\n",
       "      <td>10000.0</td>\n",
       "      <td>0.498318</td>\n",
       "      <td>0.266572</td>\n",
       "      <td>0.025400</td>\n",
       "      <td>0.28100</td>\n",
       "      <td>0.491000</td>\n",
       "      <td>0.72300</td>\n",
       "      <td>0.992</td>\n",
       "    </tr>\n",
       "    <tr>\n",
       "      <th>tempo</th>\n",
       "      <td>10000.0</td>\n",
       "      <td>118.431715</td>\n",
       "      <td>27.585190</td>\n",
       "      <td>30.557000</td>\n",
       "      <td>99.03300</td>\n",
       "      <td>118.476000</td>\n",
       "      <td>132.83400</td>\n",
       "      <td>213.654</td>\n",
       "    </tr>\n",
       "  </tbody>\n",
       "</table>\n",
       "</div>"
      ],
      "text/plain": [
       "                    count        mean        std        min       25%  \\\n",
       "danceability      10000.0    0.566287   0.171684   0.058800   0.46000   \n",
       "energy            10000.0    0.589831   0.243420   0.002440   0.42900   \n",
       "key               10000.0    5.252700   3.569890   0.000000   2.00000   \n",
       "loudness          10000.0   -8.899085   5.015922 -39.346000 -10.92725   \n",
       "mode              10000.0    0.654900   0.475425   0.000000   0.00000   \n",
       "speechiness       10000.0    0.058817   0.053852   0.021800   0.03330   \n",
       "acousticness      10000.0    0.324079   0.322982   0.000003   0.04350   \n",
       "instrumentalness  10000.0    0.109828   0.276190   0.000000   0.00000   \n",
       "liveness          10000.0    0.172068   0.135114   0.015000   0.09240   \n",
       "valence           10000.0    0.498318   0.266572   0.025400   0.28100   \n",
       "tempo             10000.0  118.431715  27.585190  30.557000  99.03300   \n",
       "\n",
       "                         50%        75%      max  \n",
       "danceability        0.583000    0.69000    0.975  \n",
       "energy              0.637000    0.78400    0.999  \n",
       "key                 5.000000    8.00000   11.000  \n",
       "loudness           -7.478500   -5.42175   -0.062  \n",
       "mode                1.000000    1.00000    1.000  \n",
       "speechiness         0.041000    0.05920    0.758  \n",
       "acousticness        0.198000    0.57025    0.996  \n",
       "instrumentalness    0.000014    0.00322    0.987  \n",
       "liveness            0.119000    0.20600    0.985  \n",
       "valence             0.491000    0.72300    0.992  \n",
       "tempo             118.476000  132.83400  213.654  "
      ]
     },
     "execution_count": 150,
     "metadata": {},
     "output_type": "execute_result"
    }
   ],
   "source": [
    "X_train.describe().T"
   ]
  },
  {
   "cell_type": "code",
   "execution_count": 151,
   "id": "e88c0550",
   "metadata": {},
   "outputs": [
    {
     "data": {
      "text/html": [
       "<div>\n",
       "<style scoped>\n",
       "    .dataframe tbody tr th:only-of-type {\n",
       "        vertical-align: middle;\n",
       "    }\n",
       "\n",
       "    .dataframe tbody tr th {\n",
       "        vertical-align: top;\n",
       "    }\n",
       "\n",
       "    .dataframe thead th {\n",
       "        text-align: right;\n",
       "    }\n",
       "</style>\n",
       "<table border=\"1\" class=\"dataframe\">\n",
       "  <thead>\n",
       "    <tr style=\"text-align: right;\">\n",
       "      <th></th>\n",
       "      <th>count</th>\n",
       "      <th>mean</th>\n",
       "      <th>std</th>\n",
       "      <th>min</th>\n",
       "      <th>25%</th>\n",
       "      <th>50%</th>\n",
       "      <th>75%</th>\n",
       "      <th>max</th>\n",
       "    </tr>\n",
       "  </thead>\n",
       "  <tbody>\n",
       "    <tr>\n",
       "      <th>danceability</th>\n",
       "      <td>2500.0</td>\n",
       "      <td>0.567561</td>\n",
       "      <td>0.171295</td>\n",
       "      <td>0.059000</td>\n",
       "      <td>0.46400</td>\n",
       "      <td>0.586000</td>\n",
       "      <td>0.694000</td>\n",
       "      <td>0.957</td>\n",
       "    </tr>\n",
       "    <tr>\n",
       "      <th>energy</th>\n",
       "      <td>2500.0</td>\n",
       "      <td>0.591543</td>\n",
       "      <td>0.245674</td>\n",
       "      <td>0.005310</td>\n",
       "      <td>0.42900</td>\n",
       "      <td>0.642000</td>\n",
       "      <td>0.786000</td>\n",
       "      <td>0.999</td>\n",
       "    </tr>\n",
       "    <tr>\n",
       "      <th>key</th>\n",
       "      <td>2500.0</td>\n",
       "      <td>5.197200</td>\n",
       "      <td>3.618777</td>\n",
       "      <td>0.000000</td>\n",
       "      <td>2.00000</td>\n",
       "      <td>5.000000</td>\n",
       "      <td>8.000000</td>\n",
       "      <td>11.000</td>\n",
       "    </tr>\n",
       "    <tr>\n",
       "      <th>loudness</th>\n",
       "      <td>2500.0</td>\n",
       "      <td>-8.905663</td>\n",
       "      <td>5.035302</td>\n",
       "      <td>-35.795000</td>\n",
       "      <td>-10.95150</td>\n",
       "      <td>-7.489000</td>\n",
       "      <td>-5.297250</td>\n",
       "      <td>-0.810</td>\n",
       "    </tr>\n",
       "    <tr>\n",
       "      <th>mode</th>\n",
       "      <td>2500.0</td>\n",
       "      <td>0.643600</td>\n",
       "      <td>0.479031</td>\n",
       "      <td>0.000000</td>\n",
       "      <td>0.00000</td>\n",
       "      <td>1.000000</td>\n",
       "      <td>1.000000</td>\n",
       "      <td>1.000</td>\n",
       "    </tr>\n",
       "    <tr>\n",
       "      <th>speechiness</th>\n",
       "      <td>2500.0</td>\n",
       "      <td>0.058959</td>\n",
       "      <td>0.052998</td>\n",
       "      <td>0.022400</td>\n",
       "      <td>0.03320</td>\n",
       "      <td>0.040700</td>\n",
       "      <td>0.058525</td>\n",
       "      <td>0.463</td>\n",
       "    </tr>\n",
       "    <tr>\n",
       "      <th>acousticness</th>\n",
       "      <td>2500.0</td>\n",
       "      <td>0.321441</td>\n",
       "      <td>0.329612</td>\n",
       "      <td>0.000004</td>\n",
       "      <td>0.04135</td>\n",
       "      <td>0.185000</td>\n",
       "      <td>0.577000</td>\n",
       "      <td>0.996</td>\n",
       "    </tr>\n",
       "    <tr>\n",
       "      <th>instrumentalness</th>\n",
       "      <td>2500.0</td>\n",
       "      <td>0.113336</td>\n",
       "      <td>0.282336</td>\n",
       "      <td>0.000000</td>\n",
       "      <td>0.00000</td>\n",
       "      <td>0.000015</td>\n",
       "      <td>0.003248</td>\n",
       "      <td>0.987</td>\n",
       "    </tr>\n",
       "    <tr>\n",
       "      <th>liveness</th>\n",
       "      <td>2500.0</td>\n",
       "      <td>0.170763</td>\n",
       "      <td>0.135576</td>\n",
       "      <td>0.016500</td>\n",
       "      <td>0.09050</td>\n",
       "      <td>0.118000</td>\n",
       "      <td>0.206000</td>\n",
       "      <td>0.979</td>\n",
       "    </tr>\n",
       "    <tr>\n",
       "      <th>valence</th>\n",
       "      <td>2500.0</td>\n",
       "      <td>0.504320</td>\n",
       "      <td>0.267391</td>\n",
       "      <td>0.031000</td>\n",
       "      <td>0.28475</td>\n",
       "      <td>0.497000</td>\n",
       "      <td>0.731000</td>\n",
       "      <td>0.989</td>\n",
       "    </tr>\n",
       "    <tr>\n",
       "      <th>tempo</th>\n",
       "      <td>2500.0</td>\n",
       "      <td>118.719557</td>\n",
       "      <td>27.698817</td>\n",
       "      <td>46.755000</td>\n",
       "      <td>99.94450</td>\n",
       "      <td>118.012500</td>\n",
       "      <td>132.029000</td>\n",
       "      <td>212.849</td>\n",
       "    </tr>\n",
       "  </tbody>\n",
       "</table>\n",
       "</div>"
      ],
      "text/plain": [
       "                   count        mean        std        min       25%  \\\n",
       "danceability      2500.0    0.567561   0.171295   0.059000   0.46400   \n",
       "energy            2500.0    0.591543   0.245674   0.005310   0.42900   \n",
       "key               2500.0    5.197200   3.618777   0.000000   2.00000   \n",
       "loudness          2500.0   -8.905663   5.035302 -35.795000 -10.95150   \n",
       "mode              2500.0    0.643600   0.479031   0.000000   0.00000   \n",
       "speechiness       2500.0    0.058959   0.052998   0.022400   0.03320   \n",
       "acousticness      2500.0    0.321441   0.329612   0.000004   0.04135   \n",
       "instrumentalness  2500.0    0.113336   0.282336   0.000000   0.00000   \n",
       "liveness          2500.0    0.170763   0.135576   0.016500   0.09050   \n",
       "valence           2500.0    0.504320   0.267391   0.031000   0.28475   \n",
       "tempo             2500.0  118.719557  27.698817  46.755000  99.94450   \n",
       "\n",
       "                         50%         75%      max  \n",
       "danceability        0.586000    0.694000    0.957  \n",
       "energy              0.642000    0.786000    0.999  \n",
       "key                 5.000000    8.000000   11.000  \n",
       "loudness           -7.489000   -5.297250   -0.810  \n",
       "mode                1.000000    1.000000    1.000  \n",
       "speechiness         0.040700    0.058525    0.463  \n",
       "acousticness        0.185000    0.577000    0.996  \n",
       "instrumentalness    0.000015    0.003248    0.987  \n",
       "liveness            0.118000    0.206000    0.979  \n",
       "valence             0.497000    0.731000    0.989  \n",
       "tempo             118.012500  132.029000  212.849  "
      ]
     },
     "execution_count": 151,
     "metadata": {},
     "output_type": "execute_result"
    }
   ],
   "source": [
    "X_test.describe().T"
   ]
  },
  {
   "cell_type": "code",
   "execution_count": 152,
   "id": "53fba669",
   "metadata": {},
   "outputs": [],
   "source": [
    "scaler = StandardScaler()\n",
    "X_train_scaled = scaler.fit_transform(X_train)"
   ]
  },
  {
   "cell_type": "code",
   "execution_count": 153,
   "id": "1cd16e27",
   "metadata": {},
   "outputs": [],
   "source": [
    "X_test_scaled = scaler.transform(X_test)"
   ]
  },
  {
   "cell_type": "code",
   "execution_count": 154,
   "id": "86bf5fcb",
   "metadata": {},
   "outputs": [
    {
     "data": {
      "text/html": [
       "<div>\n",
       "<style scoped>\n",
       "    .dataframe tbody tr th:only-of-type {\n",
       "        vertical-align: middle;\n",
       "    }\n",
       "\n",
       "    .dataframe tbody tr th {\n",
       "        vertical-align: top;\n",
       "    }\n",
       "\n",
       "    .dataframe thead th {\n",
       "        text-align: right;\n",
       "    }\n",
       "</style>\n",
       "<table border=\"1\" class=\"dataframe\">\n",
       "  <thead>\n",
       "    <tr style=\"text-align: right;\">\n",
       "      <th></th>\n",
       "      <th>count</th>\n",
       "      <th>mean</th>\n",
       "      <th>std</th>\n",
       "      <th>min</th>\n",
       "      <th>25%</th>\n",
       "      <th>50%</th>\n",
       "      <th>75%</th>\n",
       "      <th>max</th>\n",
       "    </tr>\n",
       "  </thead>\n",
       "  <tbody>\n",
       "    <tr>\n",
       "      <th>0</th>\n",
       "      <td>10000.0</td>\n",
       "      <td>2.463252e-16</td>\n",
       "      <td>1.00005</td>\n",
       "      <td>-2.956093</td>\n",
       "      <td>-0.619120</td>\n",
       "      <td>0.097350</td>\n",
       "      <td>0.720621</td>\n",
       "      <td>2.380734</td>\n",
       "    </tr>\n",
       "    <tr>\n",
       "      <th>1</th>\n",
       "      <td>10000.0</td>\n",
       "      <td>3.281680e-16</td>\n",
       "      <td>1.00005</td>\n",
       "      <td>-2.413194</td>\n",
       "      <td>-0.660748</td>\n",
       "      <td>0.193784</td>\n",
       "      <td>0.797707</td>\n",
       "      <td>1.680997</td>\n",
       "    </tr>\n",
       "    <tr>\n",
       "      <th>2</th>\n",
       "      <td>10000.0</td>\n",
       "      <td>3.734374e-17</td>\n",
       "      <td>1.00005</td>\n",
       "      <td>-1.471463</td>\n",
       "      <td>-0.911194</td>\n",
       "      <td>-0.070790</td>\n",
       "      <td>0.769614</td>\n",
       "      <td>1.610018</td>\n",
       "    </tr>\n",
       "    <tr>\n",
       "      <th>3</th>\n",
       "      <td>10000.0</td>\n",
       "      <td>-2.272238e-16</td>\n",
       "      <td>1.00005</td>\n",
       "      <td>-6.070357</td>\n",
       "      <td>-0.404366</td>\n",
       "      <td>0.283229</td>\n",
       "      <td>0.693294</td>\n",
       "      <td>1.761895</td>\n",
       "    </tr>\n",
       "    <tr>\n",
       "      <th>4</th>\n",
       "      <td>10000.0</td>\n",
       "      <td>5.348610e-16</td>\n",
       "      <td>1.00005</td>\n",
       "      <td>-1.377574</td>\n",
       "      <td>-1.377574</td>\n",
       "      <td>0.725914</td>\n",
       "      <td>0.725914</td>\n",
       "      <td>0.725914</td>\n",
       "    </tr>\n",
       "    <tr>\n",
       "      <th>5</th>\n",
       "      <td>10000.0</td>\n",
       "      <td>-6.056267e-18</td>\n",
       "      <td>1.00005</td>\n",
       "      <td>-0.687415</td>\n",
       "      <td>-0.473855</td>\n",
       "      <td>-0.330862</td>\n",
       "      <td>0.007121</td>\n",
       "      <td>12.984182</td>\n",
       "    </tr>\n",
       "    <tr>\n",
       "      <th>6</th>\n",
       "      <td>10000.0</td>\n",
       "      <td>5.959677e-17</td>\n",
       "      <td>1.00005</td>\n",
       "      <td>-1.003438</td>\n",
       "      <td>-0.868758</td>\n",
       "      <td>-0.390379</td>\n",
       "      <td>0.762221</td>\n",
       "      <td>2.080474</td>\n",
       "    </tr>\n",
       "    <tr>\n",
       "      <th>7</th>\n",
       "      <td>10000.0</td>\n",
       "      <td>3.176848e-16</td>\n",
       "      <td>1.00005</td>\n",
       "      <td>-0.397673</td>\n",
       "      <td>-0.397673</td>\n",
       "      <td>-0.397622</td>\n",
       "      <td>-0.386013</td>\n",
       "      <td>3.176134</td>\n",
       "    </tr>\n",
       "    <tr>\n",
       "      <th>8</th>\n",
       "      <td>10000.0</td>\n",
       "      <td>9.041656e-17</td>\n",
       "      <td>1.00005</td>\n",
       "      <td>-1.162545</td>\n",
       "      <td>-0.589667</td>\n",
       "      <td>-0.392787</td>\n",
       "      <td>0.251145</td>\n",
       "      <td>6.016924</td>\n",
       "    </tr>\n",
       "    <tr>\n",
       "      <th>9</th>\n",
       "      <td>10000.0</td>\n",
       "      <td>-2.617351e-17</td>\n",
       "      <td>1.00005</td>\n",
       "      <td>-1.774161</td>\n",
       "      <td>-0.815274</td>\n",
       "      <td>-0.027455</td>\n",
       "      <td>0.842897</td>\n",
       "      <td>1.852055</td>\n",
       "    </tr>\n",
       "    <tr>\n",
       "      <th>10</th>\n",
       "      <td>10000.0</td>\n",
       "      <td>2.503830e-16</td>\n",
       "      <td>1.00005</td>\n",
       "      <td>-3.185735</td>\n",
       "      <td>-0.703265</td>\n",
       "      <td>0.001605</td>\n",
       "      <td>0.522128</td>\n",
       "      <td>3.452108</td>\n",
       "    </tr>\n",
       "  </tbody>\n",
       "</table>\n",
       "</div>"
      ],
      "text/plain": [
       "      count          mean      std       min       25%       50%       75%  \\\n",
       "0   10000.0  2.463252e-16  1.00005 -2.956093 -0.619120  0.097350  0.720621   \n",
       "1   10000.0  3.281680e-16  1.00005 -2.413194 -0.660748  0.193784  0.797707   \n",
       "2   10000.0  3.734374e-17  1.00005 -1.471463 -0.911194 -0.070790  0.769614   \n",
       "3   10000.0 -2.272238e-16  1.00005 -6.070357 -0.404366  0.283229  0.693294   \n",
       "4   10000.0  5.348610e-16  1.00005 -1.377574 -1.377574  0.725914  0.725914   \n",
       "5   10000.0 -6.056267e-18  1.00005 -0.687415 -0.473855 -0.330862  0.007121   \n",
       "6   10000.0  5.959677e-17  1.00005 -1.003438 -0.868758 -0.390379  0.762221   \n",
       "7   10000.0  3.176848e-16  1.00005 -0.397673 -0.397673 -0.397622 -0.386013   \n",
       "8   10000.0  9.041656e-17  1.00005 -1.162545 -0.589667 -0.392787  0.251145   \n",
       "9   10000.0 -2.617351e-17  1.00005 -1.774161 -0.815274 -0.027455  0.842897   \n",
       "10  10000.0  2.503830e-16  1.00005 -3.185735 -0.703265  0.001605  0.522128   \n",
       "\n",
       "          max  \n",
       "0    2.380734  \n",
       "1    1.680997  \n",
       "2    1.610018  \n",
       "3    1.761895  \n",
       "4    0.725914  \n",
       "5   12.984182  \n",
       "6    2.080474  \n",
       "7    3.176134  \n",
       "8    6.016924  \n",
       "9    1.852055  \n",
       "10   3.452108  "
      ]
     },
     "execution_count": 154,
     "metadata": {},
     "output_type": "execute_result"
    }
   ],
   "source": [
    "pd.DataFrame(X_train_scaled).describe().T"
   ]
  },
  {
   "cell_type": "code",
   "execution_count": 155,
   "id": "d2645787",
   "metadata": {},
   "outputs": [
    {
     "data": {
      "text/html": [
       "<div>\n",
       "<style scoped>\n",
       "    .dataframe tbody tr th:only-of-type {\n",
       "        vertical-align: middle;\n",
       "    }\n",
       "\n",
       "    .dataframe tbody tr th {\n",
       "        vertical-align: top;\n",
       "    }\n",
       "\n",
       "    .dataframe thead th {\n",
       "        text-align: right;\n",
       "    }\n",
       "</style>\n",
       "<table border=\"1\" class=\"dataframe\">\n",
       "  <thead>\n",
       "    <tr style=\"text-align: right;\">\n",
       "      <th></th>\n",
       "      <th>count</th>\n",
       "      <th>mean</th>\n",
       "      <th>std</th>\n",
       "      <th>min</th>\n",
       "      <th>25%</th>\n",
       "      <th>50%</th>\n",
       "      <th>75%</th>\n",
       "      <th>max</th>\n",
       "    </tr>\n",
       "  </thead>\n",
       "  <tbody>\n",
       "    <tr>\n",
       "      <th>0</th>\n",
       "      <td>2500.0</td>\n",
       "      <td>0.007416</td>\n",
       "      <td>0.997787</td>\n",
       "      <td>-2.954928</td>\n",
       "      <td>-0.595820</td>\n",
       "      <td>0.114825</td>\n",
       "      <td>0.743921</td>\n",
       "      <td>2.275885</td>\n",
       "    </tr>\n",
       "    <tr>\n",
       "      <th>1</th>\n",
       "      <td>2500.0</td>\n",
       "      <td>0.007032</td>\n",
       "      <td>1.009310</td>\n",
       "      <td>-2.401403</td>\n",
       "      <td>-0.660748</td>\n",
       "      <td>0.214325</td>\n",
       "      <td>0.805924</td>\n",
       "      <td>1.680997</td>\n",
       "    </tr>\n",
       "    <tr>\n",
       "      <th>2</th>\n",
       "      <td>2500.0</td>\n",
       "      <td>-0.015547</td>\n",
       "      <td>1.013745</td>\n",
       "      <td>-1.471463</td>\n",
       "      <td>-0.911194</td>\n",
       "      <td>-0.070790</td>\n",
       "      <td>0.769614</td>\n",
       "      <td>1.610018</td>\n",
       "    </tr>\n",
       "    <tr>\n",
       "      <th>3</th>\n",
       "      <td>2500.0</td>\n",
       "      <td>-0.001311</td>\n",
       "      <td>1.003914</td>\n",
       "      <td>-5.362376</td>\n",
       "      <td>-0.409200</td>\n",
       "      <td>0.281136</td>\n",
       "      <td>0.718116</td>\n",
       "      <td>1.612762</td>\n",
       "    </tr>\n",
       "    <tr>\n",
       "      <th>4</th>\n",
       "      <td>2500.0</td>\n",
       "      <td>-0.023769</td>\n",
       "      <td>1.007636</td>\n",
       "      <td>-1.377574</td>\n",
       "      <td>-1.377574</td>\n",
       "      <td>0.725914</td>\n",
       "      <td>0.725914</td>\n",
       "      <td>0.725914</td>\n",
       "    </tr>\n",
       "    <tr>\n",
       "      <th>5</th>\n",
       "      <td>2500.0</td>\n",
       "      <td>0.002650</td>\n",
       "      <td>0.984194</td>\n",
       "      <td>-0.676273</td>\n",
       "      <td>-0.475712</td>\n",
       "      <td>-0.336433</td>\n",
       "      <td>-0.005414</td>\n",
       "      <td>7.505886</td>\n",
       "    </tr>\n",
       "    <tr>\n",
       "      <th>6</th>\n",
       "      <td>2500.0</td>\n",
       "      <td>-0.008166</td>\n",
       "      <td>1.020580</td>\n",
       "      <td>-1.003435</td>\n",
       "      <td>-0.875415</td>\n",
       "      <td>-0.430631</td>\n",
       "      <td>0.783121</td>\n",
       "      <td>2.080474</td>\n",
       "    </tr>\n",
       "    <tr>\n",
       "      <th>7</th>\n",
       "      <td>2500.0</td>\n",
       "      <td>0.012704</td>\n",
       "      <td>1.022306</td>\n",
       "      <td>-0.397673</td>\n",
       "      <td>-0.397673</td>\n",
       "      <td>-0.397619</td>\n",
       "      <td>-0.385914</td>\n",
       "      <td>3.176134</td>\n",
       "    </tr>\n",
       "    <tr>\n",
       "      <th>8</th>\n",
       "      <td>2500.0</td>\n",
       "      <td>-0.009663</td>\n",
       "      <td>1.003465</td>\n",
       "      <td>-1.151442</td>\n",
       "      <td>-0.603730</td>\n",
       "      <td>-0.400189</td>\n",
       "      <td>0.251145</td>\n",
       "      <td>5.972515</td>\n",
       "    </tr>\n",
       "    <tr>\n",
       "      <th>9</th>\n",
       "      <td>2500.0</td>\n",
       "      <td>0.022517</td>\n",
       "      <td>1.003120</td>\n",
       "      <td>-1.753153</td>\n",
       "      <td>-0.801205</td>\n",
       "      <td>-0.004946</td>\n",
       "      <td>0.872909</td>\n",
       "      <td>1.840800</td>\n",
       "    </tr>\n",
       "    <tr>\n",
       "      <th>10</th>\n",
       "      <td>2500.0</td>\n",
       "      <td>0.010435</td>\n",
       "      <td>1.004169</td>\n",
       "      <td>-2.598507</td>\n",
       "      <td>-0.670220</td>\n",
       "      <td>-0.015198</td>\n",
       "      <td>0.492944</td>\n",
       "      <td>3.422924</td>\n",
       "    </tr>\n",
       "  </tbody>\n",
       "</table>\n",
       "</div>"
      ],
      "text/plain": [
       "     count      mean       std       min       25%       50%       75%  \\\n",
       "0   2500.0  0.007416  0.997787 -2.954928 -0.595820  0.114825  0.743921   \n",
       "1   2500.0  0.007032  1.009310 -2.401403 -0.660748  0.214325  0.805924   \n",
       "2   2500.0 -0.015547  1.013745 -1.471463 -0.911194 -0.070790  0.769614   \n",
       "3   2500.0 -0.001311  1.003914 -5.362376 -0.409200  0.281136  0.718116   \n",
       "4   2500.0 -0.023769  1.007636 -1.377574 -1.377574  0.725914  0.725914   \n",
       "5   2500.0  0.002650  0.984194 -0.676273 -0.475712 -0.336433 -0.005414   \n",
       "6   2500.0 -0.008166  1.020580 -1.003435 -0.875415 -0.430631  0.783121   \n",
       "7   2500.0  0.012704  1.022306 -0.397673 -0.397673 -0.397619 -0.385914   \n",
       "8   2500.0 -0.009663  1.003465 -1.151442 -0.603730 -0.400189  0.251145   \n",
       "9   2500.0  0.022517  1.003120 -1.753153 -0.801205 -0.004946  0.872909   \n",
       "10  2500.0  0.010435  1.004169 -2.598507 -0.670220 -0.015198  0.492944   \n",
       "\n",
       "         max  \n",
       "0   2.275885  \n",
       "1   1.680997  \n",
       "2   1.610018  \n",
       "3   1.612762  \n",
       "4   0.725914  \n",
       "5   7.505886  \n",
       "6   2.080474  \n",
       "7   3.176134  \n",
       "8   5.972515  \n",
       "9   1.840800  \n",
       "10  3.422924  "
      ]
     },
     "execution_count": 155,
     "metadata": {},
     "output_type": "execute_result"
    }
   ],
   "source": [
    "pd.DataFrame(X_test_scaled).describe().T"
   ]
  },
  {
   "cell_type": "code",
   "execution_count": 156,
   "id": "83110e50",
   "metadata": {},
   "outputs": [
    {
     "data": {
      "text/plain": [
       "(10000, 11)"
      ]
     },
     "execution_count": 156,
     "metadata": {},
     "output_type": "execute_result"
    }
   ],
   "source": [
    "X_train.shape"
   ]
  },
  {
   "cell_type": "markdown",
   "id": "fc9902a2",
   "metadata": {},
   "source": [
    "# PCA - Principal Component Analysis"
   ]
  },
  {
   "cell_type": "code",
   "execution_count": 157,
   "id": "1bf67300",
   "metadata": {},
   "outputs": [],
   "source": [
    "from sklearn.decomposition import PCA"
   ]
  },
  {
   "cell_type": "code",
   "execution_count": 158,
   "id": "6328bbac",
   "metadata": {},
   "outputs": [
    {
     "data": {
      "text/html": [
       "<style>#sk-container-id-1 {color: black;background-color: white;}#sk-container-id-1 pre{padding: 0;}#sk-container-id-1 div.sk-toggleable {background-color: white;}#sk-container-id-1 label.sk-toggleable__label {cursor: pointer;display: block;width: 100%;margin-bottom: 0;padding: 0.3em;box-sizing: border-box;text-align: center;}#sk-container-id-1 label.sk-toggleable__label-arrow:before {content: \"▸\";float: left;margin-right: 0.25em;color: #696969;}#sk-container-id-1 label.sk-toggleable__label-arrow:hover:before {color: black;}#sk-container-id-1 div.sk-estimator:hover label.sk-toggleable__label-arrow:before {color: black;}#sk-container-id-1 div.sk-toggleable__content {max-height: 0;max-width: 0;overflow: hidden;text-align: left;background-color: #f0f8ff;}#sk-container-id-1 div.sk-toggleable__content pre {margin: 0.2em;color: black;border-radius: 0.25em;background-color: #f0f8ff;}#sk-container-id-1 input.sk-toggleable__control:checked~div.sk-toggleable__content {max-height: 200px;max-width: 100%;overflow: auto;}#sk-container-id-1 input.sk-toggleable__control:checked~label.sk-toggleable__label-arrow:before {content: \"▾\";}#sk-container-id-1 div.sk-estimator input.sk-toggleable__control:checked~label.sk-toggleable__label {background-color: #d4ebff;}#sk-container-id-1 div.sk-label input.sk-toggleable__control:checked~label.sk-toggleable__label {background-color: #d4ebff;}#sk-container-id-1 input.sk-hidden--visually {border: 0;clip: rect(1px 1px 1px 1px);clip: rect(1px, 1px, 1px, 1px);height: 1px;margin: -1px;overflow: hidden;padding: 0;position: absolute;width: 1px;}#sk-container-id-1 div.sk-estimator {font-family: monospace;background-color: #f0f8ff;border: 1px dotted black;border-radius: 0.25em;box-sizing: border-box;margin-bottom: 0.5em;}#sk-container-id-1 div.sk-estimator:hover {background-color: #d4ebff;}#sk-container-id-1 div.sk-parallel-item::after {content: \"\";width: 100%;border-bottom: 1px solid gray;flex-grow: 1;}#sk-container-id-1 div.sk-label:hover label.sk-toggleable__label {background-color: #d4ebff;}#sk-container-id-1 div.sk-serial::before {content: \"\";position: absolute;border-left: 1px solid gray;box-sizing: border-box;top: 0;bottom: 0;left: 50%;z-index: 0;}#sk-container-id-1 div.sk-serial {display: flex;flex-direction: column;align-items: center;background-color: white;padding-right: 0.2em;padding-left: 0.2em;position: relative;}#sk-container-id-1 div.sk-item {position: relative;z-index: 1;}#sk-container-id-1 div.sk-parallel {display: flex;align-items: stretch;justify-content: center;background-color: white;position: relative;}#sk-container-id-1 div.sk-item::before, #sk-container-id-1 div.sk-parallel-item::before {content: \"\";position: absolute;border-left: 1px solid gray;box-sizing: border-box;top: 0;bottom: 0;left: 50%;z-index: -1;}#sk-container-id-1 div.sk-parallel-item {display: flex;flex-direction: column;z-index: 1;position: relative;background-color: white;}#sk-container-id-1 div.sk-parallel-item:first-child::after {align-self: flex-end;width: 50%;}#sk-container-id-1 div.sk-parallel-item:last-child::after {align-self: flex-start;width: 50%;}#sk-container-id-1 div.sk-parallel-item:only-child::after {width: 0;}#sk-container-id-1 div.sk-dashed-wrapped {border: 1px dashed gray;margin: 0 0.4em 0.5em 0.4em;box-sizing: border-box;padding-bottom: 0.4em;background-color: white;}#sk-container-id-1 div.sk-label label {font-family: monospace;font-weight: bold;display: inline-block;line-height: 1.2em;}#sk-container-id-1 div.sk-label-container {text-align: center;}#sk-container-id-1 div.sk-container {/* jupyter's `normalize.less` sets `[hidden] { display: none; }` but bootstrap.min.css set `[hidden] { display: none !important; }` so we also need the `!important` here to be able to override the default hidden behavior on the sphinx rendered scikit-learn.org. See: https://github.com/scikit-learn/scikit-learn/issues/21755 */display: inline-block !important;position: relative;}#sk-container-id-1 div.sk-text-repr-fallback {display: none;}</style><div id=\"sk-container-id-1\" class=\"sk-top-container\"><div class=\"sk-text-repr-fallback\"><pre>PCA()</pre><b>In a Jupyter environment, please rerun this cell to show the HTML representation or trust the notebook. <br />On GitHub, the HTML representation is unable to render, please try loading this page with nbviewer.org.</b></div><div class=\"sk-container\" hidden><div class=\"sk-item\"><div class=\"sk-estimator sk-toggleable\"><input class=\"sk-toggleable__control sk-hidden--visually\" id=\"sk-estimator-id-1\" type=\"checkbox\" checked><label for=\"sk-estimator-id-1\" class=\"sk-toggleable__label sk-toggleable__label-arrow\">PCA</label><div class=\"sk-toggleable__content\"><pre>PCA()</pre></div></div></div></div></div>"
      ],
      "text/plain": [
       "PCA()"
      ]
     },
     "execution_count": 158,
     "metadata": {},
     "output_type": "execute_result"
    }
   ],
   "source": [
    "pca = PCA()\n",
    "pca.fit(X_train_scaled)"
   ]
  },
  {
   "cell_type": "code",
   "execution_count": 159,
   "id": "48419813",
   "metadata": {},
   "outputs": [
    {
     "data": {
      "text/plain": [
       "array([0.35, 0.1 , 0.1 , 0.09, 0.08, 0.08, 0.07, 0.05, 0.03, 0.03, 0.01])"
      ]
     },
     "execution_count": 159,
     "metadata": {},
     "output_type": "execute_result"
    }
   ],
   "source": [
    "pca.explained_variance_ratio_.round(2)"
   ]
  },
  {
   "cell_type": "code",
   "execution_count": 160,
   "id": "40286fb8",
   "metadata": {},
   "outputs": [
    {
     "data": {
      "image/png": "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\n",
      "text/plain": [
       "<Figure size 640x480 with 1 Axes>"
      ]
     },
     "metadata": {},
     "output_type": "display_data"
    }
   ],
   "source": [
    "import numpy as np\n",
    "exp_var_pca = pca.explained_variance_ratio_\n",
    "\n",
    "# Cumulative sum of eigenvalues; This will be used to create step plot\n",
    "# for visualizing the variance explained by each principal component.\n",
    "\n",
    "cum_sum_eigenvalues = np.cumsum(exp_var_pca)\n",
    "#cum_sum_eigenvalues\n",
    "\n",
    "# Create the visualization plot\n",
    "plt.bar(range(0,len(exp_var_pca)), exp_var_pca, \n",
    "        alpha=0.5, align='center', label='Individual explained variance')\n",
    "plt.step(range(0,len(cum_sum_eigenvalues)), cum_sum_eigenvalues, \n",
    "         where='mid',label='Cumulative explained variance')\n",
    "plt.ylabel('Explained variance ratio')\n",
    "plt.xlabel('Principal component index')\n",
    "plt.legend(loc='best')\n",
    "plt.tight_layout()\n",
    "plt.show()"
   ]
  },
  {
   "cell_type": "code",
   "execution_count": 161,
   "id": "115660bd",
   "metadata": {},
   "outputs": [
    {
     "data": {
      "text/plain": [
       "0.346394419155586"
      ]
     },
     "execution_count": 161,
     "metadata": {},
     "output_type": "execute_result"
    }
   ],
   "source": [
    "pca.explained_variance_ratio_[0]  # the component with 0 index takes up 29% of the variability of the data"
   ]
  },
  {
   "cell_type": "code",
   "execution_count": 162,
   "id": "acf930b1",
   "metadata": {},
   "outputs": [
    {
     "data": {
      "text/plain": [
       "0.1034333318431468"
      ]
     },
     "execution_count": 162,
     "metadata": {},
     "output_type": "execute_result"
    }
   ],
   "source": [
    "pca.explained_variance_ratio_[1] # 11%"
   ]
  },
  {
   "cell_type": "code",
   "execution_count": 163,
   "id": "d0371edf",
   "metadata": {},
   "outputs": [
    {
     "data": {
      "text/plain": [
       "0.4498277509987328"
      ]
     },
     "execution_count": 163,
     "metadata": {},
     "output_type": "execute_result"
    }
   ],
   "source": [
    "pca.explained_variance_ratio_[:2].sum() "
   ]
  },
  {
   "cell_type": "code",
   "execution_count": 164,
   "id": "9de2d60f",
   "metadata": {},
   "outputs": [
    {
     "data": {
      "text/plain": [
       "0.8774077060225023"
      ]
     },
     "execution_count": 164,
     "metadata": {},
     "output_type": "execute_result"
    }
   ],
   "source": [
    "pca.explained_variance_ratio_[:7].sum()"
   ]
  },
  {
   "cell_type": "code",
   "execution_count": 165,
   "id": "b8aacee0",
   "metadata": {},
   "outputs": [
    {
     "data": {
      "text/html": [
       "<style>#sk-container-id-2 {color: black;background-color: white;}#sk-container-id-2 pre{padding: 0;}#sk-container-id-2 div.sk-toggleable {background-color: white;}#sk-container-id-2 label.sk-toggleable__label {cursor: pointer;display: block;width: 100%;margin-bottom: 0;padding: 0.3em;box-sizing: border-box;text-align: center;}#sk-container-id-2 label.sk-toggleable__label-arrow:before {content: \"▸\";float: left;margin-right: 0.25em;color: #696969;}#sk-container-id-2 label.sk-toggleable__label-arrow:hover:before {color: black;}#sk-container-id-2 div.sk-estimator:hover label.sk-toggleable__label-arrow:before {color: black;}#sk-container-id-2 div.sk-toggleable__content {max-height: 0;max-width: 0;overflow: hidden;text-align: left;background-color: #f0f8ff;}#sk-container-id-2 div.sk-toggleable__content pre {margin: 0.2em;color: black;border-radius: 0.25em;background-color: #f0f8ff;}#sk-container-id-2 input.sk-toggleable__control:checked~div.sk-toggleable__content {max-height: 200px;max-width: 100%;overflow: auto;}#sk-container-id-2 input.sk-toggleable__control:checked~label.sk-toggleable__label-arrow:before {content: \"▾\";}#sk-container-id-2 div.sk-estimator input.sk-toggleable__control:checked~label.sk-toggleable__label {background-color: #d4ebff;}#sk-container-id-2 div.sk-label input.sk-toggleable__control:checked~label.sk-toggleable__label {background-color: #d4ebff;}#sk-container-id-2 input.sk-hidden--visually {border: 0;clip: rect(1px 1px 1px 1px);clip: rect(1px, 1px, 1px, 1px);height: 1px;margin: -1px;overflow: hidden;padding: 0;position: absolute;width: 1px;}#sk-container-id-2 div.sk-estimator {font-family: monospace;background-color: #f0f8ff;border: 1px dotted black;border-radius: 0.25em;box-sizing: border-box;margin-bottom: 0.5em;}#sk-container-id-2 div.sk-estimator:hover {background-color: #d4ebff;}#sk-container-id-2 div.sk-parallel-item::after {content: \"\";width: 100%;border-bottom: 1px solid gray;flex-grow: 1;}#sk-container-id-2 div.sk-label:hover label.sk-toggleable__label {background-color: #d4ebff;}#sk-container-id-2 div.sk-serial::before {content: \"\";position: absolute;border-left: 1px solid gray;box-sizing: border-box;top: 0;bottom: 0;left: 50%;z-index: 0;}#sk-container-id-2 div.sk-serial {display: flex;flex-direction: column;align-items: center;background-color: white;padding-right: 0.2em;padding-left: 0.2em;position: relative;}#sk-container-id-2 div.sk-item {position: relative;z-index: 1;}#sk-container-id-2 div.sk-parallel {display: flex;align-items: stretch;justify-content: center;background-color: white;position: relative;}#sk-container-id-2 div.sk-item::before, #sk-container-id-2 div.sk-parallel-item::before {content: \"\";position: absolute;border-left: 1px solid gray;box-sizing: border-box;top: 0;bottom: 0;left: 50%;z-index: -1;}#sk-container-id-2 div.sk-parallel-item {display: flex;flex-direction: column;z-index: 1;position: relative;background-color: white;}#sk-container-id-2 div.sk-parallel-item:first-child::after {align-self: flex-end;width: 50%;}#sk-container-id-2 div.sk-parallel-item:last-child::after {align-self: flex-start;width: 50%;}#sk-container-id-2 div.sk-parallel-item:only-child::after {width: 0;}#sk-container-id-2 div.sk-dashed-wrapped {border: 1px dashed gray;margin: 0 0.4em 0.5em 0.4em;box-sizing: border-box;padding-bottom: 0.4em;background-color: white;}#sk-container-id-2 div.sk-label label {font-family: monospace;font-weight: bold;display: inline-block;line-height: 1.2em;}#sk-container-id-2 div.sk-label-container {text-align: center;}#sk-container-id-2 div.sk-container {/* jupyter's `normalize.less` sets `[hidden] { display: none; }` but bootstrap.min.css set `[hidden] { display: none !important; }` so we also need the `!important` here to be able to override the default hidden behavior on the sphinx rendered scikit-learn.org. See: https://github.com/scikit-learn/scikit-learn/issues/21755 */display: inline-block !important;position: relative;}#sk-container-id-2 div.sk-text-repr-fallback {display: none;}</style><div id=\"sk-container-id-2\" class=\"sk-top-container\"><div class=\"sk-text-repr-fallback\"><pre>PCA(n_components=7)</pre><b>In a Jupyter environment, please rerun this cell to show the HTML representation or trust the notebook. <br />On GitHub, the HTML representation is unable to render, please try loading this page with nbviewer.org.</b></div><div class=\"sk-container\" hidden><div class=\"sk-item\"><div class=\"sk-estimator sk-toggleable\"><input class=\"sk-toggleable__control sk-hidden--visually\" id=\"sk-estimator-id-2\" type=\"checkbox\" checked><label for=\"sk-estimator-id-2\" class=\"sk-toggleable__label sk-toggleable__label-arrow\">PCA</label><div class=\"sk-toggleable__content\"><pre>PCA(n_components=7)</pre></div></div></div></div></div>"
      ],
      "text/plain": [
       "PCA(n_components=7)"
      ]
     },
     "execution_count": 165,
     "metadata": {},
     "output_type": "execute_result"
    }
   ],
   "source": [
    "pca = PCA(7) # the number of principle components\n",
    "pca.fit(X_train_scaled)"
   ]
  },
  {
   "cell_type": "code",
   "execution_count": 166,
   "id": "8495339e",
   "metadata": {},
   "outputs": [
    {
     "data": {
      "text/plain": [
       "0.8774077060225024"
      ]
     },
     "metadata": {},
     "output_type": "display_data"
    },
    {
     "data": {
      "text/plain": [
       "array([0.34639442, 0.10343333, 0.09978993, 0.08700512, 0.08491858,\n",
       "       0.08189253, 0.07397381])"
      ]
     },
     "metadata": {},
     "output_type": "display_data"
    }
   ],
   "source": [
    "display(pca.explained_variance_ratio_.sum()) # the first 8 columns take up 87% of the variability of the data\n",
    "\n",
    "display(pca.explained_variance_ratio_)  # the array is representing the % for each principle component"
   ]
  },
  {
   "cell_type": "code",
   "execution_count": 167,
   "id": "5dc46378",
   "metadata": {},
   "outputs": [
    {
     "data": {
      "text/html": [
       "<style>#sk-container-id-3 {color: black;background-color: white;}#sk-container-id-3 pre{padding: 0;}#sk-container-id-3 div.sk-toggleable {background-color: white;}#sk-container-id-3 label.sk-toggleable__label {cursor: pointer;display: block;width: 100%;margin-bottom: 0;padding: 0.3em;box-sizing: border-box;text-align: center;}#sk-container-id-3 label.sk-toggleable__label-arrow:before {content: \"▸\";float: left;margin-right: 0.25em;color: #696969;}#sk-container-id-3 label.sk-toggleable__label-arrow:hover:before {color: black;}#sk-container-id-3 div.sk-estimator:hover label.sk-toggleable__label-arrow:before {color: black;}#sk-container-id-3 div.sk-toggleable__content {max-height: 0;max-width: 0;overflow: hidden;text-align: left;background-color: #f0f8ff;}#sk-container-id-3 div.sk-toggleable__content pre {margin: 0.2em;color: black;border-radius: 0.25em;background-color: #f0f8ff;}#sk-container-id-3 input.sk-toggleable__control:checked~div.sk-toggleable__content {max-height: 200px;max-width: 100%;overflow: auto;}#sk-container-id-3 input.sk-toggleable__control:checked~label.sk-toggleable__label-arrow:before {content: \"▾\";}#sk-container-id-3 div.sk-estimator input.sk-toggleable__control:checked~label.sk-toggleable__label {background-color: #d4ebff;}#sk-container-id-3 div.sk-label input.sk-toggleable__control:checked~label.sk-toggleable__label {background-color: #d4ebff;}#sk-container-id-3 input.sk-hidden--visually {border: 0;clip: rect(1px 1px 1px 1px);clip: rect(1px, 1px, 1px, 1px);height: 1px;margin: -1px;overflow: hidden;padding: 0;position: absolute;width: 1px;}#sk-container-id-3 div.sk-estimator {font-family: monospace;background-color: #f0f8ff;border: 1px dotted black;border-radius: 0.25em;box-sizing: border-box;margin-bottom: 0.5em;}#sk-container-id-3 div.sk-estimator:hover {background-color: #d4ebff;}#sk-container-id-3 div.sk-parallel-item::after {content: \"\";width: 100%;border-bottom: 1px solid gray;flex-grow: 1;}#sk-container-id-3 div.sk-label:hover label.sk-toggleable__label {background-color: #d4ebff;}#sk-container-id-3 div.sk-serial::before {content: \"\";position: absolute;border-left: 1px solid gray;box-sizing: border-box;top: 0;bottom: 0;left: 50%;z-index: 0;}#sk-container-id-3 div.sk-serial {display: flex;flex-direction: column;align-items: center;background-color: white;padding-right: 0.2em;padding-left: 0.2em;position: relative;}#sk-container-id-3 div.sk-item {position: relative;z-index: 1;}#sk-container-id-3 div.sk-parallel {display: flex;align-items: stretch;justify-content: center;background-color: white;position: relative;}#sk-container-id-3 div.sk-item::before, #sk-container-id-3 div.sk-parallel-item::before {content: \"\";position: absolute;border-left: 1px solid gray;box-sizing: border-box;top: 0;bottom: 0;left: 50%;z-index: -1;}#sk-container-id-3 div.sk-parallel-item {display: flex;flex-direction: column;z-index: 1;position: relative;background-color: white;}#sk-container-id-3 div.sk-parallel-item:first-child::after {align-self: flex-end;width: 50%;}#sk-container-id-3 div.sk-parallel-item:last-child::after {align-self: flex-start;width: 50%;}#sk-container-id-3 div.sk-parallel-item:only-child::after {width: 0;}#sk-container-id-3 div.sk-dashed-wrapped {border: 1px dashed gray;margin: 0 0.4em 0.5em 0.4em;box-sizing: border-box;padding-bottom: 0.4em;background-color: white;}#sk-container-id-3 div.sk-label label {font-family: monospace;font-weight: bold;display: inline-block;line-height: 1.2em;}#sk-container-id-3 div.sk-label-container {text-align: center;}#sk-container-id-3 div.sk-container {/* jupyter's `normalize.less` sets `[hidden] { display: none; }` but bootstrap.min.css set `[hidden] { display: none !important; }` so we also need the `!important` here to be able to override the default hidden behavior on the sphinx rendered scikit-learn.org. See: https://github.com/scikit-learn/scikit-learn/issues/21755 */display: inline-block !important;position: relative;}#sk-container-id-3 div.sk-text-repr-fallback {display: none;}</style><div id=\"sk-container-id-3\" class=\"sk-top-container\"><div class=\"sk-text-repr-fallback\"><pre>PCA(n_components=0.87)</pre><b>In a Jupyter environment, please rerun this cell to show the HTML representation or trust the notebook. <br />On GitHub, the HTML representation is unable to render, please try loading this page with nbviewer.org.</b></div><div class=\"sk-container\" hidden><div class=\"sk-item\"><div class=\"sk-estimator sk-toggleable\"><input class=\"sk-toggleable__control sk-hidden--visually\" id=\"sk-estimator-id-3\" type=\"checkbox\" checked><label for=\"sk-estimator-id-3\" class=\"sk-toggleable__label sk-toggleable__label-arrow\">PCA</label><div class=\"sk-toggleable__content\"><pre>PCA(n_components=0.87)</pre></div></div></div></div></div>"
      ],
      "text/plain": [
       "PCA(n_components=0.87)"
      ]
     },
     "execution_count": 167,
     "metadata": {},
     "output_type": "execute_result"
    }
   ],
   "source": [
    "pca = PCA(0.87)\n",
    "pca.fit(X_train_scaled)"
   ]
  },
  {
   "cell_type": "code",
   "execution_count": 168,
   "id": "bf4d9e25",
   "metadata": {},
   "outputs": [
    {
     "data": {
      "text/plain": [
       "array([0.34639442, 0.10343333, 0.09978993, 0.08700512, 0.08491858,\n",
       "       0.08189253, 0.07397381])"
      ]
     },
     "execution_count": 168,
     "metadata": {},
     "output_type": "execute_result"
    }
   ],
   "source": [
    "pca.explained_variance_ratio_"
   ]
  },
  {
   "cell_type": "code",
   "execution_count": 169,
   "id": "72ca2972",
   "metadata": {},
   "outputs": [],
   "source": [
    "X_train_pca = pca.transform(X_train_scaled)\n",
    "X_test_pca = pca.transform(X_test_scaled)"
   ]
  },
  {
   "cell_type": "code",
   "execution_count": 170,
   "id": "139ac1e9",
   "metadata": {},
   "outputs": [
    {
     "data": {
      "text/html": [
       "<div>\n",
       "<style scoped>\n",
       "    .dataframe tbody tr th:only-of-type {\n",
       "        vertical-align: middle;\n",
       "    }\n",
       "\n",
       "    .dataframe tbody tr th {\n",
       "        vertical-align: top;\n",
       "    }\n",
       "\n",
       "    .dataframe thead th {\n",
       "        text-align: right;\n",
       "    }\n",
       "</style>\n",
       "<table border=\"1\" class=\"dataframe\">\n",
       "  <thead>\n",
       "    <tr style=\"text-align: right;\">\n",
       "      <th></th>\n",
       "      <th>0</th>\n",
       "      <th>1</th>\n",
       "      <th>2</th>\n",
       "      <th>3</th>\n",
       "      <th>4</th>\n",
       "      <th>5</th>\n",
       "      <th>6</th>\n",
       "    </tr>\n",
       "  </thead>\n",
       "  <tbody>\n",
       "    <tr>\n",
       "      <th>0</th>\n",
       "      <td>4.600528</td>\n",
       "      <td>-0.553360</td>\n",
       "      <td>2.857718</td>\n",
       "      <td>-2.659537</td>\n",
       "      <td>-1.856719</td>\n",
       "      <td>-0.052942</td>\n",
       "      <td>0.779867</td>\n",
       "    </tr>\n",
       "    <tr>\n",
       "      <th>1</th>\n",
       "      <td>-1.130288</td>\n",
       "      <td>0.226648</td>\n",
       "      <td>-0.803465</td>\n",
       "      <td>-0.374169</td>\n",
       "      <td>0.856398</td>\n",
       "      <td>-1.746941</td>\n",
       "      <td>0.443471</td>\n",
       "    </tr>\n",
       "    <tr>\n",
       "      <th>2</th>\n",
       "      <td>-1.209931</td>\n",
       "      <td>-1.009314</td>\n",
       "      <td>0.412934</td>\n",
       "      <td>0.284155</td>\n",
       "      <td>-0.343729</td>\n",
       "      <td>-0.551009</td>\n",
       "      <td>-1.146559</td>\n",
       "    </tr>\n",
       "    <tr>\n",
       "      <th>3</th>\n",
       "      <td>0.437202</td>\n",
       "      <td>-0.685267</td>\n",
       "      <td>-1.590749</td>\n",
       "      <td>0.618497</td>\n",
       "      <td>0.514861</td>\n",
       "      <td>0.372233</td>\n",
       "      <td>-0.567199</td>\n",
       "    </tr>\n",
       "    <tr>\n",
       "      <th>4</th>\n",
       "      <td>-0.654539</td>\n",
       "      <td>-1.266421</td>\n",
       "      <td>-0.814035</td>\n",
       "      <td>0.359071</td>\n",
       "      <td>0.270033</td>\n",
       "      <td>0.412016</td>\n",
       "      <td>1.320854</td>\n",
       "    </tr>\n",
       "    <tr>\n",
       "      <th>...</th>\n",
       "      <td>...</td>\n",
       "      <td>...</td>\n",
       "      <td>...</td>\n",
       "      <td>...</td>\n",
       "      <td>...</td>\n",
       "      <td>...</td>\n",
       "      <td>...</td>\n",
       "    </tr>\n",
       "    <tr>\n",
       "      <th>2495</th>\n",
       "      <td>-0.088810</td>\n",
       "      <td>-0.945166</td>\n",
       "      <td>0.563106</td>\n",
       "      <td>-1.174250</td>\n",
       "      <td>-1.187479</td>\n",
       "      <td>0.481681</td>\n",
       "      <td>1.989959</td>\n",
       "    </tr>\n",
       "    <tr>\n",
       "      <th>2496</th>\n",
       "      <td>-1.628624</td>\n",
       "      <td>-0.893859</td>\n",
       "      <td>-1.968343</td>\n",
       "      <td>-0.514674</td>\n",
       "      <td>0.398911</td>\n",
       "      <td>0.089135</td>\n",
       "      <td>0.546118</td>\n",
       "    </tr>\n",
       "    <tr>\n",
       "      <th>2497</th>\n",
       "      <td>-1.543164</td>\n",
       "      <td>0.396157</td>\n",
       "      <td>-0.835324</td>\n",
       "      <td>-0.237947</td>\n",
       "      <td>1.323972</td>\n",
       "      <td>-0.924922</td>\n",
       "      <td>1.247504</td>\n",
       "    </tr>\n",
       "    <tr>\n",
       "      <th>2498</th>\n",
       "      <td>2.496139</td>\n",
       "      <td>-0.522882</td>\n",
       "      <td>-0.596343</td>\n",
       "      <td>-0.270132</td>\n",
       "      <td>-0.216809</td>\n",
       "      <td>0.645548</td>\n",
       "      <td>-0.039547</td>\n",
       "    </tr>\n",
       "    <tr>\n",
       "      <th>2499</th>\n",
       "      <td>1.645942</td>\n",
       "      <td>-0.312014</td>\n",
       "      <td>-0.108100</td>\n",
       "      <td>-0.202916</td>\n",
       "      <td>-1.095299</td>\n",
       "      <td>0.635699</td>\n",
       "      <td>-0.356089</td>\n",
       "    </tr>\n",
       "  </tbody>\n",
       "</table>\n",
       "<p>2500 rows × 7 columns</p>\n",
       "</div>"
      ],
      "text/plain": [
       "             0         1         2         3         4         5         6\n",
       "0     4.600528 -0.553360  2.857718 -2.659537 -1.856719 -0.052942  0.779867\n",
       "1    -1.130288  0.226648 -0.803465 -0.374169  0.856398 -1.746941  0.443471\n",
       "2    -1.209931 -1.009314  0.412934  0.284155 -0.343729 -0.551009 -1.146559\n",
       "3     0.437202 -0.685267 -1.590749  0.618497  0.514861  0.372233 -0.567199\n",
       "4    -0.654539 -1.266421 -0.814035  0.359071  0.270033  0.412016  1.320854\n",
       "...        ...       ...       ...       ...       ...       ...       ...\n",
       "2495 -0.088810 -0.945166  0.563106 -1.174250 -1.187479  0.481681  1.989959\n",
       "2496 -1.628624 -0.893859 -1.968343 -0.514674  0.398911  0.089135  0.546118\n",
       "2497 -1.543164  0.396157 -0.835324 -0.237947  1.323972 -0.924922  1.247504\n",
       "2498  2.496139 -0.522882 -0.596343 -0.270132 -0.216809  0.645548 -0.039547\n",
       "2499  1.645942 -0.312014 -0.108100 -0.202916 -1.095299  0.635699 -0.356089\n",
       "\n",
       "[2500 rows x 7 columns]"
      ]
     },
     "execution_count": 170,
     "metadata": {},
     "output_type": "execute_result"
    }
   ],
   "source": [
    "pd.DataFrame(X_test_pca)"
   ]
  },
  {
   "cell_type": "code",
   "execution_count": 171,
   "id": "89b4e8cc",
   "metadata": {},
   "outputs": [],
   "source": [
    "# PCA visualisation\n",
    "#  PCA: correlation between original variables and variables after applying PCA"
   ]
  },
  {
   "cell_type": "code",
   "execution_count": 172,
   "id": "0ee98a5f",
   "metadata": {},
   "outputs": [
    {
     "data": {
      "text/plain": [
       "Text(0.5, 1.0, 'Correlation of in original data')"
      ]
     },
     "execution_count": 172,
     "metadata": {},
     "output_type": "execute_result"
    },
    {
     "data": {
      "image/png": "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\n",
      "text/plain": [
       "<Figure size 640x480 with 2 Axes>"
      ]
     },
     "metadata": {},
     "output_type": "display_data"
    }
   ],
   "source": [
    "import seaborn as sb\n",
    "\n",
    "corr = pd.DataFrame(X_train_scaled).corr()\n",
    "sb.heatmap(corr, \n",
    "            cmap='RdBu_r',\n",
    "            annot=False,\n",
    "            linewidth=0.5)\n",
    "plt.title('Correlation of in original data')"
   ]
  },
  {
   "cell_type": "code",
   "execution_count": 173,
   "id": "022f9514",
   "metadata": {},
   "outputs": [
    {
     "data": {
      "text/plain": [
       "Text(0.5, 1.0, 'Correlation of PC scores')"
      ]
     },
     "execution_count": 173,
     "metadata": {},
     "output_type": "execute_result"
    },
    {
     "data": {
      "image/png": "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\n",
      "text/plain": [
       "<Figure size 640x480 with 2 Axes>"
      ]
     },
     "metadata": {},
     "output_type": "display_data"
    }
   ],
   "source": [
    "X_train_pca = pca.transform(X_train_scaled)\n",
    "corr_pc = pd.DataFrame(X_train_pca).corr()\n",
    "sb.heatmap(corr_pc, \n",
    "            cmap='RdBu_r',\n",
    "            annot=True,\n",
    "            linewidth=0.5)\n",
    "plt.title('Correlation of PC scores')"
   ]
  },
  {
   "cell_type": "code",
   "execution_count": 174,
   "id": "9c641d9c",
   "metadata": {},
   "outputs": [
    {
     "name": "stderr",
     "output_type": "stream",
     "text": [
      "/var/folders/0j/8qpr4dtj39x29g5tw9dvh26m0000gn/T/ipykernel_60026/3303508222.py:5: UserWarning: This figure includes Axes that are not compatible with tight_layout, so results might be incorrect.\n",
      "  plt.tight_layout()\n"
     ]
    },
    {
     "data": {
      "image/png": "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\n",
      "text/plain": [
       "<Figure size 880x480 with 2 Axes>"
      ]
     },
     "metadata": {},
     "output_type": "display_data"
    }
   ],
   "source": [
    "plt.matshow(pca.components_[0:6], cmap='coolwarm')\n",
    "plt.yticks([0,1,2,3,4,5],['1st Comp','2nd Comp','3rd Comp','4th','5th','6th'],fontsize=10)\n",
    "plt.colorbar()\n",
    "plt.xticks(range(len(X.columns)),X.columns,rotation=65,ha='left')\n",
    "plt.tight_layout()\n",
    "plt.show()"
   ]
  },
  {
   "cell_type": "code",
   "execution_count": 175,
   "id": "3c9c22aa",
   "metadata": {},
   "outputs": [],
   "source": [
    "# We are not ranking, we are scaling!!! "
   ]
  },
  {
   "cell_type": "markdown",
   "id": "46433be0",
   "metadata": {},
   "source": [
    "# Chooing K"
   ]
  },
  {
   "cell_type": "code",
   "execution_count": 176,
   "id": "7a9f7a4a",
   "metadata": {
    "scrolled": true
   },
   "outputs": [
    {
     "data": {
      "text/html": [
       "<div>\n",
       "<style scoped>\n",
       "    .dataframe tbody tr th:only-of-type {\n",
       "        vertical-align: middle;\n",
       "    }\n",
       "\n",
       "    .dataframe tbody tr th {\n",
       "        vertical-align: top;\n",
       "    }\n",
       "\n",
       "    .dataframe thead th {\n",
       "        text-align: right;\n",
       "    }\n",
       "</style>\n",
       "<table border=\"1\" class=\"dataframe\">\n",
       "  <thead>\n",
       "    <tr style=\"text-align: right;\">\n",
       "      <th></th>\n",
       "      <th>danceability</th>\n",
       "      <th>energy</th>\n",
       "      <th>key</th>\n",
       "      <th>loudness</th>\n",
       "      <th>mode</th>\n",
       "      <th>speechiness</th>\n",
       "      <th>acousticness</th>\n",
       "      <th>instrumentalness</th>\n",
       "      <th>liveness</th>\n",
       "      <th>valence</th>\n",
       "      <th>tempo</th>\n",
       "    </tr>\n",
       "  </thead>\n",
       "  <tbody>\n",
       "    <tr>\n",
       "      <th>0</th>\n",
       "      <td>-0.533483</td>\n",
       "      <td>-1.854279</td>\n",
       "      <td>-0.067495</td>\n",
       "      <td>-1.633382</td>\n",
       "      <td>-1.370714</td>\n",
       "      <td>-0.306367</td>\n",
       "      <td>1.977985</td>\n",
       "      <td>2.788174</td>\n",
       "      <td>-0.552582</td>\n",
       "      <td>-1.411634</td>\n",
       "      <td>-0.005480</td>\n",
       "    </tr>\n",
       "    <tr>\n",
       "      <th>1</th>\n",
       "      <td>-0.166335</td>\n",
       "      <td>-1.846077</td>\n",
       "      <td>1.049979</td>\n",
       "      <td>-1.686974</td>\n",
       "      <td>-1.370714</td>\n",
       "      <td>-0.364120</td>\n",
       "      <td>1.891643</td>\n",
       "      <td>2.820617</td>\n",
       "      <td>1.125712</td>\n",
       "      <td>-1.141694</td>\n",
       "      <td>-1.167511</td>\n",
       "    </tr>\n",
       "    <tr>\n",
       "      <th>2</th>\n",
       "      <td>0.363989</td>\n",
       "      <td>-1.796867</td>\n",
       "      <td>1.049979</td>\n",
       "      <td>-1.944175</td>\n",
       "      <td>-1.370714</td>\n",
       "      <td>-0.351079</td>\n",
       "      <td>1.984152</td>\n",
       "      <td>2.860269</td>\n",
       "      <td>-0.464562</td>\n",
       "      <td>-1.510612</td>\n",
       "      <td>-0.059997</td>\n",
       "    </tr>\n",
       "    <tr>\n",
       "      <th>3</th>\n",
       "      <td>-0.119714</td>\n",
       "      <td>-1.796867</td>\n",
       "      <td>0.491242</td>\n",
       "      <td>-1.629596</td>\n",
       "      <td>-1.370714</td>\n",
       "      <td>-0.410694</td>\n",
       "      <td>1.956399</td>\n",
       "      <td>2.957598</td>\n",
       "      <td>0.948193</td>\n",
       "      <td>-1.332901</td>\n",
       "      <td>0.219978</td>\n",
       "    </tr>\n",
       "    <tr>\n",
       "      <th>4</th>\n",
       "      <td>-0.784076</td>\n",
       "      <td>-2.030204</td>\n",
       "      <td>-1.184970</td>\n",
       "      <td>-2.910824</td>\n",
       "      <td>0.729547</td>\n",
       "      <td>-0.373434</td>\n",
       "      <td>1.805302</td>\n",
       "      <td>2.809803</td>\n",
       "      <td>-0.405389</td>\n",
       "      <td>-1.524109</td>\n",
       "      <td>-0.660157</td>\n",
       "    </tr>\n",
       "  </tbody>\n",
       "</table>\n",
       "</div>"
      ],
      "text/plain": [
       "   danceability    energy       key  loudness      mode  speechiness  \\\n",
       "0     -0.533483 -1.854279 -0.067495 -1.633382 -1.370714    -0.306367   \n",
       "1     -0.166335 -1.846077  1.049979 -1.686974 -1.370714    -0.364120   \n",
       "2      0.363989 -1.796867  1.049979 -1.944175 -1.370714    -0.351079   \n",
       "3     -0.119714 -1.796867  0.491242 -1.629596 -1.370714    -0.410694   \n",
       "4     -0.784076 -2.030204 -1.184970 -2.910824  0.729547    -0.373434   \n",
       "\n",
       "   acousticness  instrumentalness  liveness   valence     tempo  \n",
       "0      1.977985          2.788174 -0.552582 -1.411634 -0.005480  \n",
       "1      1.891643          2.820617  1.125712 -1.141694 -1.167511  \n",
       "2      1.984152          2.860269 -0.464562 -1.510612 -0.059997  \n",
       "3      1.956399          2.957598  0.948193 -1.332901  0.219978  \n",
       "4      1.805302          2.809803 -0.405389 -1.524109 -0.660157  "
      ]
     },
     "execution_count": 176,
     "metadata": {},
     "output_type": "execute_result"
    }
   ],
   "source": [
    "from sklearn.preprocessing import StandardScaler\n",
    "X_prep = StandardScaler().fit_transform(X) # X is all the extracted features from songs \n",
    "\n",
    "# Now, all features will have the same weight.\n",
    "pd.DataFrame(X_prep,columns=X.columns).head()"
   ]
  },
  {
   "cell_type": "code",
   "execution_count": 177,
   "id": "f6d17fef",
   "metadata": {},
   "outputs": [
    {
     "name": "stdout",
     "output_type": "stream",
     "text": [
      "CPU times: user 19.3 s, sys: 3.36 s, total: 22.7 s\n",
      "Wall time: 15 s\n"
     ]
    },
    {
     "data": {
      "text/plain": [
       "Text(0.5, 1.0, 'Elbow Method showing the optimal k')"
      ]
     },
     "execution_count": 177,
     "metadata": {},
     "output_type": "execute_result"
    },
    {
     "data": {
      "image/png": "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\n",
      "text/plain": [
       "<Figure size 1600x800 with 1 Axes>"
      ]
     },
     "metadata": {},
     "output_type": "display_data"
    }
   ],
   "source": [
    "%%time\n",
    "from sklearn.cluster import KMeans\n",
    "import numpy as np\n",
    "K = range(2, 20)\n",
    "inertia = []\n",
    "\n",
    "for k in K:\n",
    "    kmeans = KMeans(n_clusters=k,\n",
    "                    random_state=1234)\n",
    "    kmeans.fit(X_prep)\n",
    "    inertia.append(kmeans.inertia_)\n",
    "\n",
    "import matplotlib.pyplot as plt\n",
    "%matplotlib inline\n",
    "\n",
    "plt.figure(figsize=(16,8))\n",
    "plt.plot(K, inertia, 'bx-')\n",
    "plt.xlabel('k')\n",
    "plt.ylabel('inertia')\n",
    "plt.xticks(np.arange(min(K), max(K)+1, 1.0))\n",
    "plt.title('Elbow Method showing the optimal k') \n",
    "\n",
    "# elbow is around 10 aka optimum number of clusters "
   ]
  },
  {
   "cell_type": "code",
   "execution_count": 178,
   "id": "7711ab23",
   "metadata": {
    "scrolled": false
   },
   "outputs": [
    {
     "name": "stdout",
     "output_type": "stream",
     "text": [
      "CPU times: user 1min 11s, sys: 20.5 s, total: 1min 31s\n",
      "Wall time: 1min\n"
     ]
    },
    {
     "data": {
      "text/plain": [
       "Text(0.5, 1.0, 'Slhouette score showing the optimal k')"
      ]
     },
     "execution_count": 178,
     "metadata": {},
     "output_type": "execute_result"
    },
    {
     "data": {
      "image/png": "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\n",
      "text/plain": [
       "<Figure size 1600x800 with 1 Axes>"
      ]
     },
     "metadata": {},
     "output_type": "display_data"
    }
   ],
   "source": [
    "%%time\n",
    "from sklearn.metrics import silhouette_score\n",
    "K = range(2, 20)\n",
    "silhouette = []\n",
    "\n",
    "for k in K:\n",
    "    kmeans = KMeans(n_clusters=k,\n",
    "                    random_state=1234)\n",
    "    kmeans.fit(X_prep)\n",
    "    silhouette.append(silhouette_score(X_prep, kmeans.predict(X_prep)))\n",
    "\n",
    "\n",
    "plt.figure(figsize=(16,8))\n",
    "plt.plot(K, silhouette, 'bx-')\n",
    "plt.xlabel('k')\n",
    "plt.ylabel('silhouette score')\n",
    "plt.xticks(np.arange(min(K), max(K)+1, 1.0))\n",
    "plt.title('Slhouette score showing the optimal k')\n",
    "\n",
    "# the highest point shows me the opimal value for clasters aka 6"
   ]
  },
  {
   "cell_type": "code",
   "execution_count": 179,
   "id": "c4916ff4",
   "metadata": {},
   "outputs": [
    {
     "name": "stdout",
     "output_type": "stream",
     "text": [
      "70360.48929606218\n",
      "CPU times: user 4 s, sys: 194 ms, total: 4.19 s\n",
      "Wall time: 1.24 s\n"
     ]
    }
   ],
   "source": [
    "%%time\n",
    "kmeans = KMeans(n_clusters=6,\n",
    "                init=\"random\",\n",
    "                n_init=100,  # try with 1, 4, 8, 20, 30, 100...\n",
    "                max_iter=10,\n",
    "                tol=0,\n",
    "                random_state=1234)\n",
    "\n",
    "kmeans.fit(X_prep)\n",
    "print(kmeans.inertia_)"
   ]
  }
 ],
 "metadata": {
  "kernelspec": {
   "display_name": "Python 3 (ipykernel)",
   "language": "python",
   "name": "python3"
  },
  "language_info": {
   "codemirror_mode": {
    "name": "ipython",
    "version": 3
   },
   "file_extension": ".py",
   "mimetype": "text/x-python",
   "name": "python",
   "nbconvert_exporter": "python",
   "pygments_lexer": "ipython3",
   "version": "3.9.12"
  }
 },
 "nbformat": 4,
 "nbformat_minor": 5
}
